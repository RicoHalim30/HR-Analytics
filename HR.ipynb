{
  "nbformat": 4,
  "nbformat_minor": 0,
  "metadata": {
    "colab": {
      "provenance": [],
      "mount_file_id": "1McjWyryXeMwIC6hS939gjULZYbMunzrL",
      "authorship_tag": "ABX9TyMpzcI2mU4uEr4SYSgJ74W/",
      "include_colab_link": true
    },
    "kernelspec": {
      "name": "python3",
      "display_name": "Python 3"
    },
    "language_info": {
      "name": "python"
    }
  },
  "cells": [
    {
      "cell_type": "markdown",
      "metadata": {
        "id": "view-in-github",
        "colab_type": "text"
      },
      "source": [
        "<a href=\"https://colab.research.google.com/github/RicoHalim30/HR-Analytics/blob/main/HR.ipynb\" target=\"_parent\"><img src=\"https://colab.research.google.com/assets/colab-badge.svg\" alt=\"Open In Colab\"/></a>"
      ]
    },
    {
      "cell_type": "markdown",
      "source": [
        "**Resource:** [HR Analytics: Job Change of Data Scientists](https://www.kaggle.com/datasets/arashnic/hr-analytics-job-change-of-data-scientists)"
      ],
      "metadata": {
        "id": "0g15sOI4BJdL"
      }
    },
    {
      "cell_type": "code",
      "execution_count": 1,
      "metadata": {
        "id": "pmTxE_hurJJL"
      },
      "outputs": [],
      "source": [
        "import pandas as pd\n",
        "import numpy as np\n",
        "import matplotlib.pyplot as plt\n",
        "import seaborn as sns\n",
        "\n",
        "from sklearn import preprocessing\n",
        "from sklearn.model_selection import train_test_split\n",
        "\n",
        "\n",
        "from sklearn.neighbors import KNeighborsClassifier\n",
        "from sklearn.linear_model import LogisticRegression\n",
        "from sklearn.naive_bayes import GaussianNB\n",
        "from sklearn import svm\n",
        "from sklearn import tree\n",
        "\n",
        "from sklearn import metrics"
      ]
    },
    {
      "cell_type": "markdown",
      "source": [
        "# **First Step**"
      ],
      "metadata": {
        "id": "Zcj9vkVNXX-E"
      }
    },
    {
      "cell_type": "code",
      "source": [
        "train_data = pd.read_csv(\"/content/drive/MyDrive/Data Science Rakamin Batch 31/Dataset/aug_train.csv\")\n",
        "train_data.head()"
      ],
      "metadata": {
        "colab": {
          "base_uri": "https://localhost:8080/",
          "height": 305
        },
        "id": "h1tmixX5tBQ4",
        "outputId": "280b595b-71d4-436c-c9da-ce2fa17ce1a0"
      },
      "execution_count": 2,
      "outputs": [
        {
          "output_type": "execute_result",
          "data": {
            "text/plain": [
              "   enrollee_id      city  city_development_index gender  \\\n",
              "0         8949  city_103                   0.920   Male   \n",
              "1        29725   city_40                   0.776   Male   \n",
              "2        11561   city_21                   0.624    NaN   \n",
              "3        33241  city_115                   0.789    NaN   \n",
              "4          666  city_162                   0.767   Male   \n",
              "\n",
              "       relevent_experience enrolled_university education_level  \\\n",
              "0  Has relevent experience       no_enrollment        Graduate   \n",
              "1   No relevent experience       no_enrollment        Graduate   \n",
              "2   No relevent experience    Full time course        Graduate   \n",
              "3   No relevent experience                 NaN        Graduate   \n",
              "4  Has relevent experience       no_enrollment         Masters   \n",
              "\n",
              "  major_discipline experience company_size    company_type last_new_job  \\\n",
              "0             STEM        >20          NaN             NaN            1   \n",
              "1             STEM         15        50-99         Pvt Ltd           >4   \n",
              "2             STEM          5          NaN             NaN        never   \n",
              "3  Business Degree         <1          NaN         Pvt Ltd        never   \n",
              "4             STEM        >20        50-99  Funded Startup            4   \n",
              "\n",
              "   training_hours  target  \n",
              "0              36     1.0  \n",
              "1              47     0.0  \n",
              "2              83     0.0  \n",
              "3              52     1.0  \n",
              "4               8     0.0  "
            ],
            "text/html": [
              "\n",
              "  <div id=\"df-c356fb56-12f9-4cf4-9bc7-bd1cae453d2d\">\n",
              "    <div class=\"colab-df-container\">\n",
              "      <div>\n",
              "<style scoped>\n",
              "    .dataframe tbody tr th:only-of-type {\n",
              "        vertical-align: middle;\n",
              "    }\n",
              "\n",
              "    .dataframe tbody tr th {\n",
              "        vertical-align: top;\n",
              "    }\n",
              "\n",
              "    .dataframe thead th {\n",
              "        text-align: right;\n",
              "    }\n",
              "</style>\n",
              "<table border=\"1\" class=\"dataframe\">\n",
              "  <thead>\n",
              "    <tr style=\"text-align: right;\">\n",
              "      <th></th>\n",
              "      <th>enrollee_id</th>\n",
              "      <th>city</th>\n",
              "      <th>city_development_index</th>\n",
              "      <th>gender</th>\n",
              "      <th>relevent_experience</th>\n",
              "      <th>enrolled_university</th>\n",
              "      <th>education_level</th>\n",
              "      <th>major_discipline</th>\n",
              "      <th>experience</th>\n",
              "      <th>company_size</th>\n",
              "      <th>company_type</th>\n",
              "      <th>last_new_job</th>\n",
              "      <th>training_hours</th>\n",
              "      <th>target</th>\n",
              "    </tr>\n",
              "  </thead>\n",
              "  <tbody>\n",
              "    <tr>\n",
              "      <th>0</th>\n",
              "      <td>8949</td>\n",
              "      <td>city_103</td>\n",
              "      <td>0.920</td>\n",
              "      <td>Male</td>\n",
              "      <td>Has relevent experience</td>\n",
              "      <td>no_enrollment</td>\n",
              "      <td>Graduate</td>\n",
              "      <td>STEM</td>\n",
              "      <td>&gt;20</td>\n",
              "      <td>NaN</td>\n",
              "      <td>NaN</td>\n",
              "      <td>1</td>\n",
              "      <td>36</td>\n",
              "      <td>1.0</td>\n",
              "    </tr>\n",
              "    <tr>\n",
              "      <th>1</th>\n",
              "      <td>29725</td>\n",
              "      <td>city_40</td>\n",
              "      <td>0.776</td>\n",
              "      <td>Male</td>\n",
              "      <td>No relevent experience</td>\n",
              "      <td>no_enrollment</td>\n",
              "      <td>Graduate</td>\n",
              "      <td>STEM</td>\n",
              "      <td>15</td>\n",
              "      <td>50-99</td>\n",
              "      <td>Pvt Ltd</td>\n",
              "      <td>&gt;4</td>\n",
              "      <td>47</td>\n",
              "      <td>0.0</td>\n",
              "    </tr>\n",
              "    <tr>\n",
              "      <th>2</th>\n",
              "      <td>11561</td>\n",
              "      <td>city_21</td>\n",
              "      <td>0.624</td>\n",
              "      <td>NaN</td>\n",
              "      <td>No relevent experience</td>\n",
              "      <td>Full time course</td>\n",
              "      <td>Graduate</td>\n",
              "      <td>STEM</td>\n",
              "      <td>5</td>\n",
              "      <td>NaN</td>\n",
              "      <td>NaN</td>\n",
              "      <td>never</td>\n",
              "      <td>83</td>\n",
              "      <td>0.0</td>\n",
              "    </tr>\n",
              "    <tr>\n",
              "      <th>3</th>\n",
              "      <td>33241</td>\n",
              "      <td>city_115</td>\n",
              "      <td>0.789</td>\n",
              "      <td>NaN</td>\n",
              "      <td>No relevent experience</td>\n",
              "      <td>NaN</td>\n",
              "      <td>Graduate</td>\n",
              "      <td>Business Degree</td>\n",
              "      <td>&lt;1</td>\n",
              "      <td>NaN</td>\n",
              "      <td>Pvt Ltd</td>\n",
              "      <td>never</td>\n",
              "      <td>52</td>\n",
              "      <td>1.0</td>\n",
              "    </tr>\n",
              "    <tr>\n",
              "      <th>4</th>\n",
              "      <td>666</td>\n",
              "      <td>city_162</td>\n",
              "      <td>0.767</td>\n",
              "      <td>Male</td>\n",
              "      <td>Has relevent experience</td>\n",
              "      <td>no_enrollment</td>\n",
              "      <td>Masters</td>\n",
              "      <td>STEM</td>\n",
              "      <td>&gt;20</td>\n",
              "      <td>50-99</td>\n",
              "      <td>Funded Startup</td>\n",
              "      <td>4</td>\n",
              "      <td>8</td>\n",
              "      <td>0.0</td>\n",
              "    </tr>\n",
              "  </tbody>\n",
              "</table>\n",
              "</div>\n",
              "      <button class=\"colab-df-convert\" onclick=\"convertToInteractive('df-c356fb56-12f9-4cf4-9bc7-bd1cae453d2d')\"\n",
              "              title=\"Convert this dataframe to an interactive table.\"\n",
              "              style=\"display:none;\">\n",
              "        \n",
              "  <svg xmlns=\"http://www.w3.org/2000/svg\" height=\"24px\"viewBox=\"0 0 24 24\"\n",
              "       width=\"24px\">\n",
              "    <path d=\"M0 0h24v24H0V0z\" fill=\"none\"/>\n",
              "    <path d=\"M18.56 5.44l.94 2.06.94-2.06 2.06-.94-2.06-.94-.94-2.06-.94 2.06-2.06.94zm-11 1L8.5 8.5l.94-2.06 2.06-.94-2.06-.94L8.5 2.5l-.94 2.06-2.06.94zm10 10l.94 2.06.94-2.06 2.06-.94-2.06-.94-.94-2.06-.94 2.06-2.06.94z\"/><path d=\"M17.41 7.96l-1.37-1.37c-.4-.4-.92-.59-1.43-.59-.52 0-1.04.2-1.43.59L10.3 9.45l-7.72 7.72c-.78.78-.78 2.05 0 2.83L4 21.41c.39.39.9.59 1.41.59.51 0 1.02-.2 1.41-.59l7.78-7.78 2.81-2.81c.8-.78.8-2.07 0-2.86zM5.41 20L4 18.59l7.72-7.72 1.47 1.35L5.41 20z\"/>\n",
              "  </svg>\n",
              "      </button>\n",
              "      \n",
              "  <style>\n",
              "    .colab-df-container {\n",
              "      display:flex;\n",
              "      flex-wrap:wrap;\n",
              "      gap: 12px;\n",
              "    }\n",
              "\n",
              "    .colab-df-convert {\n",
              "      background-color: #E8F0FE;\n",
              "      border: none;\n",
              "      border-radius: 50%;\n",
              "      cursor: pointer;\n",
              "      display: none;\n",
              "      fill: #1967D2;\n",
              "      height: 32px;\n",
              "      padding: 0 0 0 0;\n",
              "      width: 32px;\n",
              "    }\n",
              "\n",
              "    .colab-df-convert:hover {\n",
              "      background-color: #E2EBFA;\n",
              "      box-shadow: 0px 1px 2px rgba(60, 64, 67, 0.3), 0px 1px 3px 1px rgba(60, 64, 67, 0.15);\n",
              "      fill: #174EA6;\n",
              "    }\n",
              "\n",
              "    [theme=dark] .colab-df-convert {\n",
              "      background-color: #3B4455;\n",
              "      fill: #D2E3FC;\n",
              "    }\n",
              "\n",
              "    [theme=dark] .colab-df-convert:hover {\n",
              "      background-color: #434B5C;\n",
              "      box-shadow: 0px 1px 3px 1px rgba(0, 0, 0, 0.15);\n",
              "      filter: drop-shadow(0px 1px 2px rgba(0, 0, 0, 0.3));\n",
              "      fill: #FFFFFF;\n",
              "    }\n",
              "  </style>\n",
              "\n",
              "      <script>\n",
              "        const buttonEl =\n",
              "          document.querySelector('#df-c356fb56-12f9-4cf4-9bc7-bd1cae453d2d button.colab-df-convert');\n",
              "        buttonEl.style.display =\n",
              "          google.colab.kernel.accessAllowed ? 'block' : 'none';\n",
              "\n",
              "        async function convertToInteractive(key) {\n",
              "          const element = document.querySelector('#df-c356fb56-12f9-4cf4-9bc7-bd1cae453d2d');\n",
              "          const dataTable =\n",
              "            await google.colab.kernel.invokeFunction('convertToInteractive',\n",
              "                                                     [key], {});\n",
              "          if (!dataTable) return;\n",
              "\n",
              "          const docLinkHtml = 'Like what you see? Visit the ' +\n",
              "            '<a target=\"_blank\" href=https://colab.research.google.com/notebooks/data_table.ipynb>data table notebook</a>'\n",
              "            + ' to learn more about interactive tables.';\n",
              "          element.innerHTML = '';\n",
              "          dataTable['output_type'] = 'display_data';\n",
              "          await google.colab.output.renderOutput(dataTable, element);\n",
              "          const docLink = document.createElement('div');\n",
              "          docLink.innerHTML = docLinkHtml;\n",
              "          element.appendChild(docLink);\n",
              "        }\n",
              "      </script>\n",
              "    </div>\n",
              "  </div>\n",
              "  "
            ]
          },
          "metadata": {},
          "execution_count": 2
        }
      ]
    },
    {
      "cell_type": "code",
      "source": [
        "test_data = pd.read_csv(\"/content/drive/MyDrive/Data Science Rakamin Batch 31/Dataset/aug_test.csv\")\n",
        "test_data.head()"
      ],
      "metadata": {
        "colab": {
          "base_uri": "https://localhost:8080/",
          "height": 340
        },
        "id": "cCrLqftCMkgV",
        "outputId": "0d58640f-e410-45b6-d49a-e5851fb127ba"
      },
      "execution_count": 3,
      "outputs": [
        {
          "output_type": "execute_result",
          "data": {
            "text/plain": [
              "   enrollee_id      city  city_development_index  gender  \\\n",
              "0        32403   city_41                   0.827    Male   \n",
              "1         9858  city_103                   0.920  Female   \n",
              "2        31806   city_21                   0.624    Male   \n",
              "3        27385   city_13                   0.827    Male   \n",
              "4        27724  city_103                   0.920    Male   \n",
              "\n",
              "       relevent_experience enrolled_university education_level  \\\n",
              "0  Has relevent experience    Full time course        Graduate   \n",
              "1  Has relevent experience       no_enrollment        Graduate   \n",
              "2   No relevent experience       no_enrollment     High School   \n",
              "3  Has relevent experience       no_enrollment         Masters   \n",
              "4  Has relevent experience       no_enrollment        Graduate   \n",
              "\n",
              "  major_discipline experience company_size company_type last_new_job  \\\n",
              "0             STEM          9          <10          NaN            1   \n",
              "1             STEM          5          NaN      Pvt Ltd            1   \n",
              "2              NaN         <1          NaN      Pvt Ltd        never   \n",
              "3             STEM         11        10/49      Pvt Ltd            1   \n",
              "4             STEM        >20       10000+      Pvt Ltd           >4   \n",
              "\n",
              "   training_hours  \n",
              "0              21  \n",
              "1              98  \n",
              "2              15  \n",
              "3              39  \n",
              "4              72  "
            ],
            "text/html": [
              "\n",
              "  <div id=\"df-e5a96495-9018-4d21-8bd2-f8c6b4e9084c\">\n",
              "    <div class=\"colab-df-container\">\n",
              "      <div>\n",
              "<style scoped>\n",
              "    .dataframe tbody tr th:only-of-type {\n",
              "        vertical-align: middle;\n",
              "    }\n",
              "\n",
              "    .dataframe tbody tr th {\n",
              "        vertical-align: top;\n",
              "    }\n",
              "\n",
              "    .dataframe thead th {\n",
              "        text-align: right;\n",
              "    }\n",
              "</style>\n",
              "<table border=\"1\" class=\"dataframe\">\n",
              "  <thead>\n",
              "    <tr style=\"text-align: right;\">\n",
              "      <th></th>\n",
              "      <th>enrollee_id</th>\n",
              "      <th>city</th>\n",
              "      <th>city_development_index</th>\n",
              "      <th>gender</th>\n",
              "      <th>relevent_experience</th>\n",
              "      <th>enrolled_university</th>\n",
              "      <th>education_level</th>\n",
              "      <th>major_discipline</th>\n",
              "      <th>experience</th>\n",
              "      <th>company_size</th>\n",
              "      <th>company_type</th>\n",
              "      <th>last_new_job</th>\n",
              "      <th>training_hours</th>\n",
              "    </tr>\n",
              "  </thead>\n",
              "  <tbody>\n",
              "    <tr>\n",
              "      <th>0</th>\n",
              "      <td>32403</td>\n",
              "      <td>city_41</td>\n",
              "      <td>0.827</td>\n",
              "      <td>Male</td>\n",
              "      <td>Has relevent experience</td>\n",
              "      <td>Full time course</td>\n",
              "      <td>Graduate</td>\n",
              "      <td>STEM</td>\n",
              "      <td>9</td>\n",
              "      <td>&lt;10</td>\n",
              "      <td>NaN</td>\n",
              "      <td>1</td>\n",
              "      <td>21</td>\n",
              "    </tr>\n",
              "    <tr>\n",
              "      <th>1</th>\n",
              "      <td>9858</td>\n",
              "      <td>city_103</td>\n",
              "      <td>0.920</td>\n",
              "      <td>Female</td>\n",
              "      <td>Has relevent experience</td>\n",
              "      <td>no_enrollment</td>\n",
              "      <td>Graduate</td>\n",
              "      <td>STEM</td>\n",
              "      <td>5</td>\n",
              "      <td>NaN</td>\n",
              "      <td>Pvt Ltd</td>\n",
              "      <td>1</td>\n",
              "      <td>98</td>\n",
              "    </tr>\n",
              "    <tr>\n",
              "      <th>2</th>\n",
              "      <td>31806</td>\n",
              "      <td>city_21</td>\n",
              "      <td>0.624</td>\n",
              "      <td>Male</td>\n",
              "      <td>No relevent experience</td>\n",
              "      <td>no_enrollment</td>\n",
              "      <td>High School</td>\n",
              "      <td>NaN</td>\n",
              "      <td>&lt;1</td>\n",
              "      <td>NaN</td>\n",
              "      <td>Pvt Ltd</td>\n",
              "      <td>never</td>\n",
              "      <td>15</td>\n",
              "    </tr>\n",
              "    <tr>\n",
              "      <th>3</th>\n",
              "      <td>27385</td>\n",
              "      <td>city_13</td>\n",
              "      <td>0.827</td>\n",
              "      <td>Male</td>\n",
              "      <td>Has relevent experience</td>\n",
              "      <td>no_enrollment</td>\n",
              "      <td>Masters</td>\n",
              "      <td>STEM</td>\n",
              "      <td>11</td>\n",
              "      <td>10/49</td>\n",
              "      <td>Pvt Ltd</td>\n",
              "      <td>1</td>\n",
              "      <td>39</td>\n",
              "    </tr>\n",
              "    <tr>\n",
              "      <th>4</th>\n",
              "      <td>27724</td>\n",
              "      <td>city_103</td>\n",
              "      <td>0.920</td>\n",
              "      <td>Male</td>\n",
              "      <td>Has relevent experience</td>\n",
              "      <td>no_enrollment</td>\n",
              "      <td>Graduate</td>\n",
              "      <td>STEM</td>\n",
              "      <td>&gt;20</td>\n",
              "      <td>10000+</td>\n",
              "      <td>Pvt Ltd</td>\n",
              "      <td>&gt;4</td>\n",
              "      <td>72</td>\n",
              "    </tr>\n",
              "  </tbody>\n",
              "</table>\n",
              "</div>\n",
              "      <button class=\"colab-df-convert\" onclick=\"convertToInteractive('df-e5a96495-9018-4d21-8bd2-f8c6b4e9084c')\"\n",
              "              title=\"Convert this dataframe to an interactive table.\"\n",
              "              style=\"display:none;\">\n",
              "        \n",
              "  <svg xmlns=\"http://www.w3.org/2000/svg\" height=\"24px\"viewBox=\"0 0 24 24\"\n",
              "       width=\"24px\">\n",
              "    <path d=\"M0 0h24v24H0V0z\" fill=\"none\"/>\n",
              "    <path d=\"M18.56 5.44l.94 2.06.94-2.06 2.06-.94-2.06-.94-.94-2.06-.94 2.06-2.06.94zm-11 1L8.5 8.5l.94-2.06 2.06-.94-2.06-.94L8.5 2.5l-.94 2.06-2.06.94zm10 10l.94 2.06.94-2.06 2.06-.94-2.06-.94-.94-2.06-.94 2.06-2.06.94z\"/><path d=\"M17.41 7.96l-1.37-1.37c-.4-.4-.92-.59-1.43-.59-.52 0-1.04.2-1.43.59L10.3 9.45l-7.72 7.72c-.78.78-.78 2.05 0 2.83L4 21.41c.39.39.9.59 1.41.59.51 0 1.02-.2 1.41-.59l7.78-7.78 2.81-2.81c.8-.78.8-2.07 0-2.86zM5.41 20L4 18.59l7.72-7.72 1.47 1.35L5.41 20z\"/>\n",
              "  </svg>\n",
              "      </button>\n",
              "      \n",
              "  <style>\n",
              "    .colab-df-container {\n",
              "      display:flex;\n",
              "      flex-wrap:wrap;\n",
              "      gap: 12px;\n",
              "    }\n",
              "\n",
              "    .colab-df-convert {\n",
              "      background-color: #E8F0FE;\n",
              "      border: none;\n",
              "      border-radius: 50%;\n",
              "      cursor: pointer;\n",
              "      display: none;\n",
              "      fill: #1967D2;\n",
              "      height: 32px;\n",
              "      padding: 0 0 0 0;\n",
              "      width: 32px;\n",
              "    }\n",
              "\n",
              "    .colab-df-convert:hover {\n",
              "      background-color: #E2EBFA;\n",
              "      box-shadow: 0px 1px 2px rgba(60, 64, 67, 0.3), 0px 1px 3px 1px rgba(60, 64, 67, 0.15);\n",
              "      fill: #174EA6;\n",
              "    }\n",
              "\n",
              "    [theme=dark] .colab-df-convert {\n",
              "      background-color: #3B4455;\n",
              "      fill: #D2E3FC;\n",
              "    }\n",
              "\n",
              "    [theme=dark] .colab-df-convert:hover {\n",
              "      background-color: #434B5C;\n",
              "      box-shadow: 0px 1px 3px 1px rgba(0, 0, 0, 0.15);\n",
              "      filter: drop-shadow(0px 1px 2px rgba(0, 0, 0, 0.3));\n",
              "      fill: #FFFFFF;\n",
              "    }\n",
              "  </style>\n",
              "\n",
              "      <script>\n",
              "        const buttonEl =\n",
              "          document.querySelector('#df-e5a96495-9018-4d21-8bd2-f8c6b4e9084c button.colab-df-convert');\n",
              "        buttonEl.style.display =\n",
              "          google.colab.kernel.accessAllowed ? 'block' : 'none';\n",
              "\n",
              "        async function convertToInteractive(key) {\n",
              "          const element = document.querySelector('#df-e5a96495-9018-4d21-8bd2-f8c6b4e9084c');\n",
              "          const dataTable =\n",
              "            await google.colab.kernel.invokeFunction('convertToInteractive',\n",
              "                                                     [key], {});\n",
              "          if (!dataTable) return;\n",
              "\n",
              "          const docLinkHtml = 'Like what you see? Visit the ' +\n",
              "            '<a target=\"_blank\" href=https://colab.research.google.com/notebooks/data_table.ipynb>data table notebook</a>'\n",
              "            + ' to learn more about interactive tables.';\n",
              "          element.innerHTML = '';\n",
              "          dataTable['output_type'] = 'display_data';\n",
              "          await google.colab.output.renderOutput(dataTable, element);\n",
              "          const docLink = document.createElement('div');\n",
              "          docLink.innerHTML = docLinkHtml;\n",
              "          element.appendChild(docLink);\n",
              "        }\n",
              "      </script>\n",
              "    </div>\n",
              "  </div>\n",
              "  "
            ]
          },
          "metadata": {},
          "execution_count": 3
        }
      ]
    },
    {
      "cell_type": "code",
      "source": [
        "train_data.info()"
      ],
      "metadata": {
        "colab": {
          "base_uri": "https://localhost:8080/"
        },
        "id": "EP-xyg0mtb0a",
        "outputId": "1c56b44c-20d4-4158-ec84-652b1ddcb734"
      },
      "execution_count": 4,
      "outputs": [
        {
          "output_type": "stream",
          "name": "stdout",
          "text": [
            "<class 'pandas.core.frame.DataFrame'>\n",
            "RangeIndex: 19158 entries, 0 to 19157\n",
            "Data columns (total 14 columns):\n",
            " #   Column                  Non-Null Count  Dtype  \n",
            "---  ------                  --------------  -----  \n",
            " 0   enrollee_id             19158 non-null  int64  \n",
            " 1   city                    19158 non-null  object \n",
            " 2   city_development_index  19158 non-null  float64\n",
            " 3   gender                  14650 non-null  object \n",
            " 4   relevent_experience     19158 non-null  object \n",
            " 5   enrolled_university     18772 non-null  object \n",
            " 6   education_level         18698 non-null  object \n",
            " 7   major_discipline        16345 non-null  object \n",
            " 8   experience              19093 non-null  object \n",
            " 9   company_size            13220 non-null  object \n",
            " 10  company_type            13018 non-null  object \n",
            " 11  last_new_job            18735 non-null  object \n",
            " 12  training_hours          19158 non-null  int64  \n",
            " 13  target                  19158 non-null  float64\n",
            "dtypes: float64(2), int64(2), object(10)\n",
            "memory usage: 2.0+ MB\n"
          ]
        }
      ]
    },
    {
      "cell_type": "code",
      "source": [
        "test_data.info()"
      ],
      "metadata": {
        "colab": {
          "base_uri": "https://localhost:8080/"
        },
        "id": "-oQJMBFEMxKE",
        "outputId": "db8cd737-0154-445a-ad56-104bc8bdf51e"
      },
      "execution_count": 5,
      "outputs": [
        {
          "output_type": "stream",
          "name": "stdout",
          "text": [
            "<class 'pandas.core.frame.DataFrame'>\n",
            "RangeIndex: 2129 entries, 0 to 2128\n",
            "Data columns (total 13 columns):\n",
            " #   Column                  Non-Null Count  Dtype  \n",
            "---  ------                  --------------  -----  \n",
            " 0   enrollee_id             2129 non-null   int64  \n",
            " 1   city                    2129 non-null   object \n",
            " 2   city_development_index  2129 non-null   float64\n",
            " 3   gender                  1621 non-null   object \n",
            " 4   relevent_experience     2129 non-null   object \n",
            " 5   enrolled_university     2098 non-null   object \n",
            " 6   education_level         2077 non-null   object \n",
            " 7   major_discipline        1817 non-null   object \n",
            " 8   experience              2124 non-null   object \n",
            " 9   company_size            1507 non-null   object \n",
            " 10  company_type            1495 non-null   object \n",
            " 11  last_new_job            2089 non-null   object \n",
            " 12  training_hours          2129 non-null   int64  \n",
            "dtypes: float64(1), int64(2), object(10)\n",
            "memory usage: 216.4+ KB\n"
          ]
        }
      ]
    },
    {
      "cell_type": "code",
      "source": [
        "train_data.isnull().sum()"
      ],
      "metadata": {
        "colab": {
          "base_uri": "https://localhost:8080/"
        },
        "id": "jn1ekdD4t_zo",
        "outputId": "03059999-8746-4bc8-c529-bee40ed14b2a"
      },
      "execution_count": 6,
      "outputs": [
        {
          "output_type": "execute_result",
          "data": {
            "text/plain": [
              "enrollee_id                  0\n",
              "city                         0\n",
              "city_development_index       0\n",
              "gender                    4508\n",
              "relevent_experience          0\n",
              "enrolled_university        386\n",
              "education_level            460\n",
              "major_discipline          2813\n",
              "experience                  65\n",
              "company_size              5938\n",
              "company_type              6140\n",
              "last_new_job               423\n",
              "training_hours               0\n",
              "target                       0\n",
              "dtype: int64"
            ]
          },
          "metadata": {},
          "execution_count": 6
        }
      ]
    },
    {
      "cell_type": "code",
      "source": [
        "test_data.isnull().sum()"
      ],
      "metadata": {
        "colab": {
          "base_uri": "https://localhost:8080/"
        },
        "id": "MbdWipK3M3Xp",
        "outputId": "6c2bb078-1a89-4345-fce4-41e2fef371e4"
      },
      "execution_count": 7,
      "outputs": [
        {
          "output_type": "execute_result",
          "data": {
            "text/plain": [
              "enrollee_id                 0\n",
              "city                        0\n",
              "city_development_index      0\n",
              "gender                    508\n",
              "relevent_experience         0\n",
              "enrolled_university        31\n",
              "education_level            52\n",
              "major_discipline          312\n",
              "experience                  5\n",
              "company_size              622\n",
              "company_type              634\n",
              "last_new_job               40\n",
              "training_hours              0\n",
              "dtype: int64"
            ]
          },
          "metadata": {},
          "execution_count": 7
        }
      ]
    },
    {
      "cell_type": "code",
      "source": [
        "new_train_data = train_data.dropna()\n",
        "new_train_data"
      ],
      "metadata": {
        "colab": {
          "base_uri": "https://localhost:8080/",
          "height": 627
        },
        "id": "mLgNZU-cu-bY",
        "outputId": "4ed9ae2f-63f3-428a-f0f3-7ebe7f70a90c"
      },
      "execution_count": 8,
      "outputs": [
        {
          "output_type": "execute_result",
          "data": {
            "text/plain": [
              "       enrollee_id      city  city_development_index  gender  \\\n",
              "1            29725   city_40                   0.776    Male   \n",
              "4              666  city_162                   0.767    Male   \n",
              "7              402   city_46                   0.762    Male   \n",
              "8            27107  city_103                   0.920    Male   \n",
              "11           23853  city_103                   0.920    Male   \n",
              "...            ...       ...                     ...     ...   \n",
              "19147        21319   city_21                   0.624    Male   \n",
              "19149          251  city_103                   0.920    Male   \n",
              "19150        32313  city_160                   0.920  Female   \n",
              "19152        29754  city_103                   0.920  Female   \n",
              "19155        24576  city_103                   0.920    Male   \n",
              "\n",
              "           relevent_experience enrolled_university education_level  \\\n",
              "1       No relevent experience       no_enrollment        Graduate   \n",
              "4      Has relevent experience       no_enrollment         Masters   \n",
              "7      Has relevent experience       no_enrollment        Graduate   \n",
              "8      Has relevent experience       no_enrollment        Graduate   \n",
              "11     Has relevent experience       no_enrollment        Graduate   \n",
              "...                        ...                 ...             ...   \n",
              "19147   No relevent experience    Full time course        Graduate   \n",
              "19149  Has relevent experience       no_enrollment         Masters   \n",
              "19150  Has relevent experience       no_enrollment        Graduate   \n",
              "19152  Has relevent experience       no_enrollment        Graduate   \n",
              "19155  Has relevent experience       no_enrollment        Graduate   \n",
              "\n",
              "      major_discipline experience company_size    company_type last_new_job  \\\n",
              "1                 STEM         15        50-99         Pvt Ltd           >4   \n",
              "4                 STEM        >20        50-99  Funded Startup            4   \n",
              "7                 STEM         13          <10         Pvt Ltd           >4   \n",
              "8                 STEM          7        50-99         Pvt Ltd            1   \n",
              "11                STEM          5    5000-9999         Pvt Ltd            1   \n",
              "...                ...        ...          ...             ...          ...   \n",
              "19147             STEM          1      100-500         Pvt Ltd            1   \n",
              "19149             STEM          9        50-99         Pvt Ltd            1   \n",
              "19150             STEM         10      100-500   Public Sector            3   \n",
              "19152       Humanities          7        10/49  Funded Startup            1   \n",
              "19155             STEM        >20        50-99         Pvt Ltd            4   \n",
              "\n",
              "       training_hours  target  \n",
              "1                  47     0.0  \n",
              "4                   8     0.0  \n",
              "7                  18     1.0  \n",
              "8                  46     1.0  \n",
              "11                108     0.0  \n",
              "...               ...     ...  \n",
              "19147              52     1.0  \n",
              "19149              36     1.0  \n",
              "19150              23     0.0  \n",
              "19152              25     0.0  \n",
              "19155              44     0.0  \n",
              "\n",
              "[8955 rows x 14 columns]"
            ],
            "text/html": [
              "\n",
              "  <div id=\"df-6c89847e-86a6-42fd-8753-e4279bb55b2a\">\n",
              "    <div class=\"colab-df-container\">\n",
              "      <div>\n",
              "<style scoped>\n",
              "    .dataframe tbody tr th:only-of-type {\n",
              "        vertical-align: middle;\n",
              "    }\n",
              "\n",
              "    .dataframe tbody tr th {\n",
              "        vertical-align: top;\n",
              "    }\n",
              "\n",
              "    .dataframe thead th {\n",
              "        text-align: right;\n",
              "    }\n",
              "</style>\n",
              "<table border=\"1\" class=\"dataframe\">\n",
              "  <thead>\n",
              "    <tr style=\"text-align: right;\">\n",
              "      <th></th>\n",
              "      <th>enrollee_id</th>\n",
              "      <th>city</th>\n",
              "      <th>city_development_index</th>\n",
              "      <th>gender</th>\n",
              "      <th>relevent_experience</th>\n",
              "      <th>enrolled_university</th>\n",
              "      <th>education_level</th>\n",
              "      <th>major_discipline</th>\n",
              "      <th>experience</th>\n",
              "      <th>company_size</th>\n",
              "      <th>company_type</th>\n",
              "      <th>last_new_job</th>\n",
              "      <th>training_hours</th>\n",
              "      <th>target</th>\n",
              "    </tr>\n",
              "  </thead>\n",
              "  <tbody>\n",
              "    <tr>\n",
              "      <th>1</th>\n",
              "      <td>29725</td>\n",
              "      <td>city_40</td>\n",
              "      <td>0.776</td>\n",
              "      <td>Male</td>\n",
              "      <td>No relevent experience</td>\n",
              "      <td>no_enrollment</td>\n",
              "      <td>Graduate</td>\n",
              "      <td>STEM</td>\n",
              "      <td>15</td>\n",
              "      <td>50-99</td>\n",
              "      <td>Pvt Ltd</td>\n",
              "      <td>&gt;4</td>\n",
              "      <td>47</td>\n",
              "      <td>0.0</td>\n",
              "    </tr>\n",
              "    <tr>\n",
              "      <th>4</th>\n",
              "      <td>666</td>\n",
              "      <td>city_162</td>\n",
              "      <td>0.767</td>\n",
              "      <td>Male</td>\n",
              "      <td>Has relevent experience</td>\n",
              "      <td>no_enrollment</td>\n",
              "      <td>Masters</td>\n",
              "      <td>STEM</td>\n",
              "      <td>&gt;20</td>\n",
              "      <td>50-99</td>\n",
              "      <td>Funded Startup</td>\n",
              "      <td>4</td>\n",
              "      <td>8</td>\n",
              "      <td>0.0</td>\n",
              "    </tr>\n",
              "    <tr>\n",
              "      <th>7</th>\n",
              "      <td>402</td>\n",
              "      <td>city_46</td>\n",
              "      <td>0.762</td>\n",
              "      <td>Male</td>\n",
              "      <td>Has relevent experience</td>\n",
              "      <td>no_enrollment</td>\n",
              "      <td>Graduate</td>\n",
              "      <td>STEM</td>\n",
              "      <td>13</td>\n",
              "      <td>&lt;10</td>\n",
              "      <td>Pvt Ltd</td>\n",
              "      <td>&gt;4</td>\n",
              "      <td>18</td>\n",
              "      <td>1.0</td>\n",
              "    </tr>\n",
              "    <tr>\n",
              "      <th>8</th>\n",
              "      <td>27107</td>\n",
              "      <td>city_103</td>\n",
              "      <td>0.920</td>\n",
              "      <td>Male</td>\n",
              "      <td>Has relevent experience</td>\n",
              "      <td>no_enrollment</td>\n",
              "      <td>Graduate</td>\n",
              "      <td>STEM</td>\n",
              "      <td>7</td>\n",
              "      <td>50-99</td>\n",
              "      <td>Pvt Ltd</td>\n",
              "      <td>1</td>\n",
              "      <td>46</td>\n",
              "      <td>1.0</td>\n",
              "    </tr>\n",
              "    <tr>\n",
              "      <th>11</th>\n",
              "      <td>23853</td>\n",
              "      <td>city_103</td>\n",
              "      <td>0.920</td>\n",
              "      <td>Male</td>\n",
              "      <td>Has relevent experience</td>\n",
              "      <td>no_enrollment</td>\n",
              "      <td>Graduate</td>\n",
              "      <td>STEM</td>\n",
              "      <td>5</td>\n",
              "      <td>5000-9999</td>\n",
              "      <td>Pvt Ltd</td>\n",
              "      <td>1</td>\n",
              "      <td>108</td>\n",
              "      <td>0.0</td>\n",
              "    </tr>\n",
              "    <tr>\n",
              "      <th>...</th>\n",
              "      <td>...</td>\n",
              "      <td>...</td>\n",
              "      <td>...</td>\n",
              "      <td>...</td>\n",
              "      <td>...</td>\n",
              "      <td>...</td>\n",
              "      <td>...</td>\n",
              "      <td>...</td>\n",
              "      <td>...</td>\n",
              "      <td>...</td>\n",
              "      <td>...</td>\n",
              "      <td>...</td>\n",
              "      <td>...</td>\n",
              "      <td>...</td>\n",
              "    </tr>\n",
              "    <tr>\n",
              "      <th>19147</th>\n",
              "      <td>21319</td>\n",
              "      <td>city_21</td>\n",
              "      <td>0.624</td>\n",
              "      <td>Male</td>\n",
              "      <td>No relevent experience</td>\n",
              "      <td>Full time course</td>\n",
              "      <td>Graduate</td>\n",
              "      <td>STEM</td>\n",
              "      <td>1</td>\n",
              "      <td>100-500</td>\n",
              "      <td>Pvt Ltd</td>\n",
              "      <td>1</td>\n",
              "      <td>52</td>\n",
              "      <td>1.0</td>\n",
              "    </tr>\n",
              "    <tr>\n",
              "      <th>19149</th>\n",
              "      <td>251</td>\n",
              "      <td>city_103</td>\n",
              "      <td>0.920</td>\n",
              "      <td>Male</td>\n",
              "      <td>Has relevent experience</td>\n",
              "      <td>no_enrollment</td>\n",
              "      <td>Masters</td>\n",
              "      <td>STEM</td>\n",
              "      <td>9</td>\n",
              "      <td>50-99</td>\n",
              "      <td>Pvt Ltd</td>\n",
              "      <td>1</td>\n",
              "      <td>36</td>\n",
              "      <td>1.0</td>\n",
              "    </tr>\n",
              "    <tr>\n",
              "      <th>19150</th>\n",
              "      <td>32313</td>\n",
              "      <td>city_160</td>\n",
              "      <td>0.920</td>\n",
              "      <td>Female</td>\n",
              "      <td>Has relevent experience</td>\n",
              "      <td>no_enrollment</td>\n",
              "      <td>Graduate</td>\n",
              "      <td>STEM</td>\n",
              "      <td>10</td>\n",
              "      <td>100-500</td>\n",
              "      <td>Public Sector</td>\n",
              "      <td>3</td>\n",
              "      <td>23</td>\n",
              "      <td>0.0</td>\n",
              "    </tr>\n",
              "    <tr>\n",
              "      <th>19152</th>\n",
              "      <td>29754</td>\n",
              "      <td>city_103</td>\n",
              "      <td>0.920</td>\n",
              "      <td>Female</td>\n",
              "      <td>Has relevent experience</td>\n",
              "      <td>no_enrollment</td>\n",
              "      <td>Graduate</td>\n",
              "      <td>Humanities</td>\n",
              "      <td>7</td>\n",
              "      <td>10/49</td>\n",
              "      <td>Funded Startup</td>\n",
              "      <td>1</td>\n",
              "      <td>25</td>\n",
              "      <td>0.0</td>\n",
              "    </tr>\n",
              "    <tr>\n",
              "      <th>19155</th>\n",
              "      <td>24576</td>\n",
              "      <td>city_103</td>\n",
              "      <td>0.920</td>\n",
              "      <td>Male</td>\n",
              "      <td>Has relevent experience</td>\n",
              "      <td>no_enrollment</td>\n",
              "      <td>Graduate</td>\n",
              "      <td>STEM</td>\n",
              "      <td>&gt;20</td>\n",
              "      <td>50-99</td>\n",
              "      <td>Pvt Ltd</td>\n",
              "      <td>4</td>\n",
              "      <td>44</td>\n",
              "      <td>0.0</td>\n",
              "    </tr>\n",
              "  </tbody>\n",
              "</table>\n",
              "<p>8955 rows × 14 columns</p>\n",
              "</div>\n",
              "      <button class=\"colab-df-convert\" onclick=\"convertToInteractive('df-6c89847e-86a6-42fd-8753-e4279bb55b2a')\"\n",
              "              title=\"Convert this dataframe to an interactive table.\"\n",
              "              style=\"display:none;\">\n",
              "        \n",
              "  <svg xmlns=\"http://www.w3.org/2000/svg\" height=\"24px\"viewBox=\"0 0 24 24\"\n",
              "       width=\"24px\">\n",
              "    <path d=\"M0 0h24v24H0V0z\" fill=\"none\"/>\n",
              "    <path d=\"M18.56 5.44l.94 2.06.94-2.06 2.06-.94-2.06-.94-.94-2.06-.94 2.06-2.06.94zm-11 1L8.5 8.5l.94-2.06 2.06-.94-2.06-.94L8.5 2.5l-.94 2.06-2.06.94zm10 10l.94 2.06.94-2.06 2.06-.94-2.06-.94-.94-2.06-.94 2.06-2.06.94z\"/><path d=\"M17.41 7.96l-1.37-1.37c-.4-.4-.92-.59-1.43-.59-.52 0-1.04.2-1.43.59L10.3 9.45l-7.72 7.72c-.78.78-.78 2.05 0 2.83L4 21.41c.39.39.9.59 1.41.59.51 0 1.02-.2 1.41-.59l7.78-7.78 2.81-2.81c.8-.78.8-2.07 0-2.86zM5.41 20L4 18.59l7.72-7.72 1.47 1.35L5.41 20z\"/>\n",
              "  </svg>\n",
              "      </button>\n",
              "      \n",
              "  <style>\n",
              "    .colab-df-container {\n",
              "      display:flex;\n",
              "      flex-wrap:wrap;\n",
              "      gap: 12px;\n",
              "    }\n",
              "\n",
              "    .colab-df-convert {\n",
              "      background-color: #E8F0FE;\n",
              "      border: none;\n",
              "      border-radius: 50%;\n",
              "      cursor: pointer;\n",
              "      display: none;\n",
              "      fill: #1967D2;\n",
              "      height: 32px;\n",
              "      padding: 0 0 0 0;\n",
              "      width: 32px;\n",
              "    }\n",
              "\n",
              "    .colab-df-convert:hover {\n",
              "      background-color: #E2EBFA;\n",
              "      box-shadow: 0px 1px 2px rgba(60, 64, 67, 0.3), 0px 1px 3px 1px rgba(60, 64, 67, 0.15);\n",
              "      fill: #174EA6;\n",
              "    }\n",
              "\n",
              "    [theme=dark] .colab-df-convert {\n",
              "      background-color: #3B4455;\n",
              "      fill: #D2E3FC;\n",
              "    }\n",
              "\n",
              "    [theme=dark] .colab-df-convert:hover {\n",
              "      background-color: #434B5C;\n",
              "      box-shadow: 0px 1px 3px 1px rgba(0, 0, 0, 0.15);\n",
              "      filter: drop-shadow(0px 1px 2px rgba(0, 0, 0, 0.3));\n",
              "      fill: #FFFFFF;\n",
              "    }\n",
              "  </style>\n",
              "\n",
              "      <script>\n",
              "        const buttonEl =\n",
              "          document.querySelector('#df-6c89847e-86a6-42fd-8753-e4279bb55b2a button.colab-df-convert');\n",
              "        buttonEl.style.display =\n",
              "          google.colab.kernel.accessAllowed ? 'block' : 'none';\n",
              "\n",
              "        async function convertToInteractive(key) {\n",
              "          const element = document.querySelector('#df-6c89847e-86a6-42fd-8753-e4279bb55b2a');\n",
              "          const dataTable =\n",
              "            await google.colab.kernel.invokeFunction('convertToInteractive',\n",
              "                                                     [key], {});\n",
              "          if (!dataTable) return;\n",
              "\n",
              "          const docLinkHtml = 'Like what you see? Visit the ' +\n",
              "            '<a target=\"_blank\" href=https://colab.research.google.com/notebooks/data_table.ipynb>data table notebook</a>'\n",
              "            + ' to learn more about interactive tables.';\n",
              "          element.innerHTML = '';\n",
              "          dataTable['output_type'] = 'display_data';\n",
              "          await google.colab.output.renderOutput(dataTable, element);\n",
              "          const docLink = document.createElement('div');\n",
              "          docLink.innerHTML = docLinkHtml;\n",
              "          element.appendChild(docLink);\n",
              "        }\n",
              "      </script>\n",
              "    </div>\n",
              "  </div>\n",
              "  "
            ]
          },
          "metadata": {},
          "execution_count": 8
        }
      ]
    },
    {
      "cell_type": "code",
      "source": [
        "new_test_data = test_data.dropna()\n",
        "new_test_data"
      ],
      "metadata": {
        "colab": {
          "base_uri": "https://localhost:8080/",
          "height": 644
        },
        "id": "e2ZIXExUM8AZ",
        "outputId": "3427b712-3ccb-44d6-f823-ddc8ecb929b3"
      },
      "execution_count": 9,
      "outputs": [
        {
          "output_type": "execute_result",
          "data": {
            "text/plain": [
              "      enrollee_id      city  city_development_index gender  \\\n",
              "3           27385   city_13                   0.827   Male   \n",
              "4           27724  city_103                   0.920   Male   \n",
              "11           9272   city_90                   0.698   Male   \n",
              "12          14249   city_46                   0.762   Male   \n",
              "16           7865   city_21                   0.624   Male   \n",
              "...           ...       ...                     ...    ...   \n",
              "2113        10726   city_71                   0.884   Male   \n",
              "2115        13833   city_21                   0.624   Male   \n",
              "2117        21500   city_44                   0.725   Male   \n",
              "2121        27163  city_173                   0.878   Male   \n",
              "2128        12215  city_102                   0.804   Male   \n",
              "\n",
              "          relevent_experience enrolled_university education_level  \\\n",
              "3     Has relevent experience       no_enrollment         Masters   \n",
              "4     Has relevent experience       no_enrollment        Graduate   \n",
              "11    Has relevent experience       no_enrollment        Graduate   \n",
              "12    Has relevent experience       no_enrollment        Graduate   \n",
              "16    Has relevent experience       no_enrollment         Masters   \n",
              "...                       ...                 ...             ...   \n",
              "2113  Has relevent experience       no_enrollment        Graduate   \n",
              "2115  Has relevent experience       no_enrollment        Graduate   \n",
              "2117   No relevent experience    Part time course        Graduate   \n",
              "2121   No relevent experience       no_enrollment         Masters   \n",
              "2128  Has relevent experience       no_enrollment         Masters   \n",
              "\n",
              "     major_discipline experience company_size         company_type  \\\n",
              "3                STEM         11        10/49              Pvt Ltd   \n",
              "4                STEM        >20       10000+              Pvt Ltd   \n",
              "11               STEM         20        10/49              Pvt Ltd   \n",
              "12               STEM          8      100-500                Other   \n",
              "16               STEM          4      100-500              Pvt Ltd   \n",
              "...               ...        ...          ...                  ...   \n",
              "2113             STEM          6      100-500        Public Sector   \n",
              "2115             STEM         10      100-500              Pvt Ltd   \n",
              "2117             STEM          7          <10  Early Stage Startup   \n",
              "2121             STEM         16          <10              Pvt Ltd   \n",
              "2128             STEM         15       10000+              Pvt Ltd   \n",
              "\n",
              "     last_new_job  training_hours  \n",
              "3               1              39  \n",
              "4              >4              72  \n",
              "11              2              51  \n",
              "12          never              48  \n",
              "16              1               4  \n",
              "...           ...             ...  \n",
              "2113            1              16  \n",
              "2115            1               8  \n",
              "2117        never             160  \n",
              "2121           >4              58  \n",
              "2128            2              11  \n",
              "\n",
              "[1019 rows x 13 columns]"
            ],
            "text/html": [
              "\n",
              "  <div id=\"df-2c98e1a1-8431-4e19-8203-e2847e743a5c\">\n",
              "    <div class=\"colab-df-container\">\n",
              "      <div>\n",
              "<style scoped>\n",
              "    .dataframe tbody tr th:only-of-type {\n",
              "        vertical-align: middle;\n",
              "    }\n",
              "\n",
              "    .dataframe tbody tr th {\n",
              "        vertical-align: top;\n",
              "    }\n",
              "\n",
              "    .dataframe thead th {\n",
              "        text-align: right;\n",
              "    }\n",
              "</style>\n",
              "<table border=\"1\" class=\"dataframe\">\n",
              "  <thead>\n",
              "    <tr style=\"text-align: right;\">\n",
              "      <th></th>\n",
              "      <th>enrollee_id</th>\n",
              "      <th>city</th>\n",
              "      <th>city_development_index</th>\n",
              "      <th>gender</th>\n",
              "      <th>relevent_experience</th>\n",
              "      <th>enrolled_university</th>\n",
              "      <th>education_level</th>\n",
              "      <th>major_discipline</th>\n",
              "      <th>experience</th>\n",
              "      <th>company_size</th>\n",
              "      <th>company_type</th>\n",
              "      <th>last_new_job</th>\n",
              "      <th>training_hours</th>\n",
              "    </tr>\n",
              "  </thead>\n",
              "  <tbody>\n",
              "    <tr>\n",
              "      <th>3</th>\n",
              "      <td>27385</td>\n",
              "      <td>city_13</td>\n",
              "      <td>0.827</td>\n",
              "      <td>Male</td>\n",
              "      <td>Has relevent experience</td>\n",
              "      <td>no_enrollment</td>\n",
              "      <td>Masters</td>\n",
              "      <td>STEM</td>\n",
              "      <td>11</td>\n",
              "      <td>10/49</td>\n",
              "      <td>Pvt Ltd</td>\n",
              "      <td>1</td>\n",
              "      <td>39</td>\n",
              "    </tr>\n",
              "    <tr>\n",
              "      <th>4</th>\n",
              "      <td>27724</td>\n",
              "      <td>city_103</td>\n",
              "      <td>0.920</td>\n",
              "      <td>Male</td>\n",
              "      <td>Has relevent experience</td>\n",
              "      <td>no_enrollment</td>\n",
              "      <td>Graduate</td>\n",
              "      <td>STEM</td>\n",
              "      <td>&gt;20</td>\n",
              "      <td>10000+</td>\n",
              "      <td>Pvt Ltd</td>\n",
              "      <td>&gt;4</td>\n",
              "      <td>72</td>\n",
              "    </tr>\n",
              "    <tr>\n",
              "      <th>11</th>\n",
              "      <td>9272</td>\n",
              "      <td>city_90</td>\n",
              "      <td>0.698</td>\n",
              "      <td>Male</td>\n",
              "      <td>Has relevent experience</td>\n",
              "      <td>no_enrollment</td>\n",
              "      <td>Graduate</td>\n",
              "      <td>STEM</td>\n",
              "      <td>20</td>\n",
              "      <td>10/49</td>\n",
              "      <td>Pvt Ltd</td>\n",
              "      <td>2</td>\n",
              "      <td>51</td>\n",
              "    </tr>\n",
              "    <tr>\n",
              "      <th>12</th>\n",
              "      <td>14249</td>\n",
              "      <td>city_46</td>\n",
              "      <td>0.762</td>\n",
              "      <td>Male</td>\n",
              "      <td>Has relevent experience</td>\n",
              "      <td>no_enrollment</td>\n",
              "      <td>Graduate</td>\n",
              "      <td>STEM</td>\n",
              "      <td>8</td>\n",
              "      <td>100-500</td>\n",
              "      <td>Other</td>\n",
              "      <td>never</td>\n",
              "      <td>48</td>\n",
              "    </tr>\n",
              "    <tr>\n",
              "      <th>16</th>\n",
              "      <td>7865</td>\n",
              "      <td>city_21</td>\n",
              "      <td>0.624</td>\n",
              "      <td>Male</td>\n",
              "      <td>Has relevent experience</td>\n",
              "      <td>no_enrollment</td>\n",
              "      <td>Masters</td>\n",
              "      <td>STEM</td>\n",
              "      <td>4</td>\n",
              "      <td>100-500</td>\n",
              "      <td>Pvt Ltd</td>\n",
              "      <td>1</td>\n",
              "      <td>4</td>\n",
              "    </tr>\n",
              "    <tr>\n",
              "      <th>...</th>\n",
              "      <td>...</td>\n",
              "      <td>...</td>\n",
              "      <td>...</td>\n",
              "      <td>...</td>\n",
              "      <td>...</td>\n",
              "      <td>...</td>\n",
              "      <td>...</td>\n",
              "      <td>...</td>\n",
              "      <td>...</td>\n",
              "      <td>...</td>\n",
              "      <td>...</td>\n",
              "      <td>...</td>\n",
              "      <td>...</td>\n",
              "    </tr>\n",
              "    <tr>\n",
              "      <th>2113</th>\n",
              "      <td>10726</td>\n",
              "      <td>city_71</td>\n",
              "      <td>0.884</td>\n",
              "      <td>Male</td>\n",
              "      <td>Has relevent experience</td>\n",
              "      <td>no_enrollment</td>\n",
              "      <td>Graduate</td>\n",
              "      <td>STEM</td>\n",
              "      <td>6</td>\n",
              "      <td>100-500</td>\n",
              "      <td>Public Sector</td>\n",
              "      <td>1</td>\n",
              "      <td>16</td>\n",
              "    </tr>\n",
              "    <tr>\n",
              "      <th>2115</th>\n",
              "      <td>13833</td>\n",
              "      <td>city_21</td>\n",
              "      <td>0.624</td>\n",
              "      <td>Male</td>\n",
              "      <td>Has relevent experience</td>\n",
              "      <td>no_enrollment</td>\n",
              "      <td>Graduate</td>\n",
              "      <td>STEM</td>\n",
              "      <td>10</td>\n",
              "      <td>100-500</td>\n",
              "      <td>Pvt Ltd</td>\n",
              "      <td>1</td>\n",
              "      <td>8</td>\n",
              "    </tr>\n",
              "    <tr>\n",
              "      <th>2117</th>\n",
              "      <td>21500</td>\n",
              "      <td>city_44</td>\n",
              "      <td>0.725</td>\n",
              "      <td>Male</td>\n",
              "      <td>No relevent experience</td>\n",
              "      <td>Part time course</td>\n",
              "      <td>Graduate</td>\n",
              "      <td>STEM</td>\n",
              "      <td>7</td>\n",
              "      <td>&lt;10</td>\n",
              "      <td>Early Stage Startup</td>\n",
              "      <td>never</td>\n",
              "      <td>160</td>\n",
              "    </tr>\n",
              "    <tr>\n",
              "      <th>2121</th>\n",
              "      <td>27163</td>\n",
              "      <td>city_173</td>\n",
              "      <td>0.878</td>\n",
              "      <td>Male</td>\n",
              "      <td>No relevent experience</td>\n",
              "      <td>no_enrollment</td>\n",
              "      <td>Masters</td>\n",
              "      <td>STEM</td>\n",
              "      <td>16</td>\n",
              "      <td>&lt;10</td>\n",
              "      <td>Pvt Ltd</td>\n",
              "      <td>&gt;4</td>\n",
              "      <td>58</td>\n",
              "    </tr>\n",
              "    <tr>\n",
              "      <th>2128</th>\n",
              "      <td>12215</td>\n",
              "      <td>city_102</td>\n",
              "      <td>0.804</td>\n",
              "      <td>Male</td>\n",
              "      <td>Has relevent experience</td>\n",
              "      <td>no_enrollment</td>\n",
              "      <td>Masters</td>\n",
              "      <td>STEM</td>\n",
              "      <td>15</td>\n",
              "      <td>10000+</td>\n",
              "      <td>Pvt Ltd</td>\n",
              "      <td>2</td>\n",
              "      <td>11</td>\n",
              "    </tr>\n",
              "  </tbody>\n",
              "</table>\n",
              "<p>1019 rows × 13 columns</p>\n",
              "</div>\n",
              "      <button class=\"colab-df-convert\" onclick=\"convertToInteractive('df-2c98e1a1-8431-4e19-8203-e2847e743a5c')\"\n",
              "              title=\"Convert this dataframe to an interactive table.\"\n",
              "              style=\"display:none;\">\n",
              "        \n",
              "  <svg xmlns=\"http://www.w3.org/2000/svg\" height=\"24px\"viewBox=\"0 0 24 24\"\n",
              "       width=\"24px\">\n",
              "    <path d=\"M0 0h24v24H0V0z\" fill=\"none\"/>\n",
              "    <path d=\"M18.56 5.44l.94 2.06.94-2.06 2.06-.94-2.06-.94-.94-2.06-.94 2.06-2.06.94zm-11 1L8.5 8.5l.94-2.06 2.06-.94-2.06-.94L8.5 2.5l-.94 2.06-2.06.94zm10 10l.94 2.06.94-2.06 2.06-.94-2.06-.94-.94-2.06-.94 2.06-2.06.94z\"/><path d=\"M17.41 7.96l-1.37-1.37c-.4-.4-.92-.59-1.43-.59-.52 0-1.04.2-1.43.59L10.3 9.45l-7.72 7.72c-.78.78-.78 2.05 0 2.83L4 21.41c.39.39.9.59 1.41.59.51 0 1.02-.2 1.41-.59l7.78-7.78 2.81-2.81c.8-.78.8-2.07 0-2.86zM5.41 20L4 18.59l7.72-7.72 1.47 1.35L5.41 20z\"/>\n",
              "  </svg>\n",
              "      </button>\n",
              "      \n",
              "  <style>\n",
              "    .colab-df-container {\n",
              "      display:flex;\n",
              "      flex-wrap:wrap;\n",
              "      gap: 12px;\n",
              "    }\n",
              "\n",
              "    .colab-df-convert {\n",
              "      background-color: #E8F0FE;\n",
              "      border: none;\n",
              "      border-radius: 50%;\n",
              "      cursor: pointer;\n",
              "      display: none;\n",
              "      fill: #1967D2;\n",
              "      height: 32px;\n",
              "      padding: 0 0 0 0;\n",
              "      width: 32px;\n",
              "    }\n",
              "\n",
              "    .colab-df-convert:hover {\n",
              "      background-color: #E2EBFA;\n",
              "      box-shadow: 0px 1px 2px rgba(60, 64, 67, 0.3), 0px 1px 3px 1px rgba(60, 64, 67, 0.15);\n",
              "      fill: #174EA6;\n",
              "    }\n",
              "\n",
              "    [theme=dark] .colab-df-convert {\n",
              "      background-color: #3B4455;\n",
              "      fill: #D2E3FC;\n",
              "    }\n",
              "\n",
              "    [theme=dark] .colab-df-convert:hover {\n",
              "      background-color: #434B5C;\n",
              "      box-shadow: 0px 1px 3px 1px rgba(0, 0, 0, 0.15);\n",
              "      filter: drop-shadow(0px 1px 2px rgba(0, 0, 0, 0.3));\n",
              "      fill: #FFFFFF;\n",
              "    }\n",
              "  </style>\n",
              "\n",
              "      <script>\n",
              "        const buttonEl =\n",
              "          document.querySelector('#df-2c98e1a1-8431-4e19-8203-e2847e743a5c button.colab-df-convert');\n",
              "        buttonEl.style.display =\n",
              "          google.colab.kernel.accessAllowed ? 'block' : 'none';\n",
              "\n",
              "        async function convertToInteractive(key) {\n",
              "          const element = document.querySelector('#df-2c98e1a1-8431-4e19-8203-e2847e743a5c');\n",
              "          const dataTable =\n",
              "            await google.colab.kernel.invokeFunction('convertToInteractive',\n",
              "                                                     [key], {});\n",
              "          if (!dataTable) return;\n",
              "\n",
              "          const docLinkHtml = 'Like what you see? Visit the ' +\n",
              "            '<a target=\"_blank\" href=https://colab.research.google.com/notebooks/data_table.ipynb>data table notebook</a>'\n",
              "            + ' to learn more about interactive tables.';\n",
              "          element.innerHTML = '';\n",
              "          dataTable['output_type'] = 'display_data';\n",
              "          await google.colab.output.renderOutput(dataTable, element);\n",
              "          const docLink = document.createElement('div');\n",
              "          docLink.innerHTML = docLinkHtml;\n",
              "          element.appendChild(docLink);\n",
              "        }\n",
              "      </script>\n",
              "    </div>\n",
              "  </div>\n",
              "  "
            ]
          },
          "metadata": {},
          "execution_count": 9
        }
      ]
    },
    {
      "cell_type": "code",
      "source": [
        "new_train_data.info()"
      ],
      "metadata": {
        "colab": {
          "base_uri": "https://localhost:8080/"
        },
        "id": "dVQn_qOLvHOo",
        "outputId": "4d51da6c-dcf8-4751-f651-c425daf7e145"
      },
      "execution_count": 10,
      "outputs": [
        {
          "output_type": "stream",
          "name": "stdout",
          "text": [
            "<class 'pandas.core.frame.DataFrame'>\n",
            "Int64Index: 8955 entries, 1 to 19155\n",
            "Data columns (total 14 columns):\n",
            " #   Column                  Non-Null Count  Dtype  \n",
            "---  ------                  --------------  -----  \n",
            " 0   enrollee_id             8955 non-null   int64  \n",
            " 1   city                    8955 non-null   object \n",
            " 2   city_development_index  8955 non-null   float64\n",
            " 3   gender                  8955 non-null   object \n",
            " 4   relevent_experience     8955 non-null   object \n",
            " 5   enrolled_university     8955 non-null   object \n",
            " 6   education_level         8955 non-null   object \n",
            " 7   major_discipline        8955 non-null   object \n",
            " 8   experience              8955 non-null   object \n",
            " 9   company_size            8955 non-null   object \n",
            " 10  company_type            8955 non-null   object \n",
            " 11  last_new_job            8955 non-null   object \n",
            " 12  training_hours          8955 non-null   int64  \n",
            " 13  target                  8955 non-null   float64\n",
            "dtypes: float64(2), int64(2), object(10)\n",
            "memory usage: 1.0+ MB\n"
          ]
        }
      ]
    },
    {
      "cell_type": "code",
      "source": [
        "new_test_data.info()"
      ],
      "metadata": {
        "colab": {
          "base_uri": "https://localhost:8080/"
        },
        "id": "VEFlwuFJNEAp",
        "outputId": "8783c0dc-1a74-4c72-bd57-a8320c0ab1c7"
      },
      "execution_count": 11,
      "outputs": [
        {
          "output_type": "stream",
          "name": "stdout",
          "text": [
            "<class 'pandas.core.frame.DataFrame'>\n",
            "Int64Index: 1019 entries, 3 to 2128\n",
            "Data columns (total 13 columns):\n",
            " #   Column                  Non-Null Count  Dtype  \n",
            "---  ------                  --------------  -----  \n",
            " 0   enrollee_id             1019 non-null   int64  \n",
            " 1   city                    1019 non-null   object \n",
            " 2   city_development_index  1019 non-null   float64\n",
            " 3   gender                  1019 non-null   object \n",
            " 4   relevent_experience     1019 non-null   object \n",
            " 5   enrolled_university     1019 non-null   object \n",
            " 6   education_level         1019 non-null   object \n",
            " 7   major_discipline        1019 non-null   object \n",
            " 8   experience              1019 non-null   object \n",
            " 9   company_size            1019 non-null   object \n",
            " 10  company_type            1019 non-null   object \n",
            " 11  last_new_job            1019 non-null   object \n",
            " 12  training_hours          1019 non-null   int64  \n",
            "dtypes: float64(1), int64(2), object(10)\n",
            "memory usage: 111.5+ KB\n"
          ]
        }
      ]
    },
    {
      "cell_type": "code",
      "source": [
        "new_train_data = new_train_data.drop(\"enrollee_id\", axis='columns')\n",
        "new_train_data = new_train_data.drop(\"city\", axis='columns')\n",
        "\n",
        "new_test_data = new_test_data.drop(\"enrollee_id\", axis='columns')\n",
        "new_test_data = new_test_data.drop(\"city\", axis='columns')"
      ],
      "metadata": {
        "id": "-vkvTrd7Z-oZ"
      },
      "execution_count": 12,
      "outputs": []
    },
    {
      "cell_type": "markdown",
      "source": [
        "# **Visualization**"
      ],
      "metadata": {
        "id": "Im0aCPltz6yk"
      }
    },
    {
      "cell_type": "code",
      "source": [
        "data_viz = new_train_data.reset_index()\n",
        "data_viz"
      ],
      "metadata": {
        "colab": {
          "base_uri": "https://localhost:8080/",
          "height": 627
        },
        "id": "chBvEwVrz-Rn",
        "outputId": "5f3aeefd-4994-44f1-babe-bcaf19202d22"
      },
      "execution_count": 13,
      "outputs": [
        {
          "output_type": "execute_result",
          "data": {
            "text/plain": [
              "      index  city_development_index  gender      relevent_experience  \\\n",
              "0         1                   0.776    Male   No relevent experience   \n",
              "1         4                   0.767    Male  Has relevent experience   \n",
              "2         7                   0.762    Male  Has relevent experience   \n",
              "3         8                   0.920    Male  Has relevent experience   \n",
              "4        11                   0.920    Male  Has relevent experience   \n",
              "...     ...                     ...     ...                      ...   \n",
              "8950  19147                   0.624    Male   No relevent experience   \n",
              "8951  19149                   0.920    Male  Has relevent experience   \n",
              "8952  19150                   0.920  Female  Has relevent experience   \n",
              "8953  19152                   0.920  Female  Has relevent experience   \n",
              "8954  19155                   0.920    Male  Has relevent experience   \n",
              "\n",
              "     enrolled_university education_level major_discipline experience  \\\n",
              "0          no_enrollment        Graduate             STEM         15   \n",
              "1          no_enrollment         Masters             STEM        >20   \n",
              "2          no_enrollment        Graduate             STEM         13   \n",
              "3          no_enrollment        Graduate             STEM          7   \n",
              "4          no_enrollment        Graduate             STEM          5   \n",
              "...                  ...             ...              ...        ...   \n",
              "8950    Full time course        Graduate             STEM          1   \n",
              "8951       no_enrollment         Masters             STEM          9   \n",
              "8952       no_enrollment        Graduate             STEM         10   \n",
              "8953       no_enrollment        Graduate       Humanities          7   \n",
              "8954       no_enrollment        Graduate             STEM        >20   \n",
              "\n",
              "     company_size    company_type last_new_job  training_hours  target  \n",
              "0           50-99         Pvt Ltd           >4              47     0.0  \n",
              "1           50-99  Funded Startup            4               8     0.0  \n",
              "2             <10         Pvt Ltd           >4              18     1.0  \n",
              "3           50-99         Pvt Ltd            1              46     1.0  \n",
              "4       5000-9999         Pvt Ltd            1             108     0.0  \n",
              "...           ...             ...          ...             ...     ...  \n",
              "8950      100-500         Pvt Ltd            1              52     1.0  \n",
              "8951        50-99         Pvt Ltd            1              36     1.0  \n",
              "8952      100-500   Public Sector            3              23     0.0  \n",
              "8953        10/49  Funded Startup            1              25     0.0  \n",
              "8954        50-99         Pvt Ltd            4              44     0.0  \n",
              "\n",
              "[8955 rows x 13 columns]"
            ],
            "text/html": [
              "\n",
              "  <div id=\"df-bb5baca4-7031-42b8-833d-0e75b2da328e\">\n",
              "    <div class=\"colab-df-container\">\n",
              "      <div>\n",
              "<style scoped>\n",
              "    .dataframe tbody tr th:only-of-type {\n",
              "        vertical-align: middle;\n",
              "    }\n",
              "\n",
              "    .dataframe tbody tr th {\n",
              "        vertical-align: top;\n",
              "    }\n",
              "\n",
              "    .dataframe thead th {\n",
              "        text-align: right;\n",
              "    }\n",
              "</style>\n",
              "<table border=\"1\" class=\"dataframe\">\n",
              "  <thead>\n",
              "    <tr style=\"text-align: right;\">\n",
              "      <th></th>\n",
              "      <th>index</th>\n",
              "      <th>city_development_index</th>\n",
              "      <th>gender</th>\n",
              "      <th>relevent_experience</th>\n",
              "      <th>enrolled_university</th>\n",
              "      <th>education_level</th>\n",
              "      <th>major_discipline</th>\n",
              "      <th>experience</th>\n",
              "      <th>company_size</th>\n",
              "      <th>company_type</th>\n",
              "      <th>last_new_job</th>\n",
              "      <th>training_hours</th>\n",
              "      <th>target</th>\n",
              "    </tr>\n",
              "  </thead>\n",
              "  <tbody>\n",
              "    <tr>\n",
              "      <th>0</th>\n",
              "      <td>1</td>\n",
              "      <td>0.776</td>\n",
              "      <td>Male</td>\n",
              "      <td>No relevent experience</td>\n",
              "      <td>no_enrollment</td>\n",
              "      <td>Graduate</td>\n",
              "      <td>STEM</td>\n",
              "      <td>15</td>\n",
              "      <td>50-99</td>\n",
              "      <td>Pvt Ltd</td>\n",
              "      <td>&gt;4</td>\n",
              "      <td>47</td>\n",
              "      <td>0.0</td>\n",
              "    </tr>\n",
              "    <tr>\n",
              "      <th>1</th>\n",
              "      <td>4</td>\n",
              "      <td>0.767</td>\n",
              "      <td>Male</td>\n",
              "      <td>Has relevent experience</td>\n",
              "      <td>no_enrollment</td>\n",
              "      <td>Masters</td>\n",
              "      <td>STEM</td>\n",
              "      <td>&gt;20</td>\n",
              "      <td>50-99</td>\n",
              "      <td>Funded Startup</td>\n",
              "      <td>4</td>\n",
              "      <td>8</td>\n",
              "      <td>0.0</td>\n",
              "    </tr>\n",
              "    <tr>\n",
              "      <th>2</th>\n",
              "      <td>7</td>\n",
              "      <td>0.762</td>\n",
              "      <td>Male</td>\n",
              "      <td>Has relevent experience</td>\n",
              "      <td>no_enrollment</td>\n",
              "      <td>Graduate</td>\n",
              "      <td>STEM</td>\n",
              "      <td>13</td>\n",
              "      <td>&lt;10</td>\n",
              "      <td>Pvt Ltd</td>\n",
              "      <td>&gt;4</td>\n",
              "      <td>18</td>\n",
              "      <td>1.0</td>\n",
              "    </tr>\n",
              "    <tr>\n",
              "      <th>3</th>\n",
              "      <td>8</td>\n",
              "      <td>0.920</td>\n",
              "      <td>Male</td>\n",
              "      <td>Has relevent experience</td>\n",
              "      <td>no_enrollment</td>\n",
              "      <td>Graduate</td>\n",
              "      <td>STEM</td>\n",
              "      <td>7</td>\n",
              "      <td>50-99</td>\n",
              "      <td>Pvt Ltd</td>\n",
              "      <td>1</td>\n",
              "      <td>46</td>\n",
              "      <td>1.0</td>\n",
              "    </tr>\n",
              "    <tr>\n",
              "      <th>4</th>\n",
              "      <td>11</td>\n",
              "      <td>0.920</td>\n",
              "      <td>Male</td>\n",
              "      <td>Has relevent experience</td>\n",
              "      <td>no_enrollment</td>\n",
              "      <td>Graduate</td>\n",
              "      <td>STEM</td>\n",
              "      <td>5</td>\n",
              "      <td>5000-9999</td>\n",
              "      <td>Pvt Ltd</td>\n",
              "      <td>1</td>\n",
              "      <td>108</td>\n",
              "      <td>0.0</td>\n",
              "    </tr>\n",
              "    <tr>\n",
              "      <th>...</th>\n",
              "      <td>...</td>\n",
              "      <td>...</td>\n",
              "      <td>...</td>\n",
              "      <td>...</td>\n",
              "      <td>...</td>\n",
              "      <td>...</td>\n",
              "      <td>...</td>\n",
              "      <td>...</td>\n",
              "      <td>...</td>\n",
              "      <td>...</td>\n",
              "      <td>...</td>\n",
              "      <td>...</td>\n",
              "      <td>...</td>\n",
              "    </tr>\n",
              "    <tr>\n",
              "      <th>8950</th>\n",
              "      <td>19147</td>\n",
              "      <td>0.624</td>\n",
              "      <td>Male</td>\n",
              "      <td>No relevent experience</td>\n",
              "      <td>Full time course</td>\n",
              "      <td>Graduate</td>\n",
              "      <td>STEM</td>\n",
              "      <td>1</td>\n",
              "      <td>100-500</td>\n",
              "      <td>Pvt Ltd</td>\n",
              "      <td>1</td>\n",
              "      <td>52</td>\n",
              "      <td>1.0</td>\n",
              "    </tr>\n",
              "    <tr>\n",
              "      <th>8951</th>\n",
              "      <td>19149</td>\n",
              "      <td>0.920</td>\n",
              "      <td>Male</td>\n",
              "      <td>Has relevent experience</td>\n",
              "      <td>no_enrollment</td>\n",
              "      <td>Masters</td>\n",
              "      <td>STEM</td>\n",
              "      <td>9</td>\n",
              "      <td>50-99</td>\n",
              "      <td>Pvt Ltd</td>\n",
              "      <td>1</td>\n",
              "      <td>36</td>\n",
              "      <td>1.0</td>\n",
              "    </tr>\n",
              "    <tr>\n",
              "      <th>8952</th>\n",
              "      <td>19150</td>\n",
              "      <td>0.920</td>\n",
              "      <td>Female</td>\n",
              "      <td>Has relevent experience</td>\n",
              "      <td>no_enrollment</td>\n",
              "      <td>Graduate</td>\n",
              "      <td>STEM</td>\n",
              "      <td>10</td>\n",
              "      <td>100-500</td>\n",
              "      <td>Public Sector</td>\n",
              "      <td>3</td>\n",
              "      <td>23</td>\n",
              "      <td>0.0</td>\n",
              "    </tr>\n",
              "    <tr>\n",
              "      <th>8953</th>\n",
              "      <td>19152</td>\n",
              "      <td>0.920</td>\n",
              "      <td>Female</td>\n",
              "      <td>Has relevent experience</td>\n",
              "      <td>no_enrollment</td>\n",
              "      <td>Graduate</td>\n",
              "      <td>Humanities</td>\n",
              "      <td>7</td>\n",
              "      <td>10/49</td>\n",
              "      <td>Funded Startup</td>\n",
              "      <td>1</td>\n",
              "      <td>25</td>\n",
              "      <td>0.0</td>\n",
              "    </tr>\n",
              "    <tr>\n",
              "      <th>8954</th>\n",
              "      <td>19155</td>\n",
              "      <td>0.920</td>\n",
              "      <td>Male</td>\n",
              "      <td>Has relevent experience</td>\n",
              "      <td>no_enrollment</td>\n",
              "      <td>Graduate</td>\n",
              "      <td>STEM</td>\n",
              "      <td>&gt;20</td>\n",
              "      <td>50-99</td>\n",
              "      <td>Pvt Ltd</td>\n",
              "      <td>4</td>\n",
              "      <td>44</td>\n",
              "      <td>0.0</td>\n",
              "    </tr>\n",
              "  </tbody>\n",
              "</table>\n",
              "<p>8955 rows × 13 columns</p>\n",
              "</div>\n",
              "      <button class=\"colab-df-convert\" onclick=\"convertToInteractive('df-bb5baca4-7031-42b8-833d-0e75b2da328e')\"\n",
              "              title=\"Convert this dataframe to an interactive table.\"\n",
              "              style=\"display:none;\">\n",
              "        \n",
              "  <svg xmlns=\"http://www.w3.org/2000/svg\" height=\"24px\"viewBox=\"0 0 24 24\"\n",
              "       width=\"24px\">\n",
              "    <path d=\"M0 0h24v24H0V0z\" fill=\"none\"/>\n",
              "    <path d=\"M18.56 5.44l.94 2.06.94-2.06 2.06-.94-2.06-.94-.94-2.06-.94 2.06-2.06.94zm-11 1L8.5 8.5l.94-2.06 2.06-.94-2.06-.94L8.5 2.5l-.94 2.06-2.06.94zm10 10l.94 2.06.94-2.06 2.06-.94-2.06-.94-.94-2.06-.94 2.06-2.06.94z\"/><path d=\"M17.41 7.96l-1.37-1.37c-.4-.4-.92-.59-1.43-.59-.52 0-1.04.2-1.43.59L10.3 9.45l-7.72 7.72c-.78.78-.78 2.05 0 2.83L4 21.41c.39.39.9.59 1.41.59.51 0 1.02-.2 1.41-.59l7.78-7.78 2.81-2.81c.8-.78.8-2.07 0-2.86zM5.41 20L4 18.59l7.72-7.72 1.47 1.35L5.41 20z\"/>\n",
              "  </svg>\n",
              "      </button>\n",
              "      \n",
              "  <style>\n",
              "    .colab-df-container {\n",
              "      display:flex;\n",
              "      flex-wrap:wrap;\n",
              "      gap: 12px;\n",
              "    }\n",
              "\n",
              "    .colab-df-convert {\n",
              "      background-color: #E8F0FE;\n",
              "      border: none;\n",
              "      border-radius: 50%;\n",
              "      cursor: pointer;\n",
              "      display: none;\n",
              "      fill: #1967D2;\n",
              "      height: 32px;\n",
              "      padding: 0 0 0 0;\n",
              "      width: 32px;\n",
              "    }\n",
              "\n",
              "    .colab-df-convert:hover {\n",
              "      background-color: #E2EBFA;\n",
              "      box-shadow: 0px 1px 2px rgba(60, 64, 67, 0.3), 0px 1px 3px 1px rgba(60, 64, 67, 0.15);\n",
              "      fill: #174EA6;\n",
              "    }\n",
              "\n",
              "    [theme=dark] .colab-df-convert {\n",
              "      background-color: #3B4455;\n",
              "      fill: #D2E3FC;\n",
              "    }\n",
              "\n",
              "    [theme=dark] .colab-df-convert:hover {\n",
              "      background-color: #434B5C;\n",
              "      box-shadow: 0px 1px 3px 1px rgba(0, 0, 0, 0.15);\n",
              "      filter: drop-shadow(0px 1px 2px rgba(0, 0, 0, 0.3));\n",
              "      fill: #FFFFFF;\n",
              "    }\n",
              "  </style>\n",
              "\n",
              "      <script>\n",
              "        const buttonEl =\n",
              "          document.querySelector('#df-bb5baca4-7031-42b8-833d-0e75b2da328e button.colab-df-convert');\n",
              "        buttonEl.style.display =\n",
              "          google.colab.kernel.accessAllowed ? 'block' : 'none';\n",
              "\n",
              "        async function convertToInteractive(key) {\n",
              "          const element = document.querySelector('#df-bb5baca4-7031-42b8-833d-0e75b2da328e');\n",
              "          const dataTable =\n",
              "            await google.colab.kernel.invokeFunction('convertToInteractive',\n",
              "                                                     [key], {});\n",
              "          if (!dataTable) return;\n",
              "\n",
              "          const docLinkHtml = 'Like what you see? Visit the ' +\n",
              "            '<a target=\"_blank\" href=https://colab.research.google.com/notebooks/data_table.ipynb>data table notebook</a>'\n",
              "            + ' to learn more about interactive tables.';\n",
              "          element.innerHTML = '';\n",
              "          dataTable['output_type'] = 'display_data';\n",
              "          await google.colab.output.renderOutput(dataTable, element);\n",
              "          const docLink = document.createElement('div');\n",
              "          docLink.innerHTML = docLinkHtml;\n",
              "          element.appendChild(docLink);\n",
              "        }\n",
              "      </script>\n",
              "    </div>\n",
              "  </div>\n",
              "  "
            ]
          },
          "metadata": {},
          "execution_count": 13
        }
      ]
    },
    {
      "cell_type": "code",
      "source": [
        "data_viz['index'] = data_viz.index\n",
        "data_viz"
      ],
      "metadata": {
        "colab": {
          "base_uri": "https://localhost:8080/",
          "height": 627
        },
        "id": "bw_bAenK0hEL",
        "outputId": "4509ff8f-a222-4c7e-c3bd-f6755d95f041"
      },
      "execution_count": 14,
      "outputs": [
        {
          "output_type": "execute_result",
          "data": {
            "text/plain": [
              "      index  city_development_index  gender      relevent_experience  \\\n",
              "0         0                   0.776    Male   No relevent experience   \n",
              "1         1                   0.767    Male  Has relevent experience   \n",
              "2         2                   0.762    Male  Has relevent experience   \n",
              "3         3                   0.920    Male  Has relevent experience   \n",
              "4         4                   0.920    Male  Has relevent experience   \n",
              "...     ...                     ...     ...                      ...   \n",
              "8950   8950                   0.624    Male   No relevent experience   \n",
              "8951   8951                   0.920    Male  Has relevent experience   \n",
              "8952   8952                   0.920  Female  Has relevent experience   \n",
              "8953   8953                   0.920  Female  Has relevent experience   \n",
              "8954   8954                   0.920    Male  Has relevent experience   \n",
              "\n",
              "     enrolled_university education_level major_discipline experience  \\\n",
              "0          no_enrollment        Graduate             STEM         15   \n",
              "1          no_enrollment         Masters             STEM        >20   \n",
              "2          no_enrollment        Graduate             STEM         13   \n",
              "3          no_enrollment        Graduate             STEM          7   \n",
              "4          no_enrollment        Graduate             STEM          5   \n",
              "...                  ...             ...              ...        ...   \n",
              "8950    Full time course        Graduate             STEM          1   \n",
              "8951       no_enrollment         Masters             STEM          9   \n",
              "8952       no_enrollment        Graduate             STEM         10   \n",
              "8953       no_enrollment        Graduate       Humanities          7   \n",
              "8954       no_enrollment        Graduate             STEM        >20   \n",
              "\n",
              "     company_size    company_type last_new_job  training_hours  target  \n",
              "0           50-99         Pvt Ltd           >4              47     0.0  \n",
              "1           50-99  Funded Startup            4               8     0.0  \n",
              "2             <10         Pvt Ltd           >4              18     1.0  \n",
              "3           50-99         Pvt Ltd            1              46     1.0  \n",
              "4       5000-9999         Pvt Ltd            1             108     0.0  \n",
              "...           ...             ...          ...             ...     ...  \n",
              "8950      100-500         Pvt Ltd            1              52     1.0  \n",
              "8951        50-99         Pvt Ltd            1              36     1.0  \n",
              "8952      100-500   Public Sector            3              23     0.0  \n",
              "8953        10/49  Funded Startup            1              25     0.0  \n",
              "8954        50-99         Pvt Ltd            4              44     0.0  \n",
              "\n",
              "[8955 rows x 13 columns]"
            ],
            "text/html": [
              "\n",
              "  <div id=\"df-6c5c5173-f0bf-42c4-b78b-1d48a8c0f3e4\">\n",
              "    <div class=\"colab-df-container\">\n",
              "      <div>\n",
              "<style scoped>\n",
              "    .dataframe tbody tr th:only-of-type {\n",
              "        vertical-align: middle;\n",
              "    }\n",
              "\n",
              "    .dataframe tbody tr th {\n",
              "        vertical-align: top;\n",
              "    }\n",
              "\n",
              "    .dataframe thead th {\n",
              "        text-align: right;\n",
              "    }\n",
              "</style>\n",
              "<table border=\"1\" class=\"dataframe\">\n",
              "  <thead>\n",
              "    <tr style=\"text-align: right;\">\n",
              "      <th></th>\n",
              "      <th>index</th>\n",
              "      <th>city_development_index</th>\n",
              "      <th>gender</th>\n",
              "      <th>relevent_experience</th>\n",
              "      <th>enrolled_university</th>\n",
              "      <th>education_level</th>\n",
              "      <th>major_discipline</th>\n",
              "      <th>experience</th>\n",
              "      <th>company_size</th>\n",
              "      <th>company_type</th>\n",
              "      <th>last_new_job</th>\n",
              "      <th>training_hours</th>\n",
              "      <th>target</th>\n",
              "    </tr>\n",
              "  </thead>\n",
              "  <tbody>\n",
              "    <tr>\n",
              "      <th>0</th>\n",
              "      <td>0</td>\n",
              "      <td>0.776</td>\n",
              "      <td>Male</td>\n",
              "      <td>No relevent experience</td>\n",
              "      <td>no_enrollment</td>\n",
              "      <td>Graduate</td>\n",
              "      <td>STEM</td>\n",
              "      <td>15</td>\n",
              "      <td>50-99</td>\n",
              "      <td>Pvt Ltd</td>\n",
              "      <td>&gt;4</td>\n",
              "      <td>47</td>\n",
              "      <td>0.0</td>\n",
              "    </tr>\n",
              "    <tr>\n",
              "      <th>1</th>\n",
              "      <td>1</td>\n",
              "      <td>0.767</td>\n",
              "      <td>Male</td>\n",
              "      <td>Has relevent experience</td>\n",
              "      <td>no_enrollment</td>\n",
              "      <td>Masters</td>\n",
              "      <td>STEM</td>\n",
              "      <td>&gt;20</td>\n",
              "      <td>50-99</td>\n",
              "      <td>Funded Startup</td>\n",
              "      <td>4</td>\n",
              "      <td>8</td>\n",
              "      <td>0.0</td>\n",
              "    </tr>\n",
              "    <tr>\n",
              "      <th>2</th>\n",
              "      <td>2</td>\n",
              "      <td>0.762</td>\n",
              "      <td>Male</td>\n",
              "      <td>Has relevent experience</td>\n",
              "      <td>no_enrollment</td>\n",
              "      <td>Graduate</td>\n",
              "      <td>STEM</td>\n",
              "      <td>13</td>\n",
              "      <td>&lt;10</td>\n",
              "      <td>Pvt Ltd</td>\n",
              "      <td>&gt;4</td>\n",
              "      <td>18</td>\n",
              "      <td>1.0</td>\n",
              "    </tr>\n",
              "    <tr>\n",
              "      <th>3</th>\n",
              "      <td>3</td>\n",
              "      <td>0.920</td>\n",
              "      <td>Male</td>\n",
              "      <td>Has relevent experience</td>\n",
              "      <td>no_enrollment</td>\n",
              "      <td>Graduate</td>\n",
              "      <td>STEM</td>\n",
              "      <td>7</td>\n",
              "      <td>50-99</td>\n",
              "      <td>Pvt Ltd</td>\n",
              "      <td>1</td>\n",
              "      <td>46</td>\n",
              "      <td>1.0</td>\n",
              "    </tr>\n",
              "    <tr>\n",
              "      <th>4</th>\n",
              "      <td>4</td>\n",
              "      <td>0.920</td>\n",
              "      <td>Male</td>\n",
              "      <td>Has relevent experience</td>\n",
              "      <td>no_enrollment</td>\n",
              "      <td>Graduate</td>\n",
              "      <td>STEM</td>\n",
              "      <td>5</td>\n",
              "      <td>5000-9999</td>\n",
              "      <td>Pvt Ltd</td>\n",
              "      <td>1</td>\n",
              "      <td>108</td>\n",
              "      <td>0.0</td>\n",
              "    </tr>\n",
              "    <tr>\n",
              "      <th>...</th>\n",
              "      <td>...</td>\n",
              "      <td>...</td>\n",
              "      <td>...</td>\n",
              "      <td>...</td>\n",
              "      <td>...</td>\n",
              "      <td>...</td>\n",
              "      <td>...</td>\n",
              "      <td>...</td>\n",
              "      <td>...</td>\n",
              "      <td>...</td>\n",
              "      <td>...</td>\n",
              "      <td>...</td>\n",
              "      <td>...</td>\n",
              "    </tr>\n",
              "    <tr>\n",
              "      <th>8950</th>\n",
              "      <td>8950</td>\n",
              "      <td>0.624</td>\n",
              "      <td>Male</td>\n",
              "      <td>No relevent experience</td>\n",
              "      <td>Full time course</td>\n",
              "      <td>Graduate</td>\n",
              "      <td>STEM</td>\n",
              "      <td>1</td>\n",
              "      <td>100-500</td>\n",
              "      <td>Pvt Ltd</td>\n",
              "      <td>1</td>\n",
              "      <td>52</td>\n",
              "      <td>1.0</td>\n",
              "    </tr>\n",
              "    <tr>\n",
              "      <th>8951</th>\n",
              "      <td>8951</td>\n",
              "      <td>0.920</td>\n",
              "      <td>Male</td>\n",
              "      <td>Has relevent experience</td>\n",
              "      <td>no_enrollment</td>\n",
              "      <td>Masters</td>\n",
              "      <td>STEM</td>\n",
              "      <td>9</td>\n",
              "      <td>50-99</td>\n",
              "      <td>Pvt Ltd</td>\n",
              "      <td>1</td>\n",
              "      <td>36</td>\n",
              "      <td>1.0</td>\n",
              "    </tr>\n",
              "    <tr>\n",
              "      <th>8952</th>\n",
              "      <td>8952</td>\n",
              "      <td>0.920</td>\n",
              "      <td>Female</td>\n",
              "      <td>Has relevent experience</td>\n",
              "      <td>no_enrollment</td>\n",
              "      <td>Graduate</td>\n",
              "      <td>STEM</td>\n",
              "      <td>10</td>\n",
              "      <td>100-500</td>\n",
              "      <td>Public Sector</td>\n",
              "      <td>3</td>\n",
              "      <td>23</td>\n",
              "      <td>0.0</td>\n",
              "    </tr>\n",
              "    <tr>\n",
              "      <th>8953</th>\n",
              "      <td>8953</td>\n",
              "      <td>0.920</td>\n",
              "      <td>Female</td>\n",
              "      <td>Has relevent experience</td>\n",
              "      <td>no_enrollment</td>\n",
              "      <td>Graduate</td>\n",
              "      <td>Humanities</td>\n",
              "      <td>7</td>\n",
              "      <td>10/49</td>\n",
              "      <td>Funded Startup</td>\n",
              "      <td>1</td>\n",
              "      <td>25</td>\n",
              "      <td>0.0</td>\n",
              "    </tr>\n",
              "    <tr>\n",
              "      <th>8954</th>\n",
              "      <td>8954</td>\n",
              "      <td>0.920</td>\n",
              "      <td>Male</td>\n",
              "      <td>Has relevent experience</td>\n",
              "      <td>no_enrollment</td>\n",
              "      <td>Graduate</td>\n",
              "      <td>STEM</td>\n",
              "      <td>&gt;20</td>\n",
              "      <td>50-99</td>\n",
              "      <td>Pvt Ltd</td>\n",
              "      <td>4</td>\n",
              "      <td>44</td>\n",
              "      <td>0.0</td>\n",
              "    </tr>\n",
              "  </tbody>\n",
              "</table>\n",
              "<p>8955 rows × 13 columns</p>\n",
              "</div>\n",
              "      <button class=\"colab-df-convert\" onclick=\"convertToInteractive('df-6c5c5173-f0bf-42c4-b78b-1d48a8c0f3e4')\"\n",
              "              title=\"Convert this dataframe to an interactive table.\"\n",
              "              style=\"display:none;\">\n",
              "        \n",
              "  <svg xmlns=\"http://www.w3.org/2000/svg\" height=\"24px\"viewBox=\"0 0 24 24\"\n",
              "       width=\"24px\">\n",
              "    <path d=\"M0 0h24v24H0V0z\" fill=\"none\"/>\n",
              "    <path d=\"M18.56 5.44l.94 2.06.94-2.06 2.06-.94-2.06-.94-.94-2.06-.94 2.06-2.06.94zm-11 1L8.5 8.5l.94-2.06 2.06-.94-2.06-.94L8.5 2.5l-.94 2.06-2.06.94zm10 10l.94 2.06.94-2.06 2.06-.94-2.06-.94-.94-2.06-.94 2.06-2.06.94z\"/><path d=\"M17.41 7.96l-1.37-1.37c-.4-.4-.92-.59-1.43-.59-.52 0-1.04.2-1.43.59L10.3 9.45l-7.72 7.72c-.78.78-.78 2.05 0 2.83L4 21.41c.39.39.9.59 1.41.59.51 0 1.02-.2 1.41-.59l7.78-7.78 2.81-2.81c.8-.78.8-2.07 0-2.86zM5.41 20L4 18.59l7.72-7.72 1.47 1.35L5.41 20z\"/>\n",
              "  </svg>\n",
              "      </button>\n",
              "      \n",
              "  <style>\n",
              "    .colab-df-container {\n",
              "      display:flex;\n",
              "      flex-wrap:wrap;\n",
              "      gap: 12px;\n",
              "    }\n",
              "\n",
              "    .colab-df-convert {\n",
              "      background-color: #E8F0FE;\n",
              "      border: none;\n",
              "      border-radius: 50%;\n",
              "      cursor: pointer;\n",
              "      display: none;\n",
              "      fill: #1967D2;\n",
              "      height: 32px;\n",
              "      padding: 0 0 0 0;\n",
              "      width: 32px;\n",
              "    }\n",
              "\n",
              "    .colab-df-convert:hover {\n",
              "      background-color: #E2EBFA;\n",
              "      box-shadow: 0px 1px 2px rgba(60, 64, 67, 0.3), 0px 1px 3px 1px rgba(60, 64, 67, 0.15);\n",
              "      fill: #174EA6;\n",
              "    }\n",
              "\n",
              "    [theme=dark] .colab-df-convert {\n",
              "      background-color: #3B4455;\n",
              "      fill: #D2E3FC;\n",
              "    }\n",
              "\n",
              "    [theme=dark] .colab-df-convert:hover {\n",
              "      background-color: #434B5C;\n",
              "      box-shadow: 0px 1px 3px 1px rgba(0, 0, 0, 0.15);\n",
              "      filter: drop-shadow(0px 1px 2px rgba(0, 0, 0, 0.3));\n",
              "      fill: #FFFFFF;\n",
              "    }\n",
              "  </style>\n",
              "\n",
              "      <script>\n",
              "        const buttonEl =\n",
              "          document.querySelector('#df-6c5c5173-f0bf-42c4-b78b-1d48a8c0f3e4 button.colab-df-convert');\n",
              "        buttonEl.style.display =\n",
              "          google.colab.kernel.accessAllowed ? 'block' : 'none';\n",
              "\n",
              "        async function convertToInteractive(key) {\n",
              "          const element = document.querySelector('#df-6c5c5173-f0bf-42c4-b78b-1d48a8c0f3e4');\n",
              "          const dataTable =\n",
              "            await google.colab.kernel.invokeFunction('convertToInteractive',\n",
              "                                                     [key], {});\n",
              "          if (!dataTable) return;\n",
              "\n",
              "          const docLinkHtml = 'Like what you see? Visit the ' +\n",
              "            '<a target=\"_blank\" href=https://colab.research.google.com/notebooks/data_table.ipynb>data table notebook</a>'\n",
              "            + ' to learn more about interactive tables.';\n",
              "          element.innerHTML = '';\n",
              "          dataTable['output_type'] = 'display_data';\n",
              "          await google.colab.output.renderOutput(dataTable, element);\n",
              "          const docLink = document.createElement('div');\n",
              "          docLink.innerHTML = docLinkHtml;\n",
              "          element.appendChild(docLink);\n",
              "        }\n",
              "      </script>\n",
              "    </div>\n",
              "  </div>\n",
              "  "
            ]
          },
          "metadata": {},
          "execution_count": 14
        }
      ]
    },
    {
      "cell_type": "code",
      "source": [
        "print(data_viz['gender'].value_counts(),'\\n')\n",
        "\n",
        "sns.countplot(data_viz['gender']).set(title='gender')"
      ],
      "metadata": {
        "colab": {
          "base_uri": "https://localhost:8080/",
          "height": 454
        },
        "id": "YpA5w7Cq0q9Y",
        "outputId": "e9114aa6-f037-41f1-9ced-c07ccb6fd387"
      },
      "execution_count": 15,
      "outputs": [
        {
          "output_type": "stream",
          "name": "stdout",
          "text": [
            "Male      8073\n",
            "Female     804\n",
            "Other       78\n",
            "Name: gender, dtype: int64 \n",
            "\n"
          ]
        },
        {
          "output_type": "stream",
          "name": "stderr",
          "text": [
            "/usr/local/lib/python3.8/dist-packages/seaborn/_decorators.py:36: FutureWarning: Pass the following variable as a keyword arg: x. From version 0.12, the only valid positional argument will be `data`, and passing other arguments without an explicit keyword will result in an error or misinterpretation.\n",
            "  warnings.warn(\n"
          ]
        },
        {
          "output_type": "execute_result",
          "data": {
            "text/plain": [
              "[Text(0.5, 1.0, 'gender')]"
            ]
          },
          "metadata": {},
          "execution_count": 15
        },
        {
          "output_type": "display_data",
          "data": {
            "text/plain": [
              "<Figure size 432x288 with 1 Axes>"
            ],
            "image/png": "[encoded data removed]"
          },
          "metadata": {
            "needs_background": "light"
          }
        }
      ]
    },
    {
      "cell_type": "code",
      "source": [
        "print(data_viz['relevent_experience'].value_counts(),'\\n')\n",
        "\n",
        "sns.countplot(data_viz['relevent_experience']).set(title='relevent_experience')"
      ],
      "metadata": {
        "colab": {
          "base_uri": "https://localhost:8080/",
          "height": 438
        },
        "id": "zr2EgWr55P2Q",
        "outputId": "0a88e06d-b0f4-4006-faf8-2b52234be964"
      },
      "execution_count": 16,
      "outputs": [
        {
          "output_type": "stream",
          "name": "stdout",
          "text": [
            "Has relevent experience    7851\n",
            "No relevent experience     1104\n",
            "Name: relevent_experience, dtype: int64 \n",
            "\n"
          ]
        },
        {
          "output_type": "stream",
          "name": "stderr",
          "text": [
            "/usr/local/lib/python3.8/dist-packages/seaborn/_decorators.py:36: FutureWarning: Pass the following variable as a keyword arg: x. From version 0.12, the only valid positional argument will be `data`, and passing other arguments without an explicit keyword will result in an error or misinterpretation.\n",
            "  warnings.warn(\n"
          ]
        },
        {
          "output_type": "execute_result",
          "data": {
            "text/plain": [
              "[Text(0.5, 1.0, 'relevent_experience')]"
            ]
          },
          "metadata": {},
          "execution_count": 16
        },
        {
          "output_type": "display_data",
          "data": {
            "text/plain": [
              "<Figure size 432x288 with 1 Axes>"
            ],
            "image/png": "[encoded data removed]"
          },
          "metadata": {
            "needs_background": "light"
          }
        }
      ]
    },
    {
      "cell_type": "code",
      "source": [
        "print(data_viz['enrolled_university'].value_counts(),'\\n')\n",
        "\n",
        "sns.countplot(data_viz['enrolled_university']).set(title='enrolled_university')"
      ],
      "metadata": {
        "colab": {
          "base_uri": "https://localhost:8080/",
          "height": 456
        },
        "id": "YH9lX_yF6WUZ",
        "outputId": "b26af403-0b73-45db-eb88-99e700426e35"
      },
      "execution_count": 17,
      "outputs": [
        {
          "output_type": "stream",
          "name": "stdout",
          "text": [
            "no_enrollment       7594\n",
            "Full time course     832\n",
            "Part time course     529\n",
            "Name: enrolled_university, dtype: int64 \n",
            "\n"
          ]
        },
        {
          "output_type": "stream",
          "name": "stderr",
          "text": [
            "/usr/local/lib/python3.8/dist-packages/seaborn/_decorators.py:36: FutureWarning: Pass the following variable as a keyword arg: x. From version 0.12, the only valid positional argument will be `data`, and passing other arguments without an explicit keyword will result in an error or misinterpretation.\n",
            "  warnings.warn(\n"
          ]
        },
        {
          "output_type": "execute_result",
          "data": {
            "text/plain": [
              "[Text(0.5, 1.0, 'enrolled_university')]"
            ]
          },
          "metadata": {},
          "execution_count": 17
        },
        {
          "output_type": "display_data",
          "data": {
            "text/plain": [
              "<Figure size 432x288 with 1 Axes>"
            ],
            "image/png": "[encoded data removed]"
          },
          "metadata": {
            "needs_background": "light"
          }
        }
      ]
    },
    {
      "cell_type": "code",
      "source": [
        "print(data_viz['education_level'].value_counts(),'\\n')\n",
        "\n",
        "sns.countplot(data_viz['education_level']).set(title='education_level')"
      ],
      "metadata": {
        "colab": {
          "base_uri": "https://localhost:8080/",
          "height": 455
        },
        "outputId": "56b31f9f-c174-4df7-e197-4a16d934c1f1",
        "id": "nZ1w_0gL6vJH"
      },
      "execution_count": 18,
      "outputs": [
        {
          "output_type": "stream",
          "name": "stdout",
          "text": [
            "Graduate    6252\n",
            "Masters     2449\n",
            "Phd          254\n",
            "Name: education_level, dtype: int64 \n",
            "\n"
          ]
        },
        {
          "output_type": "stream",
          "name": "stderr",
          "text": [
            "/usr/local/lib/python3.8/dist-packages/seaborn/_decorators.py:36: FutureWarning: Pass the following variable as a keyword arg: x. From version 0.12, the only valid positional argument will be `data`, and passing other arguments without an explicit keyword will result in an error or misinterpretation.\n",
            "  warnings.warn(\n"
          ]
        },
        {
          "output_type": "execute_result",
          "data": {
            "text/plain": [
              "[Text(0.5, 1.0, 'education_level')]"
            ]
          },
          "metadata": {},
          "execution_count": 18
        },
        {
          "output_type": "display_data",
          "data": {
            "text/plain": [
              "<Figure size 432x288 with 1 Axes>"
            ],
            "image/png": "[encoded data removed]"
          },
          "metadata": {
            "needs_background": "light"
          }
        }
      ]
    },
    {
      "cell_type": "code",
      "source": [
        "print(data_viz['major_discipline'].value_counts(),'\\n')\n",
        "\n",
        "sns.countplot(data_viz['major_discipline']).set(title='major_discipline')"
      ],
      "metadata": {
        "colab": {
          "base_uri": "https://localhost:8080/",
          "height": 507
        },
        "outputId": "1d6ceae8-e646-4efc-e550-681a473d345f",
        "id": "orKwbvsU6v8I"
      },
      "execution_count": 19,
      "outputs": [
        {
          "output_type": "stream",
          "name": "stdout",
          "text": [
            "STEM               7989\n",
            "Humanities          378\n",
            "Other               177\n",
            "Business Degree     170\n",
            "Arts                129\n",
            "No Major            112\n",
            "Name: major_discipline, dtype: int64 \n",
            "\n"
          ]
        },
        {
          "output_type": "stream",
          "name": "stderr",
          "text": [
            "/usr/local/lib/python3.8/dist-packages/seaborn/_decorators.py:36: FutureWarning: Pass the following variable as a keyword arg: x. From version 0.12, the only valid positional argument will be `data`, and passing other arguments without an explicit keyword will result in an error or misinterpretation.\n",
            "  warnings.warn(\n"
          ]
        },
        {
          "output_type": "execute_result",
          "data": {
            "text/plain": [
              "[Text(0.5, 1.0, 'major_discipline')]"
            ]
          },
          "metadata": {},
          "execution_count": 19
        },
        {
          "output_type": "display_data",
          "data": {
            "text/plain": [
              "<Figure size 432x288 with 1 Axes>"
            ],
            "image/png": "[encoded data removed]"
          },
          "metadata": {
            "needs_background": "light"
          }
        }
      ]
    },
    {
      "cell_type": "code",
      "source": [
        "print(data_viz['experience'].value_counts(),'\\n')\n",
        "\n",
        "sns.countplot(x = 'experience',\n",
        "              data = data_viz,\n",
        "              order = data_viz['experience'].value_counts().index).set(title='experience')"
      ],
      "metadata": {
        "colab": {
          "base_uri": "https://localhost:8080/",
          "height": 729
        },
        "outputId": "dbb247ad-3194-4de6-fa0e-861fc4d2f435",
        "id": "PQPrdnmt6wHu"
      },
      "execution_count": 20,
      "outputs": [
        {
          "output_type": "stream",
          "name": "stdout",
          "text": [
            ">20    1881\n",
            "5       575\n",
            "10      551\n",
            "6       535\n",
            "9       533\n",
            "7       485\n",
            "4       480\n",
            "3       428\n",
            "8       398\n",
            "15      398\n",
            "11      372\n",
            "14      333\n",
            "16      304\n",
            "2       297\n",
            "12      293\n",
            "13      235\n",
            "17      206\n",
            "19      179\n",
            "18      168\n",
            "1       121\n",
            "<1       97\n",
            "20       86\n",
            "Name: experience, dtype: int64 \n",
            "\n"
          ]
        },
        {
          "output_type": "execute_result",
          "data": {
            "text/plain": [
              "[Text(0.5, 1.0, 'experience')]"
            ]
          },
          "metadata": {},
          "execution_count": 20
        },
        {
          "output_type": "display_data",
          "data": {
            "text/plain": [
              "<Figure size 432x288 with 1 Axes>"
            ],
            "image/png": "[encoded data removed]"
          },
          "metadata": {
            "needs_background": "light"
          }
        }
      ]
    },
    {
      "cell_type": "code",
      "source": [
        "print(data_viz['company_type'].value_counts(),'\\n')\n",
        "\n",
        "plt.figure(figsize=(10,5))\n",
        "sns.countplot(data_viz['company_type']).set(title='company_type')"
      ],
      "metadata": {
        "colab": {
          "base_uri": "https://localhost:8080/",
          "height": 561
        },
        "outputId": "298f58d4-2896-4092-8e29-4b38647c808a",
        "id": "0BhW2iGP6wVK"
      },
      "execution_count": 21,
      "outputs": [
        {
          "output_type": "stream",
          "name": "stdout",
          "text": [
            "Pvt Ltd                6794\n",
            "Funded Startup          784\n",
            "Public Sector           564\n",
            "Early Stage Startup     385\n",
            "NGO                     356\n",
            "Other                    72\n",
            "Name: company_type, dtype: int64 \n",
            "\n"
          ]
        },
        {
          "output_type": "stream",
          "name": "stderr",
          "text": [
            "/usr/local/lib/python3.8/dist-packages/seaborn/_decorators.py:36: FutureWarning: Pass the following variable as a keyword arg: x. From version 0.12, the only valid positional argument will be `data`, and passing other arguments without an explicit keyword will result in an error or misinterpretation.\n",
            "  warnings.warn(\n"
          ]
        },
        {
          "output_type": "execute_result",
          "data": {
            "text/plain": [
              "[Text(0.5, 1.0, 'company_type')]"
            ]
          },
          "metadata": {},
          "execution_count": 21
        },
        {
          "output_type": "display_data",
          "data": {
            "text/plain": [
              "<Figure size 720x360 with 1 Axes>"
            ],
            "image/png": "[encoded data removed]"
          },
          "metadata": {
            "needs_background": "light"
          }
        }
      ]
    },
    {
      "cell_type": "markdown",
      "source": [
        "# **Encoding**"
      ],
      "metadata": {
        "id": "n9jU2HikNMfY"
      }
    },
    {
      "cell_type": "code",
      "source": [
        "column_names = new_train_data.columns.values.tolist()\n",
        "column_names"
      ],
      "metadata": {
        "colab": {
          "base_uri": "https://localhost:8080/"
        },
        "id": "ahlbWFeyNp5E",
        "outputId": "e79e81b8-be73-4aee-d6eb-705ab1d23394"
      },
      "execution_count": 22,
      "outputs": [
        {
          "output_type": "execute_result",
          "data": {
            "text/plain": [
              "['city_development_index',\n",
              " 'gender',\n",
              " 'relevent_experience',\n",
              " 'enrolled_university',\n",
              " 'education_level',\n",
              " 'major_discipline',\n",
              " 'experience',\n",
              " 'company_size',\n",
              " 'company_type',\n",
              " 'last_new_job',\n",
              " 'training_hours',\n",
              " 'target']"
            ]
          },
          "metadata": {},
          "execution_count": 22
        }
      ]
    },
    {
      "cell_type": "code",
      "source": [
        "cn = column_names[:10]\n",
        "cnt = column_names[11]"
      ],
      "metadata": {
        "id": "a9zzd9YQWFJd"
      },
      "execution_count": 23,
      "outputs": []
    },
    {
      "cell_type": "code",
      "source": [
        "label_encoder = preprocessing.LabelEncoder()"
      ],
      "metadata": {
        "id": "dtl-e5Li0VVs"
      },
      "execution_count": 24,
      "outputs": []
    },
    {
      "cell_type": "code",
      "source": [
        "for i in cn:\n",
        "  print(i)\n",
        "  print(\"Train Before Encoding: \" + str(new_train_data[i].unique()))\n",
        "  new_train_data[i]= label_encoder.fit_transform(new_train_data[i])\n",
        "  print(\"Train After Encoding: \" + str(new_train_data[i].unique()))\n",
        "  print(\" \")\n",
        "  print(\"Test Before Encoding: \" + str(new_test_data[i].unique()))\n",
        "  new_test_data[i]= label_encoder.fit_transform(new_test_data[i])\n",
        "  print(\"Test After Encoding: \" + str(new_test_data[i].unique()))\n",
        "  print(\" \")\n",
        "  print(\" \")"
      ],
      "metadata": {
        "colab": {
          "base_uri": "https://localhost:8080/"
        },
        "id": "ajdLFNInWuUO",
        "outputId": "eb016bec-08a8-45c0-fa96-561bbae13b2a"
      },
      "execution_count": 25,
      "outputs": [
        {
          "output_type": "stream",
          "name": "stdout",
          "text": [
            "city_development_index\n",
            "Train Before Encoding: [0.776 0.767 0.762 0.92  0.913 0.926 0.843 0.624 0.91  0.923 0.666 0.794\n",
            " 0.924 0.754 0.939 0.887 0.865 0.855 0.827 0.893 0.884 0.866 0.802 0.55\n",
            " 0.897 0.925 0.896 0.878 0.693 0.698 0.949 0.789 0.903 0.727 0.64  0.516\n",
            " 0.579 0.804 0.743 0.915 0.899 0.836 0.89  0.795 0.682 0.558 0.796 0.895\n",
            " 0.769 0.84  0.691 0.742 0.555 0.738 0.527 0.921 0.856 0.479 0.73  0.764\n",
            " 0.68  0.689 0.848 0.722 0.763 0.74  0.766 0.788 0.83  0.78  0.898 0.847\n",
            " 0.556 0.512 0.725 0.739 0.563 0.775 0.647 0.701 0.645 0.824 0.745 0.448\n",
            " 0.735 0.518 0.649 0.781 0.625 0.493 0.487]\n",
            "Train After Encoding: [47 44 40 83 81 88 62 14 80 85 20 52 86 39 89 71 67 65 58 73 70 68 55  8\n",
            " 76 87 75 69 25 26 90 51 79 30 16  5 13 56 37 82 78 60 72 53 22 11 54 74\n",
            " 45 61 24 36  9 33  7 84 66  1 31 42 21 23 64 28 41 35 43 50 59 48 77 63\n",
            " 10  4 29 34 12 46 18 27 17 57 38  0 32  6 19 49 15  3  2]\n",
            " \n",
            "Test Before Encoding: [0.827 0.92  0.698 0.762 0.624 0.722 0.926 0.91  0.913 0.897 0.924 0.939\n",
            " 0.794 0.923 0.666 0.55  0.74  0.487 0.848 0.855 0.884 0.878 0.754 0.856\n",
            " 0.579 0.764 0.921 0.925 0.949 0.689 0.903 0.898 0.804 0.682 0.738 0.899\n",
            " 0.512 0.802 0.893 0.83  0.743 0.527 0.843 0.847 0.795 0.896 0.767 0.915\n",
            " 0.836 0.789 0.895 0.866 0.776 0.766 0.693 0.763 0.516 0.691 0.89  0.742\n",
            " 0.865 0.781 0.558 0.64  0.563 0.887 0.727 0.769 0.796 0.725]\n",
            "Test After Encoding: [38 62 15 24  8 16 67 59 60 55 65 68 33 64 10  4 20  0 43 44 49 48 23 45\n",
            "  7 26 63 66 69 12 58 56 37 11 19 57  1 36 52 39 22  3 41 42 34 54 28 61\n",
            " 40 32 53 47 30 27 14 25  2 13 51 21 46 31  5  9  6 50 18 29 35 17]\n",
            " \n",
            " \n",
            "gender\n",
            "Train Before Encoding: ['Male' 'Female' 'Other']\n",
            "Train After Encoding: [1 0 2]\n",
            " \n",
            "Test Before Encoding: ['Male' 'Female' 'Other']\n",
            "Test After Encoding: [1 0 2]\n",
            " \n",
            " \n",
            "relevent_experience\n",
            "Train Before Encoding: ['No relevent experience' 'Has relevent experience']\n",
            "Train After Encoding: [1 0]\n",
            " \n",
            "Test Before Encoding: ['Has relevent experience' 'No relevent experience']\n",
            "Test After Encoding: [0 1]\n",
            " \n",
            " \n",
            "enrolled_university\n",
            "Train Before Encoding: ['no_enrollment' 'Part time course' 'Full time course']\n",
            "Train After Encoding: [2 1 0]\n",
            " \n",
            "Test Before Encoding: ['no_enrollment' 'Part time course' 'Full time course']\n",
            "Test After Encoding: [2 1 0]\n",
            " \n",
            " \n",
            "education_level\n",
            "Train Before Encoding: ['Graduate' 'Masters' 'Phd']\n",
            "Train After Encoding: [0 1 2]\n",
            " \n",
            "Test Before Encoding: ['Masters' 'Graduate' 'Phd']\n",
            "Test After Encoding: [1 0 2]\n",
            " \n",
            " \n",
            "major_discipline\n",
            "Train Before Encoding: ['STEM' 'Humanities' 'Business Degree' 'Other' 'No Major' 'Arts']\n",
            "Train After Encoding: [5 2 1 4 3 0]\n",
            " \n",
            "Test Before Encoding: ['STEM' 'Business Degree' 'Arts' 'No Major' 'Humanities' 'Other']\n",
            "Test After Encoding: [5 1 0 3 2 4]\n",
            " \n",
            " \n",
            "experience\n",
            "Train Before Encoding: ['15' '>20' '13' '7' '5' '16' '11' '<1' '18' '19' '12' '10' '9' '2' '6'\n",
            " '4' '14' '3' '8' '17' '20' '1']\n",
            "Train After Encoding: [ 6 21  4 17 15  7  2 20  9 10  3  1 19 11 16 14  5 13 18  8 12  0]\n",
            " \n",
            "Test Before Encoding: ['11' '>20' '20' '8' '4' '2' '6' '19' '7' '16' '5' '3' '10' '14' '18' '<1'\n",
            " '13' '12' '9' '17' '1' '15']\n",
            "Test After Encoding: [ 2 21 12 18 14 11 16 10 17  7 15 13  1  5  9 20  4  3 19  8  0  6]\n",
            " \n",
            " \n",
            "company_size\n",
            "Train Before Encoding: ['50-99' '<10' '5000-9999' '1000-4999' '10/49' '100-500' '10000+'\n",
            " '500-999']\n",
            "Train After Encoding: [4 7 6 2 0 1 3 5]\n",
            " \n",
            "Test Before Encoding: ['10/49' '10000+' '100-500' '50-99' '1000-4999' '<10' '500-999'\n",
            " '5000-9999']\n",
            "Test After Encoding: [0 3 1 4 2 7 5 6]\n",
            " \n",
            " \n",
            "company_type\n",
            "Train Before Encoding: ['Pvt Ltd' 'Funded Startup' 'Early Stage Startup' 'Public Sector' 'NGO'\n",
            " 'Other']\n",
            "Train After Encoding: [5 1 0 4 2 3]\n",
            " \n",
            "Test Before Encoding: ['Pvt Ltd' 'Other' 'Early Stage Startup' 'NGO' 'Funded Startup'\n",
            " 'Public Sector']\n",
            "Test After Encoding: [5 3 0 2 1 4]\n",
            " \n",
            " \n",
            "last_new_job\n",
            "Train Before Encoding: ['>4' '4' '1' '3' '2' 'never']\n",
            "Train After Encoding: [4 3 0 2 1 5]\n",
            " \n",
            "Test Before Encoding: ['1' '>4' '2' 'never' '3' '4']\n",
            "Test After Encoding: [0 4 1 5 2 3]\n",
            " \n",
            " \n"
          ]
        }
      ]
    },
    {
      "cell_type": "code",
      "source": [
        "new_train_data['target'].unique()"
      ],
      "metadata": {
        "colab": {
          "base_uri": "https://localhost:8080/"
        },
        "id": "pdSHf1SN17ct",
        "outputId": "fbc79cf4-f135-4580-e6a5-53b22f8afef9"
      },
      "execution_count": 26,
      "outputs": [
        {
          "output_type": "execute_result",
          "data": {
            "text/plain": [
              "array([0., 1.])"
            ]
          },
          "metadata": {},
          "execution_count": 26
        }
      ]
    },
    {
      "cell_type": "code",
      "source": [
        "new_train_data['target']= label_encoder.fit_transform(new_train_data['target'])\n",
        "new_train_data['target'].unique()"
      ],
      "metadata": {
        "colab": {
          "base_uri": "https://localhost:8080/"
        },
        "id": "SFPScN0Z18_-",
        "outputId": "d5be7172-6e02-463a-ae9a-7f5c80817fd6"
      },
      "execution_count": 27,
      "outputs": [
        {
          "output_type": "execute_result",
          "data": {
            "text/plain": [
              "array([0, 1])"
            ]
          },
          "metadata": {},
          "execution_count": 27
        }
      ]
    },
    {
      "cell_type": "code",
      "source": [
        "plt.figure(figsize=(15,8))\n",
        "dataplot=sns.heatmap(new_train_data.corr(), annot=True)\n",
        "plt.show()"
      ],
      "metadata": {
        "colab": {
          "base_uri": "https://localhost:8080/",
          "height": 598
        },
        "id": "8dWAPG-xw_Dj",
        "outputId": "5b440275-70f3-4c3d-dd0c-57ed32a8c951"
      },
      "execution_count": 28,
      "outputs": [
        {
          "output_type": "display_data",
          "data": {
            "text/plain": [
              "<Figure size 1080x576 with 2 Axes>"
            ],
            "image/png": "[encoded data removed]"
          },
          "metadata": {
            "needs_background": "light"
          }
        }
      ]
    },
    {
      "cell_type": "code",
      "source": [
        "new_train_data.head()"
      ],
      "metadata": {
        "colab": {
          "base_uri": "https://localhost:8080/",
          "height": 270
        },
        "id": "JDN70mlR4Mnz",
        "outputId": "26e32930-72d9-46fe-dd65-a966acdbe0e6"
      },
      "execution_count": 29,
      "outputs": [
        {
          "output_type": "execute_result",
          "data": {
            "text/plain": [
              "    city_development_index  gender  relevent_experience  enrolled_university  \\\n",
              "1                       47       1                    1                    2   \n",
              "4                       44       1                    0                    2   \n",
              "7                       40       1                    0                    2   \n",
              "8                       83       1                    0                    2   \n",
              "11                      83       1                    0                    2   \n",
              "\n",
              "    education_level  major_discipline  experience  company_size  company_type  \\\n",
              "1                 0                 5           6             4             5   \n",
              "4                 1                 5          21             4             1   \n",
              "7                 0                 5           4             7             5   \n",
              "8                 0                 5          17             4             5   \n",
              "11                0                 5          15             6             5   \n",
              "\n",
              "    last_new_job  training_hours  target  \n",
              "1              4              47       0  \n",
              "4              3               8       0  \n",
              "7              4              18       1  \n",
              "8              0              46       1  \n",
              "11             0             108       0  "
            ],
            "text/html": [
              "\n",
              "  <div id=\"df-13d185f5-9fdf-4b44-9e22-1f46ee16c7be\">\n",
              "    <div class=\"colab-df-container\">\n",
              "      <div>\n",
              "<style scoped>\n",
              "    .dataframe tbody tr th:only-of-type {\n",
              "        vertical-align: middle;\n",
              "    }\n",
              "\n",
              "    .dataframe tbody tr th {\n",
              "        vertical-align: top;\n",
              "    }\n",
              "\n",
              "    .dataframe thead th {\n",
              "        text-align: right;\n",
              "    }\n",
              "</style>\n",
              "<table border=\"1\" class=\"dataframe\">\n",
              "  <thead>\n",
              "    <tr style=\"text-align: right;\">\n",
              "      <th></th>\n",
              "      <th>city_development_index</th>\n",
              "      <th>gender</th>\n",
              "      <th>relevent_experience</th>\n",
              "      <th>enrolled_university</th>\n",
              "      <th>education_level</th>\n",
              "      <th>major_discipline</th>\n",
              "      <th>experience</th>\n",
              "      <th>company_size</th>\n",
              "      <th>company_type</th>\n",
              "      <th>last_new_job</th>\n",
              "      <th>training_hours</th>\n",
              "      <th>target</th>\n",
              "    </tr>\n",
              "  </thead>\n",
              "  <tbody>\n",
              "    <tr>\n",
              "      <th>1</th>\n",
              "      <td>47</td>\n",
              "      <td>1</td>\n",
              "      <td>1</td>\n",
              "      <td>2</td>\n",
              "      <td>0</td>\n",
              "      <td>5</td>\n",
              "      <td>6</td>\n",
              "      <td>4</td>\n",
              "      <td>5</td>\n",
              "      <td>4</td>\n",
              "      <td>47</td>\n",
              "      <td>0</td>\n",
              "    </tr>\n",
              "    <tr>\n",
              "      <th>4</th>\n",
              "      <td>44</td>\n",
              "      <td>1</td>\n",
              "      <td>0</td>\n",
              "      <td>2</td>\n",
              "      <td>1</td>\n",
              "      <td>5</td>\n",
              "      <td>21</td>\n",
              "      <td>4</td>\n",
              "      <td>1</td>\n",
              "      <td>3</td>\n",
              "      <td>8</td>\n",
              "      <td>0</td>\n",
              "    </tr>\n",
              "    <tr>\n",
              "      <th>7</th>\n",
              "      <td>40</td>\n",
              "      <td>1</td>\n",
              "      <td>0</td>\n",
              "      <td>2</td>\n",
              "      <td>0</td>\n",
              "      <td>5</td>\n",
              "      <td>4</td>\n",
              "      <td>7</td>\n",
              "      <td>5</td>\n",
              "      <td>4</td>\n",
              "      <td>18</td>\n",
              "      <td>1</td>\n",
              "    </tr>\n",
              "    <tr>\n",
              "      <th>8</th>\n",
              "      <td>83</td>\n",
              "      <td>1</td>\n",
              "      <td>0</td>\n",
              "      <td>2</td>\n",
              "      <td>0</td>\n",
              "      <td>5</td>\n",
              "      <td>17</td>\n",
              "      <td>4</td>\n",
              "      <td>5</td>\n",
              "      <td>0</td>\n",
              "      <td>46</td>\n",
              "      <td>1</td>\n",
              "    </tr>\n",
              "    <tr>\n",
              "      <th>11</th>\n",
              "      <td>83</td>\n",
              "      <td>1</td>\n",
              "      <td>0</td>\n",
              "      <td>2</td>\n",
              "      <td>0</td>\n",
              "      <td>5</td>\n",
              "      <td>15</td>\n",
              "      <td>6</td>\n",
              "      <td>5</td>\n",
              "      <td>0</td>\n",
              "      <td>108</td>\n",
              "      <td>0</td>\n",
              "    </tr>\n",
              "  </tbody>\n",
              "</table>\n",
              "</div>\n",
              "      <button class=\"colab-df-convert\" onclick=\"convertToInteractive('df-13d185f5-9fdf-4b44-9e22-1f46ee16c7be')\"\n",
              "              title=\"Convert this dataframe to an interactive table.\"\n",
              "              style=\"display:none;\">\n",
              "        \n",
              "  <svg xmlns=\"http://www.w3.org/2000/svg\" height=\"24px\"viewBox=\"0 0 24 24\"\n",
              "       width=\"24px\">\n",
              "    <path d=\"M0 0h24v24H0V0z\" fill=\"none\"/>\n",
              "    <path d=\"M18.56 5.44l.94 2.06.94-2.06 2.06-.94-2.06-.94-.94-2.06-.94 2.06-2.06.94zm-11 1L8.5 8.5l.94-2.06 2.06-.94-2.06-.94L8.5 2.5l-.94 2.06-2.06.94zm10 10l.94 2.06.94-2.06 2.06-.94-2.06-.94-.94-2.06-.94 2.06-2.06.94z\"/><path d=\"M17.41 7.96l-1.37-1.37c-.4-.4-.92-.59-1.43-.59-.52 0-1.04.2-1.43.59L10.3 9.45l-7.72 7.72c-.78.78-.78 2.05 0 2.83L4 21.41c.39.39.9.59 1.41.59.51 0 1.02-.2 1.41-.59l7.78-7.78 2.81-2.81c.8-.78.8-2.07 0-2.86zM5.41 20L4 18.59l7.72-7.72 1.47 1.35L5.41 20z\"/>\n",
              "  </svg>\n",
              "      </button>\n",
              "      \n",
              "  <style>\n",
              "    .colab-df-container {\n",
              "      display:flex;\n",
              "      flex-wrap:wrap;\n",
              "      gap: 12px;\n",
              "    }\n",
              "\n",
              "    .colab-df-convert {\n",
              "      background-color: #E8F0FE;\n",
              "      border: none;\n",
              "      border-radius: 50%;\n",
              "      cursor: pointer;\n",
              "      display: none;\n",
              "      fill: #1967D2;\n",
              "      height: 32px;\n",
              "      padding: 0 0 0 0;\n",
              "      width: 32px;\n",
              "    }\n",
              "\n",
              "    .colab-df-convert:hover {\n",
              "      background-color: #E2EBFA;\n",
              "      box-shadow: 0px 1px 2px rgba(60, 64, 67, 0.3), 0px 1px 3px 1px rgba(60, 64, 67, 0.15);\n",
              "      fill: #174EA6;\n",
              "    }\n",
              "\n",
              "    [theme=dark] .colab-df-convert {\n",
              "      background-color: #3B4455;\n",
              "      fill: #D2E3FC;\n",
              "    }\n",
              "\n",
              "    [theme=dark] .colab-df-convert:hover {\n",
              "      background-color: #434B5C;\n",
              "      box-shadow: 0px 1px 3px 1px rgba(0, 0, 0, 0.15);\n",
              "      filter: drop-shadow(0px 1px 2px rgba(0, 0, 0, 0.3));\n",
              "      fill: #FFFFFF;\n",
              "    }\n",
              "  </style>\n",
              "\n",
              "      <script>\n",
              "        const buttonEl =\n",
              "          document.querySelector('#df-13d185f5-9fdf-4b44-9e22-1f46ee16c7be button.colab-df-convert');\n",
              "        buttonEl.style.display =\n",
              "          google.colab.kernel.accessAllowed ? 'block' : 'none';\n",
              "\n",
              "        async function convertToInteractive(key) {\n",
              "          const element = document.querySelector('#df-13d185f5-9fdf-4b44-9e22-1f46ee16c7be');\n",
              "          const dataTable =\n",
              "            await google.colab.kernel.invokeFunction('convertToInteractive',\n",
              "                                                     [key], {});\n",
              "          if (!dataTable) return;\n",
              "\n",
              "          const docLinkHtml = 'Like what you see? Visit the ' +\n",
              "            '<a target=\"_blank\" href=https://colab.research.google.com/notebooks/data_table.ipynb>data table notebook</a>'\n",
              "            + ' to learn more about interactive tables.';\n",
              "          element.innerHTML = '';\n",
              "          dataTable['output_type'] = 'display_data';\n",
              "          await google.colab.output.renderOutput(dataTable, element);\n",
              "          const docLink = document.createElement('div');\n",
              "          docLink.innerHTML = docLinkHtml;\n",
              "          element.appendChild(docLink);\n",
              "        }\n",
              "      </script>\n",
              "    </div>\n",
              "  </div>\n",
              "  "
            ]
          },
          "metadata": {},
          "execution_count": 29
        }
      ]
    },
    {
      "cell_type": "code",
      "source": [
        "data_train = new_train_data\n",
        "data_test = new_test_data"
      ],
      "metadata": {
        "id": "LmebnGIe3y-a"
      },
      "execution_count": 30,
      "outputs": []
    },
    {
      "cell_type": "code",
      "source": [
        "indexs_train = []\n",
        "indexs_test = []\n",
        "\n",
        "for i in range (len(data_train)):\n",
        "  indexs_train.append(i)\n",
        "\n",
        "for i in range (len(data_test)):\n",
        "  indexs_test.append(i)"
      ],
      "metadata": {
        "id": "GtmcEQAg59Aj"
      },
      "execution_count": 31,
      "outputs": []
    },
    {
      "cell_type": "code",
      "source": [
        "data_train"
      ],
      "metadata": {
        "colab": {
          "base_uri": "https://localhost:8080/",
          "height": 488
        },
        "id": "k4xGYoDkcduT",
        "outputId": "8beab90d-de5e-4fb1-91fa-dca09a6d9190"
      },
      "execution_count": 32,
      "outputs": [
        {
          "output_type": "execute_result",
          "data": {
            "text/plain": [
              "       city_development_index  gender  relevent_experience  \\\n",
              "1                          47       1                    1   \n",
              "4                          44       1                    0   \n",
              "7                          40       1                    0   \n",
              "8                          83       1                    0   \n",
              "11                         83       1                    0   \n",
              "...                       ...     ...                  ...   \n",
              "19147                      14       1                    1   \n",
              "19149                      83       1                    0   \n",
              "19150                      83       0                    0   \n",
              "19152                      83       0                    0   \n",
              "19155                      83       1                    0   \n",
              "\n",
              "       enrolled_university  education_level  major_discipline  experience  \\\n",
              "1                        2                0                 5           6   \n",
              "4                        2                1                 5          21   \n",
              "7                        2                0                 5           4   \n",
              "8                        2                0                 5          17   \n",
              "11                       2                0                 5          15   \n",
              "...                    ...              ...               ...         ...   \n",
              "19147                    0                0                 5           0   \n",
              "19149                    2                1                 5          19   \n",
              "19150                    2                0                 5           1   \n",
              "19152                    2                0                 2          17   \n",
              "19155                    2                0                 5          21   \n",
              "\n",
              "       company_size  company_type  last_new_job  training_hours  target  \n",
              "1                 4             5             4              47       0  \n",
              "4                 4             1             3               8       0  \n",
              "7                 7             5             4              18       1  \n",
              "8                 4             5             0              46       1  \n",
              "11                6             5             0             108       0  \n",
              "...             ...           ...           ...             ...     ...  \n",
              "19147             1             5             0              52       1  \n",
              "19149             4             5             0              36       1  \n",
              "19150             1             4             2              23       0  \n",
              "19152             0             1             0              25       0  \n",
              "19155             4             5             3              44       0  \n",
              "\n",
              "[8955 rows x 12 columns]"
            ],
            "text/html": [
              "\n",
              "  <div id=\"df-38eb9993-567a-49f6-9701-52e0f3783859\">\n",
              "    <div class=\"colab-df-container\">\n",
              "      <div>\n",
              "<style scoped>\n",
              "    .dataframe tbody tr th:only-of-type {\n",
              "        vertical-align: middle;\n",
              "    }\n",
              "\n",
              "    .dataframe tbody tr th {\n",
              "        vertical-align: top;\n",
              "    }\n",
              "\n",
              "    .dataframe thead th {\n",
              "        text-align: right;\n",
              "    }\n",
              "</style>\n",
              "<table border=\"1\" class=\"dataframe\">\n",
              "  <thead>\n",
              "    <tr style=\"text-align: right;\">\n",
              "      <th></th>\n",
              "      <th>city_development_index</th>\n",
              "      <th>gender</th>\n",
              "      <th>relevent_experience</th>\n",
              "      <th>enrolled_university</th>\n",
              "      <th>education_level</th>\n",
              "      <th>major_discipline</th>\n",
              "      <th>experience</th>\n",
              "      <th>company_size</th>\n",
              "      <th>company_type</th>\n",
              "      <th>last_new_job</th>\n",
              "      <th>training_hours</th>\n",
              "      <th>target</th>\n",
              "    </tr>\n",
              "  </thead>\n",
              "  <tbody>\n",
              "    <tr>\n",
              "      <th>1</th>\n",
              "      <td>47</td>\n",
              "      <td>1</td>\n",
              "      <td>1</td>\n",
              "      <td>2</td>\n",
              "      <td>0</td>\n",
              "      <td>5</td>\n",
              "      <td>6</td>\n",
              "      <td>4</td>\n",
              "      <td>5</td>\n",
              "      <td>4</td>\n",
              "      <td>47</td>\n",
              "      <td>0</td>\n",
              "    </tr>\n",
              "    <tr>\n",
              "      <th>4</th>\n",
              "      <td>44</td>\n",
              "      <td>1</td>\n",
              "      <td>0</td>\n",
              "      <td>2</td>\n",
              "      <td>1</td>\n",
              "      <td>5</td>\n",
              "      <td>21</td>\n",
              "      <td>4</td>\n",
              "      <td>1</td>\n",
              "      <td>3</td>\n",
              "      <td>8</td>\n",
              "      <td>0</td>\n",
              "    </tr>\n",
              "    <tr>\n",
              "      <th>7</th>\n",
              "      <td>40</td>\n",
              "      <td>1</td>\n",
              "      <td>0</td>\n",
              "      <td>2</td>\n",
              "      <td>0</td>\n",
              "      <td>5</td>\n",
              "      <td>4</td>\n",
              "      <td>7</td>\n",
              "      <td>5</td>\n",
              "      <td>4</td>\n",
              "      <td>18</td>\n",
              "      <td>1</td>\n",
              "    </tr>\n",
              "    <tr>\n",
              "      <th>8</th>\n",
              "      <td>83</td>\n",
              "      <td>1</td>\n",
              "      <td>0</td>\n",
              "      <td>2</td>\n",
              "      <td>0</td>\n",
              "      <td>5</td>\n",
              "      <td>17</td>\n",
              "      <td>4</td>\n",
              "      <td>5</td>\n",
              "      <td>0</td>\n",
              "      <td>46</td>\n",
              "      <td>1</td>\n",
              "    </tr>\n",
              "    <tr>\n",
              "      <th>11</th>\n",
              "      <td>83</td>\n",
              "      <td>1</td>\n",
              "      <td>0</td>\n",
              "      <td>2</td>\n",
              "      <td>0</td>\n",
              "      <td>5</td>\n",
              "      <td>15</td>\n",
              "      <td>6</td>\n",
              "      <td>5</td>\n",
              "      <td>0</td>\n",
              "      <td>108</td>\n",
              "      <td>0</td>\n",
              "    </tr>\n",
              "    <tr>\n",
              "      <th>...</th>\n",
              "      <td>...</td>\n",
              "      <td>...</td>\n",
              "      <td>...</td>\n",
              "      <td>...</td>\n",
              "      <td>...</td>\n",
              "      <td>...</td>\n",
              "      <td>...</td>\n",
              "      <td>...</td>\n",
              "      <td>...</td>\n",
              "      <td>...</td>\n",
              "      <td>...</td>\n",
              "      <td>...</td>\n",
              "    </tr>\n",
              "    <tr>\n",
              "      <th>19147</th>\n",
              "      <td>14</td>\n",
              "      <td>1</td>\n",
              "      <td>1</td>\n",
              "      <td>0</td>\n",
              "      <td>0</td>\n",
              "      <td>5</td>\n",
              "      <td>0</td>\n",
              "      <td>1</td>\n",
              "      <td>5</td>\n",
              "      <td>0</td>\n",
              "      <td>52</td>\n",
              "      <td>1</td>\n",
              "    </tr>\n",
              "    <tr>\n",
              "      <th>19149</th>\n",
              "      <td>83</td>\n",
              "      <td>1</td>\n",
              "      <td>0</td>\n",
              "      <td>2</td>\n",
              "      <td>1</td>\n",
              "      <td>5</td>\n",
              "      <td>19</td>\n",
              "      <td>4</td>\n",
              "      <td>5</td>\n",
              "      <td>0</td>\n",
              "      <td>36</td>\n",
              "      <td>1</td>\n",
              "    </tr>\n",
              "    <tr>\n",
              "      <th>19150</th>\n",
              "      <td>83</td>\n",
              "      <td>0</td>\n",
              "      <td>0</td>\n",
              "      <td>2</td>\n",
              "      <td>0</td>\n",
              "      <td>5</td>\n",
              "      <td>1</td>\n",
              "      <td>1</td>\n",
              "      <td>4</td>\n",
              "      <td>2</td>\n",
              "      <td>23</td>\n",
              "      <td>0</td>\n",
              "    </tr>\n",
              "    <tr>\n",
              "      <th>19152</th>\n",
              "      <td>83</td>\n",
              "      <td>0</td>\n",
              "      <td>0</td>\n",
              "      <td>2</td>\n",
              "      <td>0</td>\n",
              "      <td>2</td>\n",
              "      <td>17</td>\n",
              "      <td>0</td>\n",
              "      <td>1</td>\n",
              "      <td>0</td>\n",
              "      <td>25</td>\n",
              "      <td>0</td>\n",
              "    </tr>\n",
              "    <tr>\n",
              "      <th>19155</th>\n",
              "      <td>83</td>\n",
              "      <td>1</td>\n",
              "      <td>0</td>\n",
              "      <td>2</td>\n",
              "      <td>0</td>\n",
              "      <td>5</td>\n",
              "      <td>21</td>\n",
              "      <td>4</td>\n",
              "      <td>5</td>\n",
              "      <td>3</td>\n",
              "      <td>44</td>\n",
              "      <td>0</td>\n",
              "    </tr>\n",
              "  </tbody>\n",
              "</table>\n",
              "<p>8955 rows × 12 columns</p>\n",
              "</div>\n",
              "      <button class=\"colab-df-convert\" onclick=\"convertToInteractive('df-38eb9993-567a-49f6-9701-52e0f3783859')\"\n",
              "              title=\"Convert this dataframe to an interactive table.\"\n",
              "              style=\"display:none;\">\n",
              "        \n",
              "  <svg xmlns=\"http://www.w3.org/2000/svg\" height=\"24px\"viewBox=\"0 0 24 24\"\n",
              "       width=\"24px\">\n",
              "    <path d=\"M0 0h24v24H0V0z\" fill=\"none\"/>\n",
              "    <path d=\"M18.56 5.44l.94 2.06.94-2.06 2.06-.94-2.06-.94-.94-2.06-.94 2.06-2.06.94zm-11 1L8.5 8.5l.94-2.06 2.06-.94-2.06-.94L8.5 2.5l-.94 2.06-2.06.94zm10 10l.94 2.06.94-2.06 2.06-.94-2.06-.94-.94-2.06-.94 2.06-2.06.94z\"/><path d=\"M17.41 7.96l-1.37-1.37c-.4-.4-.92-.59-1.43-.59-.52 0-1.04.2-1.43.59L10.3 9.45l-7.72 7.72c-.78.78-.78 2.05 0 2.83L4 21.41c.39.39.9.59 1.41.59.51 0 1.02-.2 1.41-.59l7.78-7.78 2.81-2.81c.8-.78.8-2.07 0-2.86zM5.41 20L4 18.59l7.72-7.72 1.47 1.35L5.41 20z\"/>\n",
              "  </svg>\n",
              "      </button>\n",
              "      \n",
              "  <style>\n",
              "    .colab-df-container {\n",
              "      display:flex;\n",
              "      flex-wrap:wrap;\n",
              "      gap: 12px;\n",
              "    }\n",
              "\n",
              "    .colab-df-convert {\n",
              "      background-color: #E8F0FE;\n",
              "      border: none;\n",
              "      border-radius: 50%;\n",
              "      cursor: pointer;\n",
              "      display: none;\n",
              "      fill: #1967D2;\n",
              "      height: 32px;\n",
              "      padding: 0 0 0 0;\n",
              "      width: 32px;\n",
              "    }\n",
              "\n",
              "    .colab-df-convert:hover {\n",
              "      background-color: #E2EBFA;\n",
              "      box-shadow: 0px 1px 2px rgba(60, 64, 67, 0.3), 0px 1px 3px 1px rgba(60, 64, 67, 0.15);\n",
              "      fill: #174EA6;\n",
              "    }\n",
              "\n",
              "    [theme=dark] .colab-df-convert {\n",
              "      background-color: #3B4455;\n",
              "      fill: #D2E3FC;\n",
              "    }\n",
              "\n",
              "    [theme=dark] .colab-df-convert:hover {\n",
              "      background-color: #434B5C;\n",
              "      box-shadow: 0px 1px 3px 1px rgba(0, 0, 0, 0.15);\n",
              "      filter: drop-shadow(0px 1px 2px rgba(0, 0, 0, 0.3));\n",
              "      fill: #FFFFFF;\n",
              "    }\n",
              "  </style>\n",
              "\n",
              "      <script>\n",
              "        const buttonEl =\n",
              "          document.querySelector('#df-38eb9993-567a-49f6-9701-52e0f3783859 button.colab-df-convert');\n",
              "        buttonEl.style.display =\n",
              "          google.colab.kernel.accessAllowed ? 'block' : 'none';\n",
              "\n",
              "        async function convertToInteractive(key) {\n",
              "          const element = document.querySelector('#df-38eb9993-567a-49f6-9701-52e0f3783859');\n",
              "          const dataTable =\n",
              "            await google.colab.kernel.invokeFunction('convertToInteractive',\n",
              "                                                     [key], {});\n",
              "          if (!dataTable) return;\n",
              "\n",
              "          const docLinkHtml = 'Like what you see? Visit the ' +\n",
              "            '<a target=\"_blank\" href=https://colab.research.google.com/notebooks/data_table.ipynb>data table notebook</a>'\n",
              "            + ' to learn more about interactive tables.';\n",
              "          element.innerHTML = '';\n",
              "          dataTable['output_type'] = 'display_data';\n",
              "          await google.colab.output.renderOutput(dataTable, element);\n",
              "          const docLink = document.createElement('div');\n",
              "          docLink.innerHTML = docLinkHtml;\n",
              "          element.appendChild(docLink);\n",
              "        }\n",
              "      </script>\n",
              "    </div>\n",
              "  </div>\n",
              "  "
            ]
          },
          "metadata": {},
          "execution_count": 32
        }
      ]
    },
    {
      "cell_type": "markdown",
      "source": [
        "# **Machine Learning**"
      ],
      "metadata": {
        "id": "LSN46VlEbic4"
      }
    },
    {
      "cell_type": "code",
      "source": [
        "X = data_train.drop(['target'], axis=1)\n",
        "X_Data1 = X.values\n",
        "\n",
        "Y = data_train[\"target\"]\n",
        "y_Data1 = Y.values\n",
        "\n",
        "X = data_test\n",
        "X_Data2 = X.values"
      ],
      "metadata": {
        "id": "6q70kTAfE7zP"
      },
      "execution_count": 33,
      "outputs": []
    },
    {
      "cell_type": "code",
      "source": [
        "X_Data1.shape"
      ],
      "metadata": {
        "colab": {
          "base_uri": "https://localhost:8080/"
        },
        "id": "vI43MZLtgaUF",
        "outputId": "7cec9bbe-6a5d-4b85-af88-c4d3ba79bef8"
      },
      "execution_count": 34,
      "outputs": [
        {
          "output_type": "execute_result",
          "data": {
            "text/plain": [
              "(8955, 11)"
            ]
          },
          "metadata": {},
          "execution_count": 34
        }
      ]
    },
    {
      "cell_type": "code",
      "source": [
        "X_Data2.shape"
      ],
      "metadata": {
        "colab": {
          "base_uri": "https://localhost:8080/"
        },
        "id": "PxjBBdHrgezj",
        "outputId": "3f22c668-e759-4d8e-ca59-e98057e146d1"
      },
      "execution_count": 35,
      "outputs": [
        {
          "output_type": "execute_result",
          "data": {
            "text/plain": [
              "(1019, 11)"
            ]
          },
          "metadata": {},
          "execution_count": 35
        }
      ]
    },
    {
      "cell_type": "code",
      "source": [
        "# X_train, X_test, y_train, y_test = train_test_split(\n",
        "#              X_Data1, y_Data1, test_size = 0.2, random_state=42)"
      ],
      "metadata": {
        "id": "BG_8YJ48Fy8A"
      },
      "execution_count": 81,
      "outputs": []
    },
    {
      "cell_type": "code",
      "source": [
        "# set aside 20% of train and test data for evaluation\n",
        "X_train, X_test, y_train, y_test = train_test_split(\n",
        "    X_Data1, y_Data1,test_size=0.2, shuffle = True, random_state = 8)"
      ],
      "metadata": {
        "id": "QLfR6hfiyHbF"
      },
      "execution_count": 85,
      "outputs": []
    },
    {
      "cell_type": "code",
      "source": [
        "# Use the same function above for the validation set\n",
        "X_train, X_val, y_train, y_val = train_test_split(\n",
        "    X_Data1, y_Data1, test_size=0.25, random_state= 8) # 0.25 x 0.8 = 0.2"
      ],
      "metadata": {
        "id": "F4DpZsI8yV1q"
      },
      "execution_count": 86,
      "outputs": []
    },
    {
      "cell_type": "code",
      "source": [
        "print(\"X_train shape: {}\".format(X_train.shape))\n",
        "print(\"X_test shape: {}\".format(X_test.shape))\n",
        "print(\"y_train shape: {}\".format(y_train.shape))\n",
        "print(\"y_test shape: {}\".format(y_test.shape))\n",
        "print(\"X_val shape: {}\".format(y_train.shape))\n",
        "print(\"y val shape: {}\".format(y_test.shape))"
      ],
      "metadata": {
        "colab": {
          "base_uri": "https://localhost:8080/"
        },
        "id": "zcr4yRUZypnS",
        "outputId": "662d8c54-faf6-4610-fc8b-f1f55239b57a"
      },
      "execution_count": 84,
      "outputs": [
        {
          "output_type": "stream",
          "name": "stdout",
          "text": [
            "X_train shape: (6716, 11)\n",
            "X_test shape: (1791, 11)\n",
            "y_train shape: (6716,)\n",
            "y_test shape: (1791,)\n",
            "X_val shape: (6716,)\n",
            "y val shape: (1791,)\n"
          ]
        }
      ]
    },
    {
      "cell_type": "markdown",
      "source": [
        "## **KNN**"
      ],
      "metadata": {
        "id": "8SZmMKdfjdk4"
      }
    },
    {
      "cell_type": "code",
      "source": [
        "n = []\n",
        "\n",
        "for i in range(1,16):\n",
        "  if i % 2 == 0:\n",
        "    continue\n",
        "  n.append(i)\n",
        "\n",
        "print(n)"
      ],
      "metadata": {
        "colab": {
          "base_uri": "https://localhost:8080/"
        },
        "id": "Up29bRSIiKWi",
        "outputId": "c2e92d5d-3cbc-49b4-d679-228765d5b9eb"
      },
      "execution_count": 40,
      "outputs": [
        {
          "output_type": "stream",
          "name": "stdout",
          "text": [
            "[1, 3, 5, 7, 9, 11, 13, 15]\n"
          ]
        }
      ]
    },
    {
      "cell_type": "code",
      "source": [
        "train_accuracy = np.empty(len(n))\n",
        "test_accuracy = np.empty(len(n))\n",
        "  \n",
        "# Loop over K values\n",
        "for i, k in enumerate(n):\n",
        "    print(\"neighbors \" + str(k) + \":\")\n",
        "    knn = KNeighborsClassifier(n_neighbors=k)\n",
        "    knn.fit(X_train, y_train)\n",
        "      \n",
        "    # Compute training and test data accuracy\n",
        "    train_accuracy[i] = knn.score(X_train, y_train)\n",
        "    print(\"train_accuracy[i]: \" + str(train_accuracy[i]))\n",
        "    test_accuracy[i] = knn.score(X_test, y_test)\n",
        "    print(\"test_accuracy[i]: \" + str(test_accuracy[i]))\n",
        "  \n",
        "# Generate plot\n",
        "plt.plot(n, test_accuracy, label = 'Testing dataset Accuracy')\n",
        "plt.plot(n, train_accuracy, label = 'Training dataset Accuracy')\n",
        "  \n",
        "plt.legend()\n",
        "plt.xlabel('n_neighbors')\n",
        "plt.ylabel('Accuracy')\n",
        "plt.show()"
      ],
      "metadata": {
        "colab": {
          "base_uri": "https://localhost:8080/",
          "height": 697
        },
        "id": "1rpUCs7SjFvU",
        "outputId": "5bd55cca-1a76-413f-fd46-7abc84ab0314"
      },
      "execution_count": 41,
      "outputs": [
        {
          "output_type": "stream",
          "name": "stdout",
          "text": [
            "neighbors 1:\n",
            "train_accuracy[i]: 0.9992555092316855\n",
            "test_accuracy[i]: 0.7666108319374652\n",
            "neighbors 3:\n",
            "train_accuracy[i]: 0.8944312090530078\n",
            "test_accuracy[i]: 0.8280290340591848\n",
            "neighbors 5:\n",
            "train_accuracy[i]: 0.8779035139964264\n",
            "test_accuracy[i]: 0.8341708542713567\n",
            "neighbors 7:\n",
            "train_accuracy[i]: 0.8741810601548541\n",
            "test_accuracy[i]: 0.8336125069793412\n",
            "neighbors 9:\n",
            "train_accuracy[i]: 0.8688207266229899\n",
            "test_accuracy[i]: 0.8397543271915131\n",
            "neighbors 11:\n",
            "train_accuracy[i]: 0.8673317450863609\n",
            "test_accuracy[i]: 0.8336125069793412\n",
            "neighbors 13:\n",
            "train_accuracy[i]: 0.867182846932698\n",
            "test_accuracy[i]: 0.8302624232272473\n",
            "neighbors 15:\n",
            "train_accuracy[i]: 0.863013698630137\n",
            "test_accuracy[i]: 0.8347292015633724\n"
          ]
        },
        {
          "output_type": "display_data",
          "data": {
            "text/plain": [
              "<Figure size 432x288 with 1 Axes>"
            ],
            "image/png": "[encoded data removed]"
          },
          "metadata": {
            "needs_background": "light"
          }
        }
      ]
    },
    {
      "cell_type": "code",
      "source": [
        "knn = KNeighborsClassifier(n_neighbors=9)\n",
        "  \n",
        "knn.fit(X_train, y_train)"
      ],
      "metadata": {
        "colab": {
          "base_uri": "https://localhost:8080/"
        },
        "id": "Igl5_VyOFaev",
        "outputId": "47a7e6a4-1754-403d-caa5-2478a8d77c06"
      },
      "execution_count": 42,
      "outputs": [
        {
          "output_type": "execute_result",
          "data": {
            "text/plain": [
              "KNeighborsClassifier(n_neighbors=9)"
            ]
          },
          "metadata": {},
          "execution_count": 42
        }
      ]
    },
    {
      "cell_type": "code",
      "source": [
        "print(knn.score(X_train, y_train))"
      ],
      "metadata": {
        "colab": {
          "base_uri": "https://localhost:8080/"
        },
        "id": "bbU9syPoGWRz",
        "outputId": "bb6c8d76-c448-4175-adf4-0e1bd5a8c808"
      },
      "execution_count": 43,
      "outputs": [
        {
          "output_type": "stream",
          "name": "stdout",
          "text": [
            "0.8688207266229899\n"
          ]
        }
      ]
    },
    {
      "cell_type": "code",
      "source": [
        "print(knn.score(X_test, y_test))"
      ],
      "metadata": {
        "colab": {
          "base_uri": "https://localhost:8080/"
        },
        "id": "BhcQ3RVeFpZv",
        "outputId": "2cfa132d-fbd7-442e-e81a-6ac92fb87f80"
      },
      "execution_count": 44,
      "outputs": [
        {
          "output_type": "stream",
          "name": "stdout",
          "text": [
            "0.8397543271915131\n"
          ]
        }
      ]
    },
    {
      "cell_type": "code",
      "source": [
        "print(knn.predict(X_Data2))"
      ],
      "metadata": {
        "colab": {
          "base_uri": "https://localhost:8080/"
        },
        "id": "ITyO2ZfvkO2M",
        "outputId": "df0113d1-3c4a-4329-accc-6b0ee712a20f"
      },
      "execution_count": 45,
      "outputs": [
        {
          "output_type": "stream",
          "name": "stdout",
          "text": [
            "[0 0 1 ... 1 0 0]\n"
          ]
        }
      ]
    },
    {
      "cell_type": "code",
      "source": [
        "knn.score(X_val, y_val)"
      ],
      "metadata": {
        "colab": {
          "base_uri": "https://localhost:8080/"
        },
        "id": "ZMP1NDcNzUVp",
        "outputId": "7e8d7f24-8ed0-44de-9480-a1c6469a7407"
      },
      "execution_count": 46,
      "outputs": [
        {
          "output_type": "execute_result",
          "data": {
            "text/plain": [
              "0.8423403305046896"
            ]
          },
          "metadata": {},
          "execution_count": 46
        }
      ]
    },
    {
      "cell_type": "markdown",
      "source": [
        "## **Logistic Regression**"
      ],
      "metadata": {
        "id": "JwDU2mHvjgsC"
      }
    },
    {
      "cell_type": "code",
      "source": [
        "model = LogisticRegression()"
      ],
      "metadata": {
        "id": "eOE6Trt5jl8K"
      },
      "execution_count": 47,
      "outputs": []
    },
    {
      "cell_type": "code",
      "source": [
        "model.fit(X_Data1, y_Data1)"
      ],
      "metadata": {
        "colab": {
          "base_uri": "https://localhost:8080/"
        },
        "id": "asyQybChjy-W",
        "outputId": "77c14b0e-5b66-45dc-e491-4d2b2b0a0688"
      },
      "execution_count": 48,
      "outputs": [
        {
          "output_type": "stream",
          "name": "stderr",
          "text": [
            "/usr/local/lib/python3.8/dist-packages/sklearn/linear_model/_logistic.py:814: ConvergenceWarning: lbfgs failed to converge (status=1):\n",
            "STOP: TOTAL NO. of ITERATIONS REACHED LIMIT.\n",
            "\n",
            "Increase the number of iterations (max_iter) or scale the data as shown in:\n",
            "    https://scikit-learn.org/stable/modules/preprocessing.html\n",
            "Please also refer to the documentation for alternative solver options:\n",
            "    https://scikit-learn.org/stable/modules/linear_model.html#logistic-regression\n",
            "  n_iter_i = _check_optimize_result(\n"
          ]
        },
        {
          "output_type": "execute_result",
          "data": {
            "text/plain": [
              "LogisticRegression()"
            ]
          },
          "metadata": {},
          "execution_count": 48
        }
      ]
    },
    {
      "cell_type": "code",
      "source": [
        "print(model.score(X_train, y_train))"
      ],
      "metadata": {
        "colab": {
          "base_uri": "https://localhost:8080/"
        },
        "id": "VTYT7xygkAD-",
        "outputId": "20830c1c-2bf9-427b-854f-795d6dd17770"
      },
      "execution_count": 49,
      "outputs": [
        {
          "output_type": "stream",
          "name": "stdout",
          "text": [
            "0.8417212626563431\n"
          ]
        }
      ]
    },
    {
      "cell_type": "code",
      "source": [
        "print(model.score(X_test, y_test))"
      ],
      "metadata": {
        "colab": {
          "base_uri": "https://localhost:8080/"
        },
        "id": "DkzYe_XBkHaM",
        "outputId": "c944a9ac-38ca-4814-9b5a-acacb2021060"
      },
      "execution_count": 50,
      "outputs": [
        {
          "output_type": "stream",
          "name": "stdout",
          "text": [
            "0.8358458961474037\n"
          ]
        }
      ]
    },
    {
      "cell_type": "code",
      "source": [
        "print(model.predict(X_Data2))"
      ],
      "metadata": {
        "colab": {
          "base_uri": "https://localhost:8080/"
        },
        "id": "-mCMLCgmkUNy",
        "outputId": "8320c4ed-bf07-4569-e2ca-7644db16e0f6"
      },
      "execution_count": 51,
      "outputs": [
        {
          "output_type": "stream",
          "name": "stdout",
          "text": [
            "[0 0 0 ... 0 0 0]\n"
          ]
        }
      ]
    },
    {
      "cell_type": "code",
      "source": [
        "model.score(X_val, y_val)"
      ],
      "metadata": {
        "colab": {
          "base_uri": "https://localhost:8080/"
        },
        "id": "KkUhUfSOzxsM",
        "outputId": "d9438500-fa80-4372-e7b7-1e6d8111929c"
      },
      "execution_count": 52,
      "outputs": [
        {
          "output_type": "execute_result",
          "data": {
            "text/plain": [
              "0.8360875390799464"
            ]
          },
          "metadata": {},
          "execution_count": 52
        }
      ]
    },
    {
      "cell_type": "markdown",
      "source": [
        "## **Naive Bayes**"
      ],
      "metadata": {
        "id": "7Mcct1lPkrqj"
      }
    },
    {
      "cell_type": "code",
      "source": [
        "NB = GaussianNB()"
      ],
      "metadata": {
        "id": "7cNUUaPrkuz2"
      },
      "execution_count": 53,
      "outputs": []
    },
    {
      "cell_type": "code",
      "source": [
        "NB.fit(X_Data1, y_Data1)"
      ],
      "metadata": {
        "colab": {
          "base_uri": "https://localhost:8080/"
        },
        "id": "qw655Kevk7q3",
        "outputId": "1d1ff488-f05c-4382-af7a-2b5af9249a5f"
      },
      "execution_count": 54,
      "outputs": [
        {
          "output_type": "execute_result",
          "data": {
            "text/plain": [
              "GaussianNB()"
            ]
          },
          "metadata": {},
          "execution_count": 54
        }
      ]
    },
    {
      "cell_type": "code",
      "source": [
        "print(NB.score(X_train, y_train))"
      ],
      "metadata": {
        "colab": {
          "base_uri": "https://localhost:8080/"
        },
        "id": "NRv54GS0k-1M",
        "outputId": "c21e4b43-e61b-4a98-f3c2-699f4123734e"
      },
      "execution_count": 55,
      "outputs": [
        {
          "output_type": "stream",
          "name": "stdout",
          "text": [
            "0.8210244192972007\n"
          ]
        }
      ]
    },
    {
      "cell_type": "code",
      "source": [
        "print(NB.score(X_test, y_test))"
      ],
      "metadata": {
        "colab": {
          "base_uri": "https://localhost:8080/"
        },
        "id": "YSEhoI_ZlBQi",
        "outputId": "e27e7246-8ae6-441c-b4e3-ddcf581a87fd"
      },
      "execution_count": 56,
      "outputs": [
        {
          "output_type": "stream",
          "name": "stdout",
          "text": [
            "0.8101619207146845\n"
          ]
        }
      ]
    },
    {
      "cell_type": "code",
      "source": [
        "print(NB.predict(X_Data2))"
      ],
      "metadata": {
        "colab": {
          "base_uri": "https://localhost:8080/"
        },
        "id": "7EfM_kNflDpg",
        "outputId": "c0af42de-c54a-44a2-bcb9-273eb7660fed"
      },
      "execution_count": 57,
      "outputs": [
        {
          "output_type": "stream",
          "name": "stdout",
          "text": [
            "[0 0 1 ... 1 0 0]\n"
          ]
        }
      ]
    },
    {
      "cell_type": "code",
      "source": [
        "NB.score(X_val, y_val)"
      ],
      "metadata": {
        "colab": {
          "base_uri": "https://localhost:8080/"
        },
        "id": "_01b2heBz2wY",
        "outputId": "12cef666-4379-4a25-aca1-ad54c9a8b384"
      },
      "execution_count": 58,
      "outputs": [
        {
          "output_type": "execute_result",
          "data": {
            "text/plain": [
              "0.8119696292987941"
            ]
          },
          "metadata": {},
          "execution_count": 58
        }
      ]
    },
    {
      "cell_type": "markdown",
      "source": [
        "## **SVM**"
      ],
      "metadata": {
        "id": "-QRVAFwllb1c"
      }
    },
    {
      "cell_type": "code",
      "source": [
        "SVM = svm.SVC()"
      ],
      "metadata": {
        "id": "qw5ZKp5mldXj"
      },
      "execution_count": 59,
      "outputs": []
    },
    {
      "cell_type": "code",
      "source": [
        "SVM.fit(X_Data1, y_Data1)"
      ],
      "metadata": {
        "colab": {
          "base_uri": "https://localhost:8080/"
        },
        "id": "9k-N44W1liqT",
        "outputId": "5dfff813-7a01-4850-c077-e68124f24b5e"
      },
      "execution_count": 60,
      "outputs": [
        {
          "output_type": "execute_result",
          "data": {
            "text/plain": [
              "SVC()"
            ]
          },
          "metadata": {},
          "execution_count": 60
        }
      ]
    },
    {
      "cell_type": "code",
      "source": [
        "print(SVM.score(X_train, y_train))"
      ],
      "metadata": {
        "colab": {
          "base_uri": "https://localhost:8080/"
        },
        "id": "-_Fubl4Cll0G",
        "outputId": "4db8eb61-4f63-486a-c2c7-cdd20b77977c"
      },
      "execution_count": 61,
      "outputs": [
        {
          "output_type": "stream",
          "name": "stdout",
          "text": [
            "0.8371054198927933\n"
          ]
        }
      ]
    },
    {
      "cell_type": "code",
      "source": [
        "print(SVM.score(X_test, y_test))"
      ],
      "metadata": {
        "colab": {
          "base_uri": "https://localhost:8080/"
        },
        "id": "kMczn8tJlo4X",
        "outputId": "35273773-1e35-44be-f62f-3fa558f057c0"
      },
      "execution_count": 62,
      "outputs": [
        {
          "output_type": "stream",
          "name": "stdout",
          "text": [
            "0.8319374651032942\n"
          ]
        }
      ]
    },
    {
      "cell_type": "code",
      "source": [
        "print(SVM.predict(X_Data2))"
      ],
      "metadata": {
        "colab": {
          "base_uri": "https://localhost:8080/"
        },
        "id": "lBPl9PKJlq99",
        "outputId": "b1623990-2797-432d-ecb4-31e7e5a41842"
      },
      "execution_count": 63,
      "outputs": [
        {
          "output_type": "stream",
          "name": "stdout",
          "text": [
            "[0 0 0 ... 0 0 0]\n"
          ]
        }
      ]
    },
    {
      "cell_type": "code",
      "source": [
        "SVM.score(X_val, y_val)"
      ],
      "metadata": {
        "colab": {
          "base_uri": "https://localhost:8080/"
        },
        "id": "3AcC1z8M0LTk",
        "outputId": "b444437c-4f31-41f3-9625-46b686906e9d"
      },
      "execution_count": 64,
      "outputs": [
        {
          "output_type": "execute_result",
          "data": {
            "text/plain": [
              "0.8329611433675748"
            ]
          },
          "metadata": {},
          "execution_count": 64
        }
      ]
    },
    {
      "cell_type": "markdown",
      "source": [
        "## **Decision Trees**"
      ],
      "metadata": {
        "id": "o9226hM1l8wE"
      }
    },
    {
      "cell_type": "code",
      "source": [
        "DT = tree.DecisionTreeClassifier()"
      ],
      "metadata": {
        "id": "AReP1ZZPl8d_"
      },
      "execution_count": 65,
      "outputs": []
    },
    {
      "cell_type": "code",
      "source": [
        "DT.fit(X_Data1, y_Data1)"
      ],
      "metadata": {
        "colab": {
          "base_uri": "https://localhost:8080/"
        },
        "id": "vetnGZ0ImIDX",
        "outputId": "b5282da3-8628-428f-dbaf-d5b3bd3ef17a"
      },
      "execution_count": 66,
      "outputs": [
        {
          "output_type": "execute_result",
          "data": {
            "text/plain": [
              "DecisionTreeClassifier()"
            ]
          },
          "metadata": {},
          "execution_count": 66
        }
      ]
    },
    {
      "cell_type": "code",
      "source": [
        "print(DT.score(X_train, y_train))"
      ],
      "metadata": {
        "id": "uyGB4c9gmKR5",
        "outputId": "3b43dcf1-34bd-48aa-e384-706cc6bfb307",
        "colab": {
          "base_uri": "https://localhost:8080/"
        }
      },
      "execution_count": 67,
      "outputs": [
        {
          "output_type": "stream",
          "name": "stdout",
          "text": [
            "0.9986599166170339\n"
          ]
        }
      ]
    },
    {
      "cell_type": "code",
      "source": [
        "print(DT.score(X_test, y_test))"
      ],
      "metadata": {
        "id": "HJAQ3t_vmMbK",
        "outputId": "03868236-bef2-4cae-9013-c24569cc4fb8",
        "colab": {
          "base_uri": "https://localhost:8080/"
        }
      },
      "execution_count": 68,
      "outputs": [
        {
          "output_type": "stream",
          "name": "stdout",
          "text": [
            "0.998324958123953\n"
          ]
        }
      ]
    },
    {
      "cell_type": "code",
      "source": [
        "print(DT.predict(X_Data2))"
      ],
      "metadata": {
        "id": "o0hSiy2zmPBd",
        "outputId": "4ef06c23-c2fd-4003-e345-b2dbc44fbdc6",
        "colab": {
          "base_uri": "https://localhost:8080/"
        }
      },
      "execution_count": 69,
      "outputs": [
        {
          "output_type": "stream",
          "name": "stdout",
          "text": [
            "[0 0 0 ... 0 0 0]\n"
          ]
        }
      ]
    },
    {
      "cell_type": "code",
      "source": [
        "DT.score(X_val, y_val)"
      ],
      "metadata": {
        "colab": {
          "base_uri": "https://localhost:8080/"
        },
        "id": "9AXGShD00XO1",
        "outputId": "21245049-3885-4a15-9f53-5a2cb2ba8497"
      },
      "execution_count": 70,
      "outputs": [
        {
          "output_type": "execute_result",
          "data": {
            "text/plain": [
              "0.9982134881643591"
            ]
          },
          "metadata": {},
          "execution_count": 70
        }
      ]
    },
    {
      "cell_type": "markdown",
      "source": [
        "# **Table**"
      ],
      "metadata": {
        "id": "nELaEpi49vDG"
      }
    },
    {
      "cell_type": "code",
      "source": [
        "Algorithm = ['KNN-9', 'Logistic Regression', 'Naive Bayes', 'SVM', 'Decision Trees']\n",
        "Training_Accuracy = [knn.score(X_train, y_train), model.score(X_train, y_train), NB.score(X_train, y_train),SVM.score(X_train, y_train), DT.score(X_train, y_train)]\n",
        "Testing_Accuracy = [knn.score(X_test, y_test), model.score(X_test, y_test), NB.score(X_test, y_test), SVM.score(X_test, y_test), DT.score(X_test, y_test)]\n",
        "Validation_Accuracy = [knn.score(X_val, y_val), model.score(X_val, y_val), NB.score(X_val, y_val), SVM.score(X_val, y_val), DT.score(X_val, y_val)]"
      ],
      "metadata": {
        "id": "xtZGrfxs9yp9"
      },
      "execution_count": 71,
      "outputs": []
    },
    {
      "cell_type": "code",
      "source": [
        "result = pd.DataFrame()\n",
        "result['Algorithm'] = Algorithm\n",
        "result['Training_Accuracy'] = Training_Accuracy\n",
        "result['Testing_Accuracy'] = Testing_Accuracy\n",
        "result['Validation_Accuracy'] = Validation_Accuracy"
      ],
      "metadata": {
        "id": "K8wRmSvk_A6F"
      },
      "execution_count": 72,
      "outputs": []
    },
    {
      "cell_type": "code",
      "source": [
        "result"
      ],
      "metadata": {
        "id": "wHohj9A1_uK7",
        "outputId": "a6e8e854-0530-4225-f629-d9c402a90f93",
        "colab": {
          "base_uri": "https://localhost:8080/",
          "height": 206
        }
      },
      "execution_count": 73,
      "outputs": [
        {
          "output_type": "execute_result",
          "data": {
            "text/plain": [
              "             Algorithm  Training_Accuracy  Testing_Accuracy  \\\n",
              "0                KNN-9           0.868821          0.839754   \n",
              "1  Logistic Regression           0.841721          0.835846   \n",
              "2          Naive Bayes           0.821024          0.810162   \n",
              "3                  SVM           0.837105          0.831937   \n",
              "4       Decision Trees           0.998660          0.998325   \n",
              "\n",
              "   Validation_Accuracy  \n",
              "0             0.842340  \n",
              "1             0.836088  \n",
              "2             0.811970  \n",
              "3             0.832961  \n",
              "4             0.998213  "
            ],
            "text/html": [
              "\n",
              "  <div id=\"df-0d98c742-e571-4753-a87c-94c831ae5580\">\n",
              "    <div class=\"colab-df-container\">\n",
              "      <div>\n",
              "<style scoped>\n",
              "    .dataframe tbody tr th:only-of-type {\n",
              "        vertical-align: middle;\n",
              "    }\n",
              "\n",
              "    .dataframe tbody tr th {\n",
              "        vertical-align: top;\n",
              "    }\n",
              "\n",
              "    .dataframe thead th {\n",
              "        text-align: right;\n",
              "    }\n",
              "</style>\n",
              "<table border=\"1\" class=\"dataframe\">\n",
              "  <thead>\n",
              "    <tr style=\"text-align: right;\">\n",
              "      <th></th>\n",
              "      <th>Algorithm</th>\n",
              "      <th>Training_Accuracy</th>\n",
              "      <th>Testing_Accuracy</th>\n",
              "      <th>Validation_Accuracy</th>\n",
              "    </tr>\n",
              "  </thead>\n",
              "  <tbody>\n",
              "    <tr>\n",
              "      <th>0</th>\n",
              "      <td>KNN-9</td>\n",
              "      <td>0.868821</td>\n",
              "      <td>0.839754</td>\n",
              "      <td>0.842340</td>\n",
              "    </tr>\n",
              "    <tr>\n",
              "      <th>1</th>\n",
              "      <td>Logistic Regression</td>\n",
              "      <td>0.841721</td>\n",
              "      <td>0.835846</td>\n",
              "      <td>0.836088</td>\n",
              "    </tr>\n",
              "    <tr>\n",
              "      <th>2</th>\n",
              "      <td>Naive Bayes</td>\n",
              "      <td>0.821024</td>\n",
              "      <td>0.810162</td>\n",
              "      <td>0.811970</td>\n",
              "    </tr>\n",
              "    <tr>\n",
              "      <th>3</th>\n",
              "      <td>SVM</td>\n",
              "      <td>0.837105</td>\n",
              "      <td>0.831937</td>\n",
              "      <td>0.832961</td>\n",
              "    </tr>\n",
              "    <tr>\n",
              "      <th>4</th>\n",
              "      <td>Decision Trees</td>\n",
              "      <td>0.998660</td>\n",
              "      <td>0.998325</td>\n",
              "      <td>0.998213</td>\n",
              "    </tr>\n",
              "  </tbody>\n",
              "</table>\n",
              "</div>\n",
              "      <button class=\"colab-df-convert\" onclick=\"convertToInteractive('df-0d98c742-e571-4753-a87c-94c831ae5580')\"\n",
              "              title=\"Convert this dataframe to an interactive table.\"\n",
              "              style=\"display:none;\">\n",
              "        \n",
              "  <svg xmlns=\"http://www.w3.org/2000/svg\" height=\"24px\"viewBox=\"0 0 24 24\"\n",
              "       width=\"24px\">\n",
              "    <path d=\"M0 0h24v24H0V0z\" fill=\"none\"/>\n",
              "    <path d=\"M18.56 5.44l.94 2.06.94-2.06 2.06-.94-2.06-.94-.94-2.06-.94 2.06-2.06.94zm-11 1L8.5 8.5l.94-2.06 2.06-.94-2.06-.94L8.5 2.5l-.94 2.06-2.06.94zm10 10l.94 2.06.94-2.06 2.06-.94-2.06-.94-.94-2.06-.94 2.06-2.06.94z\"/><path d=\"M17.41 7.96l-1.37-1.37c-.4-.4-.92-.59-1.43-.59-.52 0-1.04.2-1.43.59L10.3 9.45l-7.72 7.72c-.78.78-.78 2.05 0 2.83L4 21.41c.39.39.9.59 1.41.59.51 0 1.02-.2 1.41-.59l7.78-7.78 2.81-2.81c.8-.78.8-2.07 0-2.86zM5.41 20L4 18.59l7.72-7.72 1.47 1.35L5.41 20z\"/>\n",
              "  </svg>\n",
              "      </button>\n",
              "      \n",
              "  <style>\n",
              "    .colab-df-container {\n",
              "      display:flex;\n",
              "      flex-wrap:wrap;\n",
              "      gap: 12px;\n",
              "    }\n",
              "\n",
              "    .colab-df-convert {\n",
              "      background-color: #E8F0FE;\n",
              "      border: none;\n",
              "      border-radius: 50%;\n",
              "      cursor: pointer;\n",
              "      display: none;\n",
              "      fill: #1967D2;\n",
              "      height: 32px;\n",
              "      padding: 0 0 0 0;\n",
              "      width: 32px;\n",
              "    }\n",
              "\n",
              "    .colab-df-convert:hover {\n",
              "      background-color: #E2EBFA;\n",
              "      box-shadow: 0px 1px 2px rgba(60, 64, 67, 0.3), 0px 1px 3px 1px rgba(60, 64, 67, 0.15);\n",
              "      fill: #174EA6;\n",
              "    }\n",
              "\n",
              "    [theme=dark] .colab-df-convert {\n",
              "      background-color: #3B4455;\n",
              "      fill: #D2E3FC;\n",
              "    }\n",
              "\n",
              "    [theme=dark] .colab-df-convert:hover {\n",
              "      background-color: #434B5C;\n",
              "      box-shadow: 0px 1px 3px 1px rgba(0, 0, 0, 0.15);\n",
              "      filter: drop-shadow(0px 1px 2px rgba(0, 0, 0, 0.3));\n",
              "      fill: #FFFFFF;\n",
              "    }\n",
              "  </style>\n",
              "\n",
              "      <script>\n",
              "        const buttonEl =\n",
              "          document.querySelector('#df-0d98c742-e571-4753-a87c-94c831ae5580 button.colab-df-convert');\n",
              "        buttonEl.style.display =\n",
              "          google.colab.kernel.accessAllowed ? 'block' : 'none';\n",
              "\n",
              "        async function convertToInteractive(key) {\n",
              "          const element = document.querySelector('#df-0d98c742-e571-4753-a87c-94c831ae5580');\n",
              "          const dataTable =\n",
              "            await google.colab.kernel.invokeFunction('convertToInteractive',\n",
              "                                                     [key], {});\n",
              "          if (!dataTable) return;\n",
              "\n",
              "          const docLinkHtml = 'Like what you see? Visit the ' +\n",
              "            '<a target=\"_blank\" href=https://colab.research.google.com/notebooks/data_table.ipynb>data table notebook</a>'\n",
              "            + ' to learn more about interactive tables.';\n",
              "          element.innerHTML = '';\n",
              "          dataTable['output_type'] = 'display_data';\n",
              "          await google.colab.output.renderOutput(dataTable, element);\n",
              "          const docLink = document.createElement('div');\n",
              "          docLink.innerHTML = docLinkHtml;\n",
              "          element.appendChild(docLink);\n",
              "        }\n",
              "      </script>\n",
              "    </div>\n",
              "  </div>\n",
              "  "
            ]
          },
          "metadata": {},
          "execution_count": 73
        }
      ]
    },
    {
      "cell_type": "code",
      "source": [
        "text_representation = tree.export_text(DT)\n",
        "print(text_representation)"
      ],
      "metadata": {
        "colab": {
          "base_uri": "https://localhost:8080/"
        },
        "id": "yX6Snr412Zyv",
        "outputId": "4a7b52b1-8dfb-44d8-8079-c39b4f9ff81c"
      },
      "execution_count": 74,
      "outputs": [
        {
          "output_type": "stream",
          "name": "stdout",
          "text": [
            "|--- feature_0 <= 14.50\n",
            "|   |--- feature_0 <= 2.50\n",
            "|   |   |--- feature_10 <= 43.50\n",
            "|   |   |   |--- class: 0\n",
            "|   |   |--- feature_10 >  43.50\n",
            "|   |   |   |--- feature_8 <= 4.50\n",
            "|   |   |   |   |--- class: 1\n",
            "|   |   |   |--- feature_8 >  4.50\n",
            "|   |   |   |   |--- class: 0\n",
            "|   |--- feature_0 >  2.50\n",
            "|   |   |--- feature_7 <= 0.50\n",
            "|   |   |   |--- feature_8 <= 3.00\n",
            "|   |   |   |   |--- feature_10 <= 162.50\n",
            "|   |   |   |   |   |--- feature_3 <= 1.50\n",
            "|   |   |   |   |   |   |--- feature_10 <= 9.50\n",
            "|   |   |   |   |   |   |   |--- class: 1\n",
            "|   |   |   |   |   |   |--- feature_10 >  9.50\n",
            "|   |   |   |   |   |   |   |--- feature_6 <= 6.00\n",
            "|   |   |   |   |   |   |   |   |--- class: 1\n",
            "|   |   |   |   |   |   |   |--- feature_6 >  6.00\n",
            "|   |   |   |   |   |   |   |   |--- feature_6 <= 12.50\n",
            "|   |   |   |   |   |   |   |   |   |--- feature_10 <= 37.00\n",
            "|   |   |   |   |   |   |   |   |   |   |--- feature_9 <= 0.50\n",
            "|   |   |   |   |   |   |   |   |   |   |   |--- class: 1\n",
            "|   |   |   |   |   |   |   |   |   |   |--- feature_9 >  0.50\n",
            "|   |   |   |   |   |   |   |   |   |   |   |--- class: 0\n",
            "|   |   |   |   |   |   |   |   |   |--- feature_10 >  37.00\n",
            "|   |   |   |   |   |   |   |   |   |   |--- class: 0\n",
            "|   |   |   |   |   |   |   |   |--- feature_6 >  12.50\n",
            "|   |   |   |   |   |   |   |   |   |--- class: 0\n",
            "|   |   |   |   |   |--- feature_3 >  1.50\n",
            "|   |   |   |   |   |   |--- feature_10 <= 4.50\n",
            "|   |   |   |   |   |   |   |--- class: 0\n",
            "|   |   |   |   |   |   |--- feature_10 >  4.50\n",
            "|   |   |   |   |   |   |   |--- feature_6 <= 14.50\n",
            "|   |   |   |   |   |   |   |   |--- feature_0 <= 11.50\n",
            "|   |   |   |   |   |   |   |   |   |--- class: 1\n",
            "|   |   |   |   |   |   |   |   |--- feature_0 >  11.50\n",
            "|   |   |   |   |   |   |   |   |   |--- feature_6 <= 3.50\n",
            "|   |   |   |   |   |   |   |   |   |   |--- feature_10 <= 31.00\n",
            "|   |   |   |   |   |   |   |   |   |   |   |--- truncated branch of depth 2\n",
            "|   |   |   |   |   |   |   |   |   |   |--- feature_10 >  31.00\n",
            "|   |   |   |   |   |   |   |   |   |   |   |--- class: 1\n",
            "|   |   |   |   |   |   |   |   |   |--- feature_6 >  3.50\n",
            "|   |   |   |   |   |   |   |   |   |   |--- feature_8 <= 0.50\n",
            "|   |   |   |   |   |   |   |   |   |   |   |--- truncated branch of depth 3\n",
            "|   |   |   |   |   |   |   |   |   |   |--- feature_8 >  0.50\n",
            "|   |   |   |   |   |   |   |   |   |   |   |--- class: 0\n",
            "|   |   |   |   |   |   |   |--- feature_6 >  14.50\n",
            "|   |   |   |   |   |   |   |   |--- feature_0 <= 10.00\n",
            "|   |   |   |   |   |   |   |   |   |--- feature_8 <= 0.50\n",
            "|   |   |   |   |   |   |   |   |   |   |--- class: 1\n",
            "|   |   |   |   |   |   |   |   |   |--- feature_8 >  0.50\n",
            "|   |   |   |   |   |   |   |   |   |   |--- class: 0\n",
            "|   |   |   |   |   |   |   |   |--- feature_0 >  10.00\n",
            "|   |   |   |   |   |   |   |   |   |--- feature_4 <= 0.50\n",
            "|   |   |   |   |   |   |   |   |   |   |--- feature_9 <= 3.00\n",
            "|   |   |   |   |   |   |   |   |   |   |   |--- class: 1\n",
            "|   |   |   |   |   |   |   |   |   |   |--- feature_9 >  3.00\n",
            "|   |   |   |   |   |   |   |   |   |   |   |--- truncated branch of depth 2\n",
            "|   |   |   |   |   |   |   |   |   |--- feature_4 >  0.50\n",
            "|   |   |   |   |   |   |   |   |   |   |--- feature_6 <= 17.50\n",
            "|   |   |   |   |   |   |   |   |   |   |   |--- class: 0\n",
            "|   |   |   |   |   |   |   |   |   |   |--- feature_6 >  17.50\n",
            "|   |   |   |   |   |   |   |   |   |   |   |--- class: 1\n",
            "|   |   |   |   |--- feature_10 >  162.50\n",
            "|   |   |   |   |   |--- class: 1\n",
            "|   |   |   |--- feature_8 >  3.00\n",
            "|   |   |   |   |--- feature_10 <= 196.00\n",
            "|   |   |   |   |   |--- feature_10 <= 3.00\n",
            "|   |   |   |   |   |   |--- class: 0\n",
            "|   |   |   |   |   |--- feature_10 >  3.00\n",
            "|   |   |   |   |   |   |--- feature_5 <= 2.50\n",
            "|   |   |   |   |   |   |   |--- class: 0\n",
            "|   |   |   |   |   |   |--- feature_5 >  2.50\n",
            "|   |   |   |   |   |   |   |--- feature_6 <= 3.50\n",
            "|   |   |   |   |   |   |   |   |--- feature_6 <= 0.50\n",
            "|   |   |   |   |   |   |   |   |   |--- feature_1 <= 0.50\n",
            "|   |   |   |   |   |   |   |   |   |   |--- class: 0\n",
            "|   |   |   |   |   |   |   |   |   |--- feature_1 >  0.50\n",
            "|   |   |   |   |   |   |   |   |   |   |--- class: 1\n",
            "|   |   |   |   |   |   |   |   |--- feature_6 >  0.50\n",
            "|   |   |   |   |   |   |   |   |   |--- feature_4 <= 0.50\n",
            "|   |   |   |   |   |   |   |   |   |   |--- feature_0 <= 10.50\n",
            "|   |   |   |   |   |   |   |   |   |   |   |--- class: 0\n",
            "|   |   |   |   |   |   |   |   |   |   |--- feature_0 >  10.50\n",
            "|   |   |   |   |   |   |   |   |   |   |   |--- truncated branch of depth 2\n",
            "|   |   |   |   |   |   |   |   |   |--- feature_4 >  0.50\n",
            "|   |   |   |   |   |   |   |   |   |   |--- class: 0\n",
            "|   |   |   |   |   |   |   |--- feature_6 >  3.50\n",
            "|   |   |   |   |   |   |   |   |--- feature_3 <= 1.50\n",
            "|   |   |   |   |   |   |   |   |   |--- feature_6 <= 17.50\n",
            "|   |   |   |   |   |   |   |   |   |   |--- feature_0 <= 7.50\n",
            "|   |   |   |   |   |   |   |   |   |   |   |--- class: 0\n",
            "|   |   |   |   |   |   |   |   |   |   |--- feature_0 >  7.50\n",
            "|   |   |   |   |   |   |   |   |   |   |   |--- truncated branch of depth 7\n",
            "|   |   |   |   |   |   |   |   |   |--- feature_6 >  17.50\n",
            "|   |   |   |   |   |   |   |   |   |   |--- feature_1 <= 0.50\n",
            "|   |   |   |   |   |   |   |   |   |   |   |--- class: 1\n",
            "|   |   |   |   |   |   |   |   |   |   |--- feature_1 >  0.50\n",
            "|   |   |   |   |   |   |   |   |   |   |   |--- truncated branch of depth 2\n",
            "|   |   |   |   |   |   |   |   |--- feature_3 >  1.50\n",
            "|   |   |   |   |   |   |   |   |   |--- feature_10 <= 90.50\n",
            "|   |   |   |   |   |   |   |   |   |   |--- feature_6 <= 13.50\n",
            "|   |   |   |   |   |   |   |   |   |   |   |--- truncated branch of depth 8\n",
            "|   |   |   |   |   |   |   |   |   |   |--- feature_6 >  13.50\n",
            "|   |   |   |   |   |   |   |   |   |   |   |--- truncated branch of depth 5\n",
            "|   |   |   |   |   |   |   |   |   |--- feature_10 >  90.50\n",
            "|   |   |   |   |   |   |   |   |   |   |--- feature_10 <= 97.50\n",
            "|   |   |   |   |   |   |   |   |   |   |   |--- class: 0\n",
            "|   |   |   |   |   |   |   |   |   |   |--- feature_10 >  97.50\n",
            "|   |   |   |   |   |   |   |   |   |   |   |--- truncated branch of depth 3\n",
            "|   |   |   |   |--- feature_10 >  196.00\n",
            "|   |   |   |   |   |--- feature_3 <= 0.50\n",
            "|   |   |   |   |   |   |--- class: 1\n",
            "|   |   |   |   |   |--- feature_3 >  0.50\n",
            "|   |   |   |   |   |   |--- feature_10 <= 325.00\n",
            "|   |   |   |   |   |   |   |--- class: 0\n",
            "|   |   |   |   |   |   |--- feature_10 >  325.00\n",
            "|   |   |   |   |   |   |   |--- class: 1\n",
            "|   |   |--- feature_7 >  0.50\n",
            "|   |   |   |--- feature_9 <= 3.50\n",
            "|   |   |   |   |--- feature_5 <= 3.50\n",
            "|   |   |   |   |   |--- feature_5 <= 0.50\n",
            "|   |   |   |   |   |   |--- class: 0\n",
            "|   |   |   |   |   |--- feature_5 >  0.50\n",
            "|   |   |   |   |   |   |--- feature_10 <= 14.00\n",
            "|   |   |   |   |   |   |   |--- feature_10 <= 8.50\n",
            "|   |   |   |   |   |   |   |   |--- class: 1\n",
            "|   |   |   |   |   |   |   |--- feature_10 >  8.50\n",
            "|   |   |   |   |   |   |   |   |--- class: 0\n",
            "|   |   |   |   |   |   |--- feature_10 >  14.00\n",
            "|   |   |   |   |   |   |   |--- class: 1\n",
            "|   |   |   |   |--- feature_5 >  3.50\n",
            "|   |   |   |   |   |--- feature_10 <= 58.50\n",
            "|   |   |   |   |   |   |--- feature_6 <= 17.50\n",
            "|   |   |   |   |   |   |   |--- feature_7 <= 1.50\n",
            "|   |   |   |   |   |   |   |   |--- feature_10 <= 19.50\n",
            "|   |   |   |   |   |   |   |   |   |--- feature_8 <= 1.50\n",
            "|   |   |   |   |   |   |   |   |   |   |--- class: 1\n",
            "|   |   |   |   |   |   |   |   |   |--- feature_8 >  1.50\n",
            "|   |   |   |   |   |   |   |   |   |   |--- feature_0 <= 13.50\n",
            "|   |   |   |   |   |   |   |   |   |   |   |--- truncated branch of depth 4\n",
            "|   |   |   |   |   |   |   |   |   |   |--- feature_0 >  13.50\n",
            "|   |   |   |   |   |   |   |   |   |   |   |--- truncated branch of depth 11\n",
            "|   |   |   |   |   |   |   |   |--- feature_10 >  19.50\n",
            "|   |   |   |   |   |   |   |   |   |--- feature_10 <= 31.50\n",
            "|   |   |   |   |   |   |   |   |   |   |--- feature_10 <= 22.50\n",
            "|   |   |   |   |   |   |   |   |   |   |   |--- class: 0\n",
            "|   |   |   |   |   |   |   |   |   |   |--- feature_10 >  22.50\n",
            "|   |   |   |   |   |   |   |   |   |   |   |--- truncated branch of depth 4\n",
            "|   |   |   |   |   |   |   |   |   |--- feature_10 >  31.50\n",
            "|   |   |   |   |   |   |   |   |   |   |--- feature_10 <= 53.50\n",
            "|   |   |   |   |   |   |   |   |   |   |   |--- truncated branch of depth 10\n",
            "|   |   |   |   |   |   |   |   |   |   |--- feature_10 >  53.50\n",
            "|   |   |   |   |   |   |   |   |   |   |   |--- truncated branch of depth 2\n",
            "|   |   |   |   |   |   |   |--- feature_7 >  1.50\n",
            "|   |   |   |   |   |   |   |   |--- feature_4 <= 0.50\n",
            "|   |   |   |   |   |   |   |   |   |--- feature_7 <= 6.50\n",
            "|   |   |   |   |   |   |   |   |   |   |--- feature_10 <= 55.50\n",
            "|   |   |   |   |   |   |   |   |   |   |   |--- truncated branch of depth 21\n",
            "|   |   |   |   |   |   |   |   |   |   |--- feature_10 >  55.50\n",
            "|   |   |   |   |   |   |   |   |   |   |   |--- truncated branch of depth 3\n",
            "|   |   |   |   |   |   |   |   |   |--- feature_7 >  6.50\n",
            "|   |   |   |   |   |   |   |   |   |   |--- feature_2 <= 0.50\n",
            "|   |   |   |   |   |   |   |   |   |   |   |--- truncated branch of depth 4\n",
            "|   |   |   |   |   |   |   |   |   |   |--- feature_2 >  0.50\n",
            "|   |   |   |   |   |   |   |   |   |   |   |--- truncated branch of depth 3\n",
            "|   |   |   |   |   |   |   |   |--- feature_4 >  0.50\n",
            "|   |   |   |   |   |   |   |   |   |--- feature_7 <= 2.50\n",
            "|   |   |   |   |   |   |   |   |   |   |--- feature_10 <= 24.50\n",
            "|   |   |   |   |   |   |   |   |   |   |   |--- class: 1\n",
            "|   |   |   |   |   |   |   |   |   |   |--- feature_10 >  24.50\n",
            "|   |   |   |   |   |   |   |   |   |   |   |--- truncated branch of depth 2\n",
            "|   |   |   |   |   |   |   |   |   |--- feature_7 >  2.50\n",
            "|   |   |   |   |   |   |   |   |   |   |--- feature_10 <= 7.00\n",
            "|   |   |   |   |   |   |   |   |   |   |   |--- class: 0\n",
            "|   |   |   |   |   |   |   |   |   |   |--- feature_10 >  7.00\n",
            "|   |   |   |   |   |   |   |   |   |   |   |--- truncated branch of depth 9\n",
            "|   |   |   |   |   |   |--- feature_6 >  17.50\n",
            "|   |   |   |   |   |   |   |--- feature_1 <= 0.50\n",
            "|   |   |   |   |   |   |   |   |--- feature_7 <= 6.50\n",
            "|   |   |   |   |   |   |   |   |   |--- class: 0\n",
            "|   |   |   |   |   |   |   |   |--- feature_7 >  6.50\n",
            "|   |   |   |   |   |   |   |   |   |--- feature_6 <= 19.00\n",
            "|   |   |   |   |   |   |   |   |   |   |--- class: 0\n",
            "|   |   |   |   |   |   |   |   |   |--- feature_6 >  19.00\n",
            "|   |   |   |   |   |   |   |   |   |   |--- class: 1\n",
            "|   |   |   |   |   |   |   |--- feature_1 >  0.50\n",
            "|   |   |   |   |   |   |   |   |--- feature_2 <= 0.50\n",
            "|   |   |   |   |   |   |   |   |   |--- feature_0 <= 6.00\n",
            "|   |   |   |   |   |   |   |   |   |   |--- class: 0\n",
            "|   |   |   |   |   |   |   |   |   |--- feature_0 >  6.00\n",
            "|   |   |   |   |   |   |   |   |   |   |--- feature_10 <= 12.00\n",
            "|   |   |   |   |   |   |   |   |   |   |   |--- class: 1\n",
            "|   |   |   |   |   |   |   |   |   |   |--- feature_10 >  12.00\n",
            "|   |   |   |   |   |   |   |   |   |   |   |--- truncated branch of depth 13\n",
            "|   |   |   |   |   |   |   |   |--- feature_2 >  0.50\n",
            "|   |   |   |   |   |   |   |   |   |--- feature_10 <= 46.50\n",
            "|   |   |   |   |   |   |   |   |   |   |--- feature_9 <= 0.50\n",
            "|   |   |   |   |   |   |   |   |   |   |   |--- truncated branch of depth 3\n",
            "|   |   |   |   |   |   |   |   |   |   |--- feature_9 >  0.50\n",
            "|   |   |   |   |   |   |   |   |   |   |   |--- class: 0\n",
            "|   |   |   |   |   |   |   |   |   |--- feature_10 >  46.50\n",
            "|   |   |   |   |   |   |   |   |   |   |--- class: 1\n",
            "|   |   |   |   |   |--- feature_10 >  58.50\n",
            "|   |   |   |   |   |   |--- feature_6 <= 3.50\n",
            "|   |   |   |   |   |   |   |--- feature_10 <= 321.00\n",
            "|   |   |   |   |   |   |   |   |--- feature_9 <= 0.50\n",
            "|   |   |   |   |   |   |   |   |   |--- feature_10 <= 85.50\n",
            "|   |   |   |   |   |   |   |   |   |   |--- class: 1\n",
            "|   |   |   |   |   |   |   |   |   |--- feature_10 >  85.50\n",
            "|   |   |   |   |   |   |   |   |   |   |--- feature_10 <= 92.50\n",
            "|   |   |   |   |   |   |   |   |   |   |   |--- class: 0\n",
            "|   |   |   |   |   |   |   |   |   |   |--- feature_10 >  92.50\n",
            "|   |   |   |   |   |   |   |   |   |   |   |--- truncated branch of depth 5\n",
            "|   |   |   |   |   |   |   |   |--- feature_9 >  0.50\n",
            "|   |   |   |   |   |   |   |   |   |--- feature_10 <= 135.50\n",
            "|   |   |   |   |   |   |   |   |   |   |--- feature_4 <= 0.50\n",
            "|   |   |   |   |   |   |   |   |   |   |   |--- truncated branch of depth 2\n",
            "|   |   |   |   |   |   |   |   |   |   |--- feature_4 >  0.50\n",
            "|   |   |   |   |   |   |   |   |   |   |   |--- class: 1\n",
            "|   |   |   |   |   |   |   |   |   |--- feature_10 >  135.50\n",
            "|   |   |   |   |   |   |   |   |   |   |--- class: 1\n",
            "|   |   |   |   |   |   |   |--- feature_10 >  321.00\n",
            "|   |   |   |   |   |   |   |   |--- class: 0\n",
            "|   |   |   |   |   |   |--- feature_6 >  3.50\n",
            "|   |   |   |   |   |   |   |--- feature_10 <= 66.50\n",
            "|   |   |   |   |   |   |   |   |--- feature_9 <= 2.50\n",
            "|   |   |   |   |   |   |   |   |   |--- feature_9 <= 1.50\n",
            "|   |   |   |   |   |   |   |   |   |   |--- feature_3 <= 0.50\n",
            "|   |   |   |   |   |   |   |   |   |   |   |--- class: 1\n",
            "|   |   |   |   |   |   |   |   |   |   |--- feature_3 >  0.50\n",
            "|   |   |   |   |   |   |   |   |   |   |   |--- truncated branch of depth 10\n",
            "|   |   |   |   |   |   |   |   |   |--- feature_9 >  1.50\n",
            "|   |   |   |   |   |   |   |   |   |   |--- class: 0\n",
            "|   |   |   |   |   |   |   |   |--- feature_9 >  2.50\n",
            "|   |   |   |   |   |   |   |   |   |--- class: 1\n",
            "|   |   |   |   |   |   |   |--- feature_10 >  66.50\n",
            "|   |   |   |   |   |   |   |   |--- feature_6 <= 19.50\n",
            "|   |   |   |   |   |   |   |   |   |--- feature_10 <= 69.50\n",
            "|   |   |   |   |   |   |   |   |   |   |--- feature_0 <= 13.50\n",
            "|   |   |   |   |   |   |   |   |   |   |   |--- truncated branch of depth 2\n",
            "|   |   |   |   |   |   |   |   |   |   |--- feature_0 >  13.50\n",
            "|   |   |   |   |   |   |   |   |   |   |   |--- class: 1\n",
            "|   |   |   |   |   |   |   |   |   |--- feature_10 >  69.50\n",
            "|   |   |   |   |   |   |   |   |   |   |--- feature_6 <= 13.50\n",
            "|   |   |   |   |   |   |   |   |   |   |   |--- truncated branch of depth 13\n",
            "|   |   |   |   |   |   |   |   |   |   |--- feature_6 >  13.50\n",
            "|   |   |   |   |   |   |   |   |   |   |   |--- truncated branch of depth 17\n",
            "|   |   |   |   |   |   |   |   |--- feature_6 >  19.50\n",
            "|   |   |   |   |   |   |   |   |   |--- feature_10 <= 201.00\n",
            "|   |   |   |   |   |   |   |   |   |   |--- class: 1\n",
            "|   |   |   |   |   |   |   |   |   |--- feature_10 >  201.00\n",
            "|   |   |   |   |   |   |   |   |   |   |--- class: 0\n",
            "|   |   |   |--- feature_9 >  3.50\n",
            "|   |   |   |   |--- feature_7 <= 3.50\n",
            "|   |   |   |   |   |--- feature_10 <= 164.50\n",
            "|   |   |   |   |   |   |--- feature_6 <= 14.50\n",
            "|   |   |   |   |   |   |   |--- feature_6 <= 4.50\n",
            "|   |   |   |   |   |   |   |   |--- feature_6 <= 2.50\n",
            "|   |   |   |   |   |   |   |   |   |--- feature_10 <= 7.50\n",
            "|   |   |   |   |   |   |   |   |   |   |--- class: 1\n",
            "|   |   |   |   |   |   |   |   |   |--- feature_10 >  7.50\n",
            "|   |   |   |   |   |   |   |   |   |   |--- feature_10 <= 20.00\n",
            "|   |   |   |   |   |   |   |   |   |   |   |--- class: 0\n",
            "|   |   |   |   |   |   |   |   |   |   |--- feature_10 >  20.00\n",
            "|   |   |   |   |   |   |   |   |   |   |   |--- truncated branch of depth 7\n",
            "|   |   |   |   |   |   |   |   |--- feature_6 >  2.50\n",
            "|   |   |   |   |   |   |   |   |   |--- feature_10 <= 48.00\n",
            "|   |   |   |   |   |   |   |   |   |   |--- feature_10 <= 37.50\n",
            "|   |   |   |   |   |   |   |   |   |   |   |--- class: 1\n",
            "|   |   |   |   |   |   |   |   |   |   |--- feature_10 >  37.50\n",
            "|   |   |   |   |   |   |   |   |   |   |   |--- class: 0\n",
            "|   |   |   |   |   |   |   |   |   |--- feature_10 >  48.00\n",
            "|   |   |   |   |   |   |   |   |   |   |--- class: 1\n",
            "|   |   |   |   |   |   |   |--- feature_6 >  4.50\n",
            "|   |   |   |   |   |   |   |   |--- feature_6 <= 9.50\n",
            "|   |   |   |   |   |   |   |   |   |--- feature_8 <= 2.50\n",
            "|   |   |   |   |   |   |   |   |   |   |--- class: 1\n",
            "|   |   |   |   |   |   |   |   |   |--- feature_8 >  2.50\n",
            "|   |   |   |   |   |   |   |   |   |   |--- feature_2 <= 0.50\n",
            "|   |   |   |   |   |   |   |   |   |   |   |--- class: 0\n",
            "|   |   |   |   |   |   |   |   |   |   |--- feature_2 >  0.50\n",
            "|   |   |   |   |   |   |   |   |   |   |   |--- truncated branch of depth 2\n",
            "|   |   |   |   |   |   |   |   |--- feature_6 >  9.50\n",
            "|   |   |   |   |   |   |   |   |   |--- feature_9 <= 4.50\n",
            "|   |   |   |   |   |   |   |   |   |   |--- feature_10 <= 107.50\n",
            "|   |   |   |   |   |   |   |   |   |   |   |--- class: 1\n",
            "|   |   |   |   |   |   |   |   |   |   |--- feature_10 >  107.50\n",
            "|   |   |   |   |   |   |   |   |   |   |   |--- class: 0\n",
            "|   |   |   |   |   |   |   |   |   |--- feature_9 >  4.50\n",
            "|   |   |   |   |   |   |   |   |   |   |--- feature_10 <= 52.50\n",
            "|   |   |   |   |   |   |   |   |   |   |   |--- class: 0\n",
            "|   |   |   |   |   |   |   |   |   |   |--- feature_10 >  52.50\n",
            "|   |   |   |   |   |   |   |   |   |   |   |--- truncated branch of depth 4\n",
            "|   |   |   |   |   |   |--- feature_6 >  14.50\n",
            "|   |   |   |   |   |   |   |--- feature_6 <= 16.50\n",
            "|   |   |   |   |   |   |   |   |--- feature_1 <= 0.50\n",
            "|   |   |   |   |   |   |   |   |   |--- feature_10 <= 28.50\n",
            "|   |   |   |   |   |   |   |   |   |   |--- class: 1\n",
            "|   |   |   |   |   |   |   |   |   |--- feature_10 >  28.50\n",
            "|   |   |   |   |   |   |   |   |   |   |--- class: 0\n",
            "|   |   |   |   |   |   |   |   |--- feature_1 >  0.50\n",
            "|   |   |   |   |   |   |   |   |   |--- class: 1\n",
            "|   |   |   |   |   |   |   |--- feature_6 >  16.50\n",
            "|   |   |   |   |   |   |   |   |--- feature_7 <= 2.50\n",
            "|   |   |   |   |   |   |   |   |   |--- feature_3 <= 1.50\n",
            "|   |   |   |   |   |   |   |   |   |   |--- class: 0\n",
            "|   |   |   |   |   |   |   |   |   |--- feature_3 >  1.50\n",
            "|   |   |   |   |   |   |   |   |   |   |--- feature_10 <= 81.50\n",
            "|   |   |   |   |   |   |   |   |   |   |   |--- truncated branch of depth 6\n",
            "|   |   |   |   |   |   |   |   |   |   |--- feature_10 >  81.50\n",
            "|   |   |   |   |   |   |   |   |   |   |   |--- truncated branch of depth 5\n",
            "|   |   |   |   |   |   |   |   |--- feature_7 >  2.50\n",
            "|   |   |   |   |   |   |   |   |   |--- feature_6 <= 20.50\n",
            "|   |   |   |   |   |   |   |   |   |   |--- feature_10 <= 16.00\n",
            "|   |   |   |   |   |   |   |   |   |   |   |--- truncated branch of depth 2\n",
            "|   |   |   |   |   |   |   |   |   |   |--- feature_10 >  16.00\n",
            "|   |   |   |   |   |   |   |   |   |   |   |--- truncated branch of depth 3\n",
            "|   |   |   |   |   |   |   |   |   |--- feature_6 >  20.50\n",
            "|   |   |   |   |   |   |   |   |   |   |--- feature_4 <= 0.50\n",
            "|   |   |   |   |   |   |   |   |   |   |   |--- class: 0\n",
            "|   |   |   |   |   |   |   |   |   |   |--- feature_4 >  0.50\n",
            "|   |   |   |   |   |   |   |   |   |   |   |--- class: 1\n",
            "|   |   |   |   |   |--- feature_10 >  164.50\n",
            "|   |   |   |   |   |   |--- feature_7 <= 1.50\n",
            "|   |   |   |   |   |   |   |--- feature_10 <= 229.00\n",
            "|   |   |   |   |   |   |   |   |--- class: 0\n",
            "|   |   |   |   |   |   |   |--- feature_10 >  229.00\n",
            "|   |   |   |   |   |   |   |   |--- class: 1\n",
            "|   |   |   |   |   |   |--- feature_7 >  1.50\n",
            "|   |   |   |   |   |   |   |--- class: 1\n",
            "|   |   |   |   |--- feature_7 >  3.50\n",
            "|   |   |   |   |   |--- feature_6 <= 14.50\n",
            "|   |   |   |   |   |   |--- feature_1 <= 0.50\n",
            "|   |   |   |   |   |   |   |--- class: 0\n",
            "|   |   |   |   |   |   |--- feature_1 >  0.50\n",
            "|   |   |   |   |   |   |   |--- feature_10 <= 226.00\n",
            "|   |   |   |   |   |   |   |   |--- feature_10 <= 152.50\n",
            "|   |   |   |   |   |   |   |   |   |--- feature_10 <= 69.00\n",
            "|   |   |   |   |   |   |   |   |   |   |--- feature_6 <= 10.50\n",
            "|   |   |   |   |   |   |   |   |   |   |   |--- truncated branch of depth 11\n",
            "|   |   |   |   |   |   |   |   |   |   |--- feature_6 >  10.50\n",
            "|   |   |   |   |   |   |   |   |   |   |   |--- truncated branch of depth 3\n",
            "|   |   |   |   |   |   |   |   |   |--- feature_10 >  69.00\n",
            "|   |   |   |   |   |   |   |   |   |   |--- feature_10 <= 83.50\n",
            "|   |   |   |   |   |   |   |   |   |   |   |--- class: 0\n",
            "|   |   |   |   |   |   |   |   |   |   |--- feature_10 >  83.50\n",
            "|   |   |   |   |   |   |   |   |   |   |   |--- truncated branch of depth 2\n",
            "|   |   |   |   |   |   |   |   |--- feature_10 >  152.50\n",
            "|   |   |   |   |   |   |   |   |   |--- class: 1\n",
            "|   |   |   |   |   |   |   |--- feature_10 >  226.00\n",
            "|   |   |   |   |   |   |   |   |--- class: 0\n",
            "|   |   |   |   |   |--- feature_6 >  14.50\n",
            "|   |   |   |   |   |   |--- feature_4 <= 0.50\n",
            "|   |   |   |   |   |   |   |--- feature_0 <= 7.50\n",
            "|   |   |   |   |   |   |   |   |--- class: 1\n",
            "|   |   |   |   |   |   |   |--- feature_0 >  7.50\n",
            "|   |   |   |   |   |   |   |   |--- feature_7 <= 4.50\n",
            "|   |   |   |   |   |   |   |   |   |--- feature_10 <= 22.50\n",
            "|   |   |   |   |   |   |   |   |   |   |--- feature_8 <= 3.50\n",
            "|   |   |   |   |   |   |   |   |   |   |   |--- class: 0\n",
            "|   |   |   |   |   |   |   |   |   |   |--- feature_8 >  3.50\n",
            "|   |   |   |   |   |   |   |   |   |   |   |--- class: 1\n",
            "|   |   |   |   |   |   |   |   |   |--- feature_10 >  22.50\n",
            "|   |   |   |   |   |   |   |   |   |   |--- class: 0\n",
            "|   |   |   |   |   |   |   |   |--- feature_7 >  4.50\n",
            "|   |   |   |   |   |   |   |   |   |--- feature_10 <= 7.50\n",
            "|   |   |   |   |   |   |   |   |   |   |--- class: 1\n",
            "|   |   |   |   |   |   |   |   |   |--- feature_10 >  7.50\n",
            "|   |   |   |   |   |   |   |   |   |   |--- feature_1 <= 0.50\n",
            "|   |   |   |   |   |   |   |   |   |   |   |--- class: 1\n",
            "|   |   |   |   |   |   |   |   |   |   |--- feature_1 >  0.50\n",
            "|   |   |   |   |   |   |   |   |   |   |   |--- truncated branch of depth 5\n",
            "|   |   |   |   |   |   |--- feature_4 >  0.50\n",
            "|   |   |   |   |   |   |   |--- feature_10 <= 64.50\n",
            "|   |   |   |   |   |   |   |   |--- feature_10 <= 36.50\n",
            "|   |   |   |   |   |   |   |   |   |--- feature_6 <= 16.50\n",
            "|   |   |   |   |   |   |   |   |   |   |--- class: 0\n",
            "|   |   |   |   |   |   |   |   |   |--- feature_6 >  16.50\n",
            "|   |   |   |   |   |   |   |   |   |   |--- class: 1\n",
            "|   |   |   |   |   |   |   |   |--- feature_10 >  36.50\n",
            "|   |   |   |   |   |   |   |   |   |--- class: 0\n",
            "|   |   |   |   |   |   |   |--- feature_10 >  64.50\n",
            "|   |   |   |   |   |   |   |   |--- feature_7 <= 5.50\n",
            "|   |   |   |   |   |   |   |   |   |--- class: 1\n",
            "|   |   |   |   |   |   |   |   |--- feature_7 >  5.50\n",
            "|   |   |   |   |   |   |   |   |   |--- feature_10 <= 105.50\n",
            "|   |   |   |   |   |   |   |   |   |   |--- class: 1\n",
            "|   |   |   |   |   |   |   |   |   |--- feature_10 >  105.50\n",
            "|   |   |   |   |   |   |   |   |   |   |--- class: 0\n",
            "|--- feature_0 >  14.50\n",
            "|   |--- feature_2 <= 0.50\n",
            "|   |   |--- feature_0 <= 46.50\n",
            "|   |   |   |--- feature_0 <= 27.50\n",
            "|   |   |   |   |--- feature_5 <= 2.50\n",
            "|   |   |   |   |   |--- feature_6 <= 15.00\n",
            "|   |   |   |   |   |   |--- feature_4 <= 0.50\n",
            "|   |   |   |   |   |   |   |--- feature_10 <= 9.00\n",
            "|   |   |   |   |   |   |   |   |--- class: 0\n",
            "|   |   |   |   |   |   |   |--- feature_10 >  9.00\n",
            "|   |   |   |   |   |   |   |   |--- feature_10 <= 266.00\n",
            "|   |   |   |   |   |   |   |   |   |--- class: 1\n",
            "|   |   |   |   |   |   |   |   |--- feature_10 >  266.00\n",
            "|   |   |   |   |   |   |   |   |   |--- class: 0\n",
            "|   |   |   |   |   |   |--- feature_4 >  0.50\n",
            "|   |   |   |   |   |   |   |--- class: 0\n",
            "|   |   |   |   |   |--- feature_6 >  15.00\n",
            "|   |   |   |   |   |   |--- class: 0\n",
            "|   |   |   |   |--- feature_5 >  2.50\n",
            "|   |   |   |   |   |--- feature_1 <= 0.50\n",
            "|   |   |   |   |   |   |--- feature_7 <= 4.50\n",
            "|   |   |   |   |   |   |   |--- feature_6 <= 18.00\n",
            "|   |   |   |   |   |   |   |   |--- class: 0\n",
            "|   |   |   |   |   |   |   |--- feature_6 >  18.00\n",
            "|   |   |   |   |   |   |   |   |--- feature_3 <= 1.00\n",
            "|   |   |   |   |   |   |   |   |   |--- class: 1\n",
            "|   |   |   |   |   |   |   |   |--- feature_3 >  1.00\n",
            "|   |   |   |   |   |   |   |   |   |--- class: 0\n",
            "|   |   |   |   |   |   |--- feature_7 >  4.50\n",
            "|   |   |   |   |   |   |   |--- feature_8 <= 2.50\n",
            "|   |   |   |   |   |   |   |   |--- class: 0\n",
            "|   |   |   |   |   |   |   |--- feature_8 >  2.50\n",
            "|   |   |   |   |   |   |   |   |--- class: 1\n",
            "|   |   |   |   |   |--- feature_1 >  0.50\n",
            "|   |   |   |   |   |   |--- feature_9 <= 0.50\n",
            "|   |   |   |   |   |   |   |--- feature_10 <= 307.00\n",
            "|   |   |   |   |   |   |   |   |--- feature_7 <= 0.50\n",
            "|   |   |   |   |   |   |   |   |   |--- feature_0 <= 25.00\n",
            "|   |   |   |   |   |   |   |   |   |   |--- feature_0 <= 23.50\n",
            "|   |   |   |   |   |   |   |   |   |   |   |--- truncated branch of depth 3\n",
            "|   |   |   |   |   |   |   |   |   |   |--- feature_0 >  23.50\n",
            "|   |   |   |   |   |   |   |   |   |   |   |--- class: 1\n",
            "|   |   |   |   |   |   |   |   |   |--- feature_0 >  25.00\n",
            "|   |   |   |   |   |   |   |   |   |   |--- class: 0\n",
            "|   |   |   |   |   |   |   |   |--- feature_7 >  0.50\n",
            "|   |   |   |   |   |   |   |   |   |--- feature_7 <= 6.50\n",
            "|   |   |   |   |   |   |   |   |   |   |--- class: 0\n",
            "|   |   |   |   |   |   |   |   |   |--- feature_7 >  6.50\n",
            "|   |   |   |   |   |   |   |   |   |   |--- feature_0 <= 21.50\n",
            "|   |   |   |   |   |   |   |   |   |   |   |--- truncated branch of depth 2\n",
            "|   |   |   |   |   |   |   |   |   |   |--- feature_0 >  21.50\n",
            "|   |   |   |   |   |   |   |   |   |   |   |--- class: 0\n",
            "|   |   |   |   |   |   |   |--- feature_10 >  307.00\n",
            "|   |   |   |   |   |   |   |   |--- feature_10 <= 310.00\n",
            "|   |   |   |   |   |   |   |   |   |--- class: 1\n",
            "|   |   |   |   |   |   |   |   |--- feature_10 >  310.00\n",
            "|   |   |   |   |   |   |   |   |   |--- class: 0\n",
            "|   |   |   |   |   |   |--- feature_9 >  0.50\n",
            "|   |   |   |   |   |   |   |--- feature_7 <= 1.50\n",
            "|   |   |   |   |   |   |   |   |--- feature_9 <= 3.50\n",
            "|   |   |   |   |   |   |   |   |   |--- class: 0\n",
            "|   |   |   |   |   |   |   |   |--- feature_9 >  3.50\n",
            "|   |   |   |   |   |   |   |   |   |--- feature_10 <= 90.50\n",
            "|   |   |   |   |   |   |   |   |   |   |--- feature_0 <= 21.00\n",
            "|   |   |   |   |   |   |   |   |   |   |   |--- truncated branch of depth 2\n",
            "|   |   |   |   |   |   |   |   |   |   |--- feature_0 >  21.00\n",
            "|   |   |   |   |   |   |   |   |   |   |   |--- class: 0\n",
            "|   |   |   |   |   |   |   |   |   |--- feature_10 >  90.50\n",
            "|   |   |   |   |   |   |   |   |   |   |--- feature_10 <= 103.50\n",
            "|   |   |   |   |   |   |   |   |   |   |   |--- class: 1\n",
            "|   |   |   |   |   |   |   |   |   |   |--- feature_10 >  103.50\n",
            "|   |   |   |   |   |   |   |   |   |   |   |--- class: 0\n",
            "|   |   |   |   |   |   |   |--- feature_7 >  1.50\n",
            "|   |   |   |   |   |   |   |   |--- feature_6 <= 6.50\n",
            "|   |   |   |   |   |   |   |   |   |--- feature_10 <= 28.50\n",
            "|   |   |   |   |   |   |   |   |   |   |--- feature_0 <= 23.00\n",
            "|   |   |   |   |   |   |   |   |   |   |   |--- class: 1\n",
            "|   |   |   |   |   |   |   |   |   |   |--- feature_0 >  23.00\n",
            "|   |   |   |   |   |   |   |   |   |   |   |--- class: 0\n",
            "|   |   |   |   |   |   |   |   |   |--- feature_10 >  28.50\n",
            "|   |   |   |   |   |   |   |   |   |   |--- feature_10 <= 30.00\n",
            "|   |   |   |   |   |   |   |   |   |   |   |--- class: 1\n",
            "|   |   |   |   |   |   |   |   |   |   |--- feature_10 >  30.00\n",
            "|   |   |   |   |   |   |   |   |   |   |   |--- truncated branch of depth 6\n",
            "|   |   |   |   |   |   |   |   |--- feature_6 >  6.50\n",
            "|   |   |   |   |   |   |   |   |   |--- feature_0 <= 18.00\n",
            "|   |   |   |   |   |   |   |   |   |   |--- feature_10 <= 35.00\n",
            "|   |   |   |   |   |   |   |   |   |   |   |--- class: 0\n",
            "|   |   |   |   |   |   |   |   |   |   |--- feature_10 >  35.00\n",
            "|   |   |   |   |   |   |   |   |   |   |   |--- class: 1\n",
            "|   |   |   |   |   |   |   |   |   |--- feature_0 >  18.00\n",
            "|   |   |   |   |   |   |   |   |   |   |--- feature_10 <= 8.50\n",
            "|   |   |   |   |   |   |   |   |   |   |   |--- truncated branch of depth 2\n",
            "|   |   |   |   |   |   |   |   |   |   |--- feature_10 >  8.50\n",
            "|   |   |   |   |   |   |   |   |   |   |   |--- truncated branch of depth 5\n",
            "|   |   |   |--- feature_0 >  27.50\n",
            "|   |   |   |   |--- feature_6 <= 17.50\n",
            "|   |   |   |   |   |--- feature_0 <= 45.50\n",
            "|   |   |   |   |   |   |--- feature_10 <= 140.00\n",
            "|   |   |   |   |   |   |   |--- feature_10 <= 131.50\n",
            "|   |   |   |   |   |   |   |   |--- feature_10 <= 16.50\n",
            "|   |   |   |   |   |   |   |   |   |--- feature_6 <= 6.50\n",
            "|   |   |   |   |   |   |   |   |   |   |--- feature_7 <= 0.50\n",
            "|   |   |   |   |   |   |   |   |   |   |   |--- class: 1\n",
            "|   |   |   |   |   |   |   |   |   |   |--- feature_7 >  0.50\n",
            "|   |   |   |   |   |   |   |   |   |   |   |--- truncated branch of depth 5\n",
            "|   |   |   |   |   |   |   |   |   |--- feature_6 >  6.50\n",
            "|   |   |   |   |   |   |   |   |   |   |--- class: 0\n",
            "|   |   |   |   |   |   |   |   |--- feature_10 >  16.50\n",
            "|   |   |   |   |   |   |   |   |   |--- feature_5 <= 2.50\n",
            "|   |   |   |   |   |   |   |   |   |   |--- feature_6 <= 12.00\n",
            "|   |   |   |   |   |   |   |   |   |   |   |--- class: 1\n",
            "|   |   |   |   |   |   |   |   |   |   |--- feature_6 >  12.00\n",
            "|   |   |   |   |   |   |   |   |   |   |   |--- class: 0\n",
            "|   |   |   |   |   |   |   |   |   |--- feature_5 >  2.50\n",
            "|   |   |   |   |   |   |   |   |   |   |--- feature_6 <= 3.50\n",
            "|   |   |   |   |   |   |   |   |   |   |   |--- truncated branch of depth 8\n",
            "|   |   |   |   |   |   |   |   |   |   |--- feature_6 >  3.50\n",
            "|   |   |   |   |   |   |   |   |   |   |   |--- truncated branch of depth 13\n",
            "|   |   |   |   |   |   |   |--- feature_10 >  131.50\n",
            "|   |   |   |   |   |   |   |   |--- class: 1\n",
            "|   |   |   |   |   |   |--- feature_10 >  140.00\n",
            "|   |   |   |   |   |   |   |--- feature_6 <= 1.50\n",
            "|   |   |   |   |   |   |   |   |--- feature_0 <= 31.50\n",
            "|   |   |   |   |   |   |   |   |   |--- feature_7 <= 0.50\n",
            "|   |   |   |   |   |   |   |   |   |   |--- class: 0\n",
            "|   |   |   |   |   |   |   |   |   |--- feature_7 >  0.50\n",
            "|   |   |   |   |   |   |   |   |   |   |--- class: 1\n",
            "|   |   |   |   |   |   |   |   |--- feature_0 >  31.50\n",
            "|   |   |   |   |   |   |   |   |   |--- class: 0\n",
            "|   |   |   |   |   |   |   |--- feature_6 >  1.50\n",
            "|   |   |   |   |   |   |   |   |--- class: 0\n",
            "|   |   |   |   |   |--- feature_0 >  45.50\n",
            "|   |   |   |   |   |   |--- feature_7 <= 0.50\n",
            "|   |   |   |   |   |   |   |--- class: 0\n",
            "|   |   |   |   |   |   |--- feature_7 >  0.50\n",
            "|   |   |   |   |   |   |   |--- class: 1\n",
            "|   |   |   |   |--- feature_6 >  17.50\n",
            "|   |   |   |   |   |--- feature_0 <= 29.00\n",
            "|   |   |   |   |   |   |--- class: 1\n",
            "|   |   |   |   |   |--- feature_0 >  29.00\n",
            "|   |   |   |   |   |   |--- feature_10 <= 4.50\n",
            "|   |   |   |   |   |   |   |--- feature_0 <= 39.50\n",
            "|   |   |   |   |   |   |   |   |--- class: 1\n",
            "|   |   |   |   |   |   |   |--- feature_0 >  39.50\n",
            "|   |   |   |   |   |   |   |   |--- class: 0\n",
            "|   |   |   |   |   |   |--- feature_10 >  4.50\n",
            "|   |   |   |   |   |   |   |--- feature_5 <= 2.50\n",
            "|   |   |   |   |   |   |   |   |--- feature_10 <= 27.00\n",
            "|   |   |   |   |   |   |   |   |   |--- class: 1\n",
            "|   |   |   |   |   |   |   |   |--- feature_10 >  27.00\n",
            "|   |   |   |   |   |   |   |   |   |--- class: 0\n",
            "|   |   |   |   |   |   |   |--- feature_5 >  2.50\n",
            "|   |   |   |   |   |   |   |   |--- feature_9 <= 0.50\n",
            "|   |   |   |   |   |   |   |   |   |--- feature_8 <= 4.50\n",
            "|   |   |   |   |   |   |   |   |   |   |--- class: 0\n",
            "|   |   |   |   |   |   |   |   |   |--- feature_8 >  4.50\n",
            "|   |   |   |   |   |   |   |   |   |   |--- feature_3 <= 1.50\n",
            "|   |   |   |   |   |   |   |   |   |   |   |--- truncated branch of depth 3\n",
            "|   |   |   |   |   |   |   |   |   |   |--- feature_3 >  1.50\n",
            "|   |   |   |   |   |   |   |   |   |   |   |--- truncated branch of depth 4\n",
            "|   |   |   |   |   |   |   |   |--- feature_9 >  0.50\n",
            "|   |   |   |   |   |   |   |   |   |--- feature_0 <= 44.50\n",
            "|   |   |   |   |   |   |   |   |   |   |--- class: 0\n",
            "|   |   |   |   |   |   |   |   |   |--- feature_0 >  44.50\n",
            "|   |   |   |   |   |   |   |   |   |   |--- feature_6 <= 20.00\n",
            "|   |   |   |   |   |   |   |   |   |   |   |--- class: 1\n",
            "|   |   |   |   |   |   |   |   |   |   |--- feature_6 >  20.00\n",
            "|   |   |   |   |   |   |   |   |   |   |   |--- class: 0\n",
            "|   |   |--- feature_0 >  46.50\n",
            "|   |   |   |--- feature_3 <= 0.50\n",
            "|   |   |   |   |--- feature_10 <= 167.00\n",
            "|   |   |   |   |   |--- feature_7 <= 0.50\n",
            "|   |   |   |   |   |   |--- feature_0 <= 81.50\n",
            "|   |   |   |   |   |   |   |--- feature_6 <= 16.50\n",
            "|   |   |   |   |   |   |   |   |--- class: 0\n",
            "|   |   |   |   |   |   |   |--- feature_6 >  16.50\n",
            "|   |   |   |   |   |   |   |   |--- feature_6 <= 17.50\n",
            "|   |   |   |   |   |   |   |   |   |--- feature_0 <= 67.00\n",
            "|   |   |   |   |   |   |   |   |   |   |--- class: 0\n",
            "|   |   |   |   |   |   |   |   |   |--- feature_0 >  67.00\n",
            "|   |   |   |   |   |   |   |   |   |   |--- class: 1\n",
            "|   |   |   |   |   |   |   |   |--- feature_6 >  17.50\n",
            "|   |   |   |   |   |   |   |   |   |--- class: 0\n",
            "|   |   |   |   |   |   |--- feature_0 >  81.50\n",
            "|   |   |   |   |   |   |   |--- feature_8 <= 4.50\n",
            "|   |   |   |   |   |   |   |   |--- feature_10 <= 36.50\n",
            "|   |   |   |   |   |   |   |   |   |--- class: 1\n",
            "|   |   |   |   |   |   |   |   |--- feature_10 >  36.50\n",
            "|   |   |   |   |   |   |   |   |   |--- class: 0\n",
            "|   |   |   |   |   |   |   |--- feature_8 >  4.50\n",
            "|   |   |   |   |   |   |   |   |--- feature_9 <= 3.50\n",
            "|   |   |   |   |   |   |   |   |   |--- feature_1 <= 1.50\n",
            "|   |   |   |   |   |   |   |   |   |   |--- class: 1\n",
            "|   |   |   |   |   |   |   |   |   |--- feature_1 >  1.50\n",
            "|   |   |   |   |   |   |   |   |   |   |--- class: 0\n",
            "|   |   |   |   |   |   |   |   |--- feature_9 >  3.50\n",
            "|   |   |   |   |   |   |   |   |   |--- class: 0\n",
            "|   |   |   |   |   |--- feature_7 >  0.50\n",
            "|   |   |   |   |   |   |--- feature_0 <= 67.00\n",
            "|   |   |   |   |   |   |   |--- feature_10 <= 2.50\n",
            "|   |   |   |   |   |   |   |   |--- class: 1\n",
            "|   |   |   |   |   |   |   |--- feature_10 >  2.50\n",
            "|   |   |   |   |   |   |   |   |--- feature_5 <= 1.50\n",
            "|   |   |   |   |   |   |   |   |   |--- class: 1\n",
            "|   |   |   |   |   |   |   |   |--- feature_5 >  1.50\n",
            "|   |   |   |   |   |   |   |   |   |--- feature_0 <= 65.50\n",
            "|   |   |   |   |   |   |   |   |   |   |--- feature_10 <= 60.00\n",
            "|   |   |   |   |   |   |   |   |   |   |   |--- truncated branch of depth 8\n",
            "|   |   |   |   |   |   |   |   |   |   |--- feature_10 >  60.00\n",
            "|   |   |   |   |   |   |   |   |   |   |   |--- truncated branch of depth 6\n",
            "|   |   |   |   |   |   |   |   |   |--- feature_0 >  65.50\n",
            "|   |   |   |   |   |   |   |   |   |   |--- class: 1\n",
            "|   |   |   |   |   |   |--- feature_0 >  67.00\n",
            "|   |   |   |   |   |   |   |--- feature_10 <= 138.50\n",
            "|   |   |   |   |   |   |   |   |--- feature_7 <= 3.50\n",
            "|   |   |   |   |   |   |   |   |   |--- feature_4 <= 0.50\n",
            "|   |   |   |   |   |   |   |   |   |   |--- feature_0 <= 69.00\n",
            "|   |   |   |   |   |   |   |   |   |   |   |--- truncated branch of depth 2\n",
            "|   |   |   |   |   |   |   |   |   |   |--- feature_0 >  69.00\n",
            "|   |   |   |   |   |   |   |   |   |   |   |--- truncated branch of depth 8\n",
            "|   |   |   |   |   |   |   |   |   |--- feature_4 >  0.50\n",
            "|   |   |   |   |   |   |   |   |   |   |--- feature_1 <= 0.50\n",
            "|   |   |   |   |   |   |   |   |   |   |   |--- truncated branch of depth 2\n",
            "|   |   |   |   |   |   |   |   |   |   |--- feature_1 >  0.50\n",
            "|   |   |   |   |   |   |   |   |   |   |   |--- truncated branch of depth 4\n",
            "|   |   |   |   |   |   |   |   |--- feature_7 >  3.50\n",
            "|   |   |   |   |   |   |   |   |   |--- feature_7 <= 4.50\n",
            "|   |   |   |   |   |   |   |   |   |   |--- class: 0\n",
            "|   |   |   |   |   |   |   |   |   |--- feature_7 >  4.50\n",
            "|   |   |   |   |   |   |   |   |   |   |--- feature_7 <= 5.50\n",
            "|   |   |   |   |   |   |   |   |   |   |   |--- truncated branch of depth 5\n",
            "|   |   |   |   |   |   |   |   |   |   |--- feature_7 >  5.50\n",
            "|   |   |   |   |   |   |   |   |   |   |   |--- truncated branch of depth 4\n",
            "|   |   |   |   |   |   |   |--- feature_10 >  138.50\n",
            "|   |   |   |   |   |   |   |   |--- feature_6 <= 15.00\n",
            "|   |   |   |   |   |   |   |   |   |--- feature_10 <= 146.50\n",
            "|   |   |   |   |   |   |   |   |   |   |--- class: 1\n",
            "|   |   |   |   |   |   |   |   |   |--- feature_10 >  146.50\n",
            "|   |   |   |   |   |   |   |   |   |   |--- class: 0\n",
            "|   |   |   |   |   |   |   |   |--- feature_6 >  15.00\n",
            "|   |   |   |   |   |   |   |   |   |--- feature_0 <= 81.50\n",
            "|   |   |   |   |   |   |   |   |   |   |--- feature_10 <= 158.50\n",
            "|   |   |   |   |   |   |   |   |   |   |   |--- class: 0\n",
            "|   |   |   |   |   |   |   |   |   |   |--- feature_10 >  158.50\n",
            "|   |   |   |   |   |   |   |   |   |   |   |--- class: 1\n",
            "|   |   |   |   |   |   |   |   |   |--- feature_0 >  81.50\n",
            "|   |   |   |   |   |   |   |   |   |   |--- class: 1\n",
            "|   |   |   |   |--- feature_10 >  167.00\n",
            "|   |   |   |   |   |--- class: 0\n",
            "|   |   |   |--- feature_3 >  0.50\n",
            "|   |   |   |   |--- feature_9 <= 0.50\n",
            "|   |   |   |   |   |--- feature_4 <= 1.50\n",
            "|   |   |   |   |   |   |--- feature_3 <= 1.50\n",
            "|   |   |   |   |   |   |   |--- feature_0 <= 49.50\n",
            "|   |   |   |   |   |   |   |   |--- class: 1\n",
            "|   |   |   |   |   |   |   |--- feature_0 >  49.50\n",
            "|   |   |   |   |   |   |   |   |--- feature_1 <= 1.50\n",
            "|   |   |   |   |   |   |   |   |   |--- feature_10 <= 17.50\n",
            "|   |   |   |   |   |   |   |   |   |   |--- feature_8 <= 3.00\n",
            "|   |   |   |   |   |   |   |   |   |   |   |--- truncated branch of depth 2\n",
            "|   |   |   |   |   |   |   |   |   |   |--- feature_8 >  3.00\n",
            "|   |   |   |   |   |   |   |   |   |   |   |--- truncated branch of depth 3\n",
            "|   |   |   |   |   |   |   |   |   |--- feature_10 >  17.50\n",
            "|   |   |   |   |   |   |   |   |   |   |--- feature_10 <= 72.50\n",
            "|   |   |   |   |   |   |   |   |   |   |   |--- truncated branch of depth 4\n",
            "|   |   |   |   |   |   |   |   |   |   |--- feature_10 >  72.50\n",
            "|   |   |   |   |   |   |   |   |   |   |   |--- truncated branch of depth 6\n",
            "|   |   |   |   |   |   |   |   |--- feature_1 >  1.50\n",
            "|   |   |   |   |   |   |   |   |   |--- class: 1\n",
            "|   |   |   |   |   |   |--- feature_3 >  1.50\n",
            "|   |   |   |   |   |   |   |--- feature_10 <= 62.50\n",
            "|   |   |   |   |   |   |   |   |--- feature_5 <= 1.50\n",
            "|   |   |   |   |   |   |   |   |   |--- class: 0\n",
            "|   |   |   |   |   |   |   |   |--- feature_5 >  1.50\n",
            "|   |   |   |   |   |   |   |   |   |--- feature_10 <= 52.50\n",
            "|   |   |   |   |   |   |   |   |   |   |--- feature_0 <= 63.50\n",
            "|   |   |   |   |   |   |   |   |   |   |   |--- truncated branch of depth 7\n",
            "|   |   |   |   |   |   |   |   |   |   |--- feature_0 >  63.50\n",
            "|   |   |   |   |   |   |   |   |   |   |   |--- truncated branch of depth 18\n",
            "|   |   |   |   |   |   |   |   |   |--- feature_10 >  52.50\n",
            "|   |   |   |   |   |   |   |   |   |   |--- feature_6 <= 0.50\n",
            "|   |   |   |   |   |   |   |   |   |   |   |--- class: 1\n",
            "|   |   |   |   |   |   |   |   |   |   |--- feature_6 >  0.50\n",
            "|   |   |   |   |   |   |   |   |   |   |   |--- truncated branch of depth 9\n",
            "|   |   |   |   |   |   |   |--- feature_10 >  62.50\n",
            "|   |   |   |   |   |   |   |   |--- feature_5 <= 1.50\n",
            "|   |   |   |   |   |   |   |   |   |--- feature_6 <= 19.50\n",
            "|   |   |   |   |   |   |   |   |   |   |--- feature_6 <= 18.50\n",
            "|   |   |   |   |   |   |   |   |   |   |   |--- truncated branch of depth 8\n",
            "|   |   |   |   |   |   |   |   |   |   |--- feature_6 >  18.50\n",
            "|   |   |   |   |   |   |   |   |   |   |   |--- class: 1\n",
            "|   |   |   |   |   |   |   |   |   |--- feature_6 >  19.50\n",
            "|   |   |   |   |   |   |   |   |   |   |--- class: 0\n",
            "|   |   |   |   |   |   |   |   |--- feature_5 >  1.50\n",
            "|   |   |   |   |   |   |   |   |   |--- feature_6 <= 7.50\n",
            "|   |   |   |   |   |   |   |   |   |   |--- feature_10 <= 157.50\n",
            "|   |   |   |   |   |   |   |   |   |   |   |--- truncated branch of depth 5\n",
            "|   |   |   |   |   |   |   |   |   |   |--- feature_10 >  157.50\n",
            "|   |   |   |   |   |   |   |   |   |   |   |--- truncated branch of depth 5\n",
            "|   |   |   |   |   |   |   |   |   |--- feature_6 >  7.50\n",
            "|   |   |   |   |   |   |   |   |   |   |--- feature_10 <= 257.00\n",
            "|   |   |   |   |   |   |   |   |   |   |   |--- truncated branch of depth 12\n",
            "|   |   |   |   |   |   |   |   |   |   |--- feature_10 >  257.00\n",
            "|   |   |   |   |   |   |   |   |   |   |   |--- truncated branch of depth 4\n",
            "|   |   |   |   |   |--- feature_4 >  1.50\n",
            "|   |   |   |   |   |   |--- feature_10 <= 61.50\n",
            "|   |   |   |   |   |   |   |--- feature_7 <= 1.50\n",
            "|   |   |   |   |   |   |   |   |--- feature_8 <= 4.50\n",
            "|   |   |   |   |   |   |   |   |   |--- class: 0\n",
            "|   |   |   |   |   |   |   |   |--- feature_8 >  4.50\n",
            "|   |   |   |   |   |   |   |   |   |--- feature_0 <= 80.50\n",
            "|   |   |   |   |   |   |   |   |   |   |--- class: 0\n",
            "|   |   |   |   |   |   |   |   |   |--- feature_0 >  80.50\n",
            "|   |   |   |   |   |   |   |   |   |   |--- feature_7 <= 0.50\n",
            "|   |   |   |   |   |   |   |   |   |   |   |--- class: 0\n",
            "|   |   |   |   |   |   |   |   |   |   |--- feature_7 >  0.50\n",
            "|   |   |   |   |   |   |   |   |   |   |   |--- class: 1\n",
            "|   |   |   |   |   |   |   |--- feature_7 >  1.50\n",
            "|   |   |   |   |   |   |   |   |--- class: 0\n",
            "|   |   |   |   |   |   |--- feature_10 >  61.50\n",
            "|   |   |   |   |   |   |   |--- feature_7 <= 6.50\n",
            "|   |   |   |   |   |   |   |   |--- feature_7 <= 3.50\n",
            "|   |   |   |   |   |   |   |   |   |--- feature_8 <= 0.50\n",
            "|   |   |   |   |   |   |   |   |   |   |--- class: 1\n",
            "|   |   |   |   |   |   |   |   |   |--- feature_8 >  0.50\n",
            "|   |   |   |   |   |   |   |   |   |   |--- feature_10 <= 79.50\n",
            "|   |   |   |   |   |   |   |   |   |   |   |--- truncated branch of depth 2\n",
            "|   |   |   |   |   |   |   |   |   |   |--- feature_10 >  79.50\n",
            "|   |   |   |   |   |   |   |   |   |   |   |--- class: 0\n",
            "|   |   |   |   |   |   |   |   |--- feature_7 >  3.50\n",
            "|   |   |   |   |   |   |   |   |   |--- class: 1\n",
            "|   |   |   |   |   |   |   |--- feature_7 >  6.50\n",
            "|   |   |   |   |   |   |   |   |--- class: 0\n",
            "|   |   |   |   |--- feature_9 >  0.50\n",
            "|   |   |   |   |   |--- feature_1 <= 0.50\n",
            "|   |   |   |   |   |   |--- feature_10 <= 162.50\n",
            "|   |   |   |   |   |   |   |--- feature_10 <= 153.00\n",
            "|   |   |   |   |   |   |   |   |--- feature_7 <= 3.50\n",
            "|   |   |   |   |   |   |   |   |   |--- feature_10 <= 6.50\n",
            "|   |   |   |   |   |   |   |   |   |   |--- feature_9 <= 2.00\n",
            "|   |   |   |   |   |   |   |   |   |   |   |--- truncated branch of depth 2\n",
            "|   |   |   |   |   |   |   |   |   |   |--- feature_9 >  2.00\n",
            "|   |   |   |   |   |   |   |   |   |   |   |--- class: 0\n",
            "|   |   |   |   |   |   |   |   |   |--- feature_10 >  6.50\n",
            "|   |   |   |   |   |   |   |   |   |   |--- feature_8 <= 3.50\n",
            "|   |   |   |   |   |   |   |   |   |   |   |--- truncated branch of depth 5\n",
            "|   |   |   |   |   |   |   |   |   |   |--- feature_8 >  3.50\n",
            "|   |   |   |   |   |   |   |   |   |   |   |--- truncated branch of depth 9\n",
            "|   |   |   |   |   |   |   |   |--- feature_7 >  3.50\n",
            "|   |   |   |   |   |   |   |   |   |--- feature_10 <= 43.00\n",
            "|   |   |   |   |   |   |   |   |   |   |--- feature_6 <= 14.50\n",
            "|   |   |   |   |   |   |   |   |   |   |   |--- class: 0\n",
            "|   |   |   |   |   |   |   |   |   |   |--- feature_6 >  14.50\n",
            "|   |   |   |   |   |   |   |   |   |   |   |--- truncated branch of depth 5\n",
            "|   |   |   |   |   |   |   |   |   |--- feature_10 >  43.00\n",
            "|   |   |   |   |   |   |   |   |   |   |--- feature_10 <= 44.50\n",
            "|   |   |   |   |   |   |   |   |   |   |   |--- class: 1\n",
            "|   |   |   |   |   |   |   |   |   |   |--- feature_10 >  44.50\n",
            "|   |   |   |   |   |   |   |   |   |   |   |--- truncated branch of depth 7\n",
            "|   |   |   |   |   |   |   |--- feature_10 >  153.00\n",
            "|   |   |   |   |   |   |   |   |--- feature_5 <= 3.50\n",
            "|   |   |   |   |   |   |   |   |   |--- class: 0\n",
            "|   |   |   |   |   |   |   |   |--- feature_5 >  3.50\n",
            "|   |   |   |   |   |   |   |   |   |--- class: 1\n",
            "|   |   |   |   |   |   |--- feature_10 >  162.50\n",
            "|   |   |   |   |   |   |   |--- class: 0\n",
            "|   |   |   |   |   |--- feature_1 >  0.50\n",
            "|   |   |   |   |   |   |--- feature_10 <= 57.50\n",
            "|   |   |   |   |   |   |   |--- feature_10 <= 55.50\n",
            "|   |   |   |   |   |   |   |   |--- feature_4 <= 1.50\n",
            "|   |   |   |   |   |   |   |   |   |--- feature_1 <= 1.50\n",
            "|   |   |   |   |   |   |   |   |   |   |--- feature_10 <= 11.50\n",
            "|   |   |   |   |   |   |   |   |   |   |   |--- truncated branch of depth 14\n",
            "|   |   |   |   |   |   |   |   |   |   |--- feature_10 >  11.50\n",
            "|   |   |   |   |   |   |   |   |   |   |   |--- truncated branch of depth 19\n",
            "|   |   |   |   |   |   |   |   |   |--- feature_1 >  1.50\n",
            "|   |   |   |   |   |   |   |   |   |   |--- feature_10 <= 33.50\n",
            "|   |   |   |   |   |   |   |   |   |   |   |--- truncated branch of depth 3\n",
            "|   |   |   |   |   |   |   |   |   |   |--- feature_10 >  33.50\n",
            "|   |   |   |   |   |   |   |   |   |   |   |--- truncated branch of depth 2\n",
            "|   |   |   |   |   |   |   |   |--- feature_4 >  1.50\n",
            "|   |   |   |   |   |   |   |   |   |--- feature_10 <= 7.50\n",
            "|   |   |   |   |   |   |   |   |   |   |--- class: 1\n",
            "|   |   |   |   |   |   |   |   |   |--- feature_10 >  7.50\n",
            "|   |   |   |   |   |   |   |   |   |   |--- feature_0 <= 57.00\n",
            "|   |   |   |   |   |   |   |   |   |   |   |--- class: 1\n",
            "|   |   |   |   |   |   |   |   |   |   |--- feature_0 >  57.00\n",
            "|   |   |   |   |   |   |   |   |   |   |   |--- truncated branch of depth 10\n",
            "|   |   |   |   |   |   |   |--- feature_10 >  55.50\n",
            "|   |   |   |   |   |   |   |   |--- feature_0 <= 88.50\n",
            "|   |   |   |   |   |   |   |   |   |--- feature_8 <= 0.50\n",
            "|   |   |   |   |   |   |   |   |   |   |--- class: 1\n",
            "|   |   |   |   |   |   |   |   |   |--- feature_8 >  0.50\n",
            "|   |   |   |   |   |   |   |   |   |   |--- feature_7 <= 1.50\n",
            "|   |   |   |   |   |   |   |   |   |   |   |--- class: 0\n",
            "|   |   |   |   |   |   |   |   |   |   |--- feature_7 >  1.50\n",
            "|   |   |   |   |   |   |   |   |   |   |   |--- truncated branch of depth 10\n",
            "|   |   |   |   |   |   |   |   |--- feature_0 >  88.50\n",
            "|   |   |   |   |   |   |   |   |   |--- feature_7 <= 2.00\n",
            "|   |   |   |   |   |   |   |   |   |   |--- class: 0\n",
            "|   |   |   |   |   |   |   |   |   |--- feature_7 >  2.00\n",
            "|   |   |   |   |   |   |   |   |   |   |--- class: 1\n",
            "|   |   |   |   |   |   |--- feature_10 >  57.50\n",
            "|   |   |   |   |   |   |   |--- feature_6 <= 20.50\n",
            "|   |   |   |   |   |   |   |   |--- feature_6 <= 19.50\n",
            "|   |   |   |   |   |   |   |   |   |--- feature_7 <= 3.50\n",
            "|   |   |   |   |   |   |   |   |   |   |--- feature_9 <= 1.50\n",
            "|   |   |   |   |   |   |   |   |   |   |   |--- truncated branch of depth 9\n",
            "|   |   |   |   |   |   |   |   |   |   |--- feature_9 >  1.50\n",
            "|   |   |   |   |   |   |   |   |   |   |   |--- truncated branch of depth 17\n",
            "|   |   |   |   |   |   |   |   |   |--- feature_7 >  3.50\n",
            "|   |   |   |   |   |   |   |   |   |   |--- feature_4 <= 0.50\n",
            "|   |   |   |   |   |   |   |   |   |   |   |--- truncated branch of depth 10\n",
            "|   |   |   |   |   |   |   |   |   |   |--- feature_4 >  0.50\n",
            "|   |   |   |   |   |   |   |   |   |   |   |--- truncated branch of depth 6\n",
            "|   |   |   |   |   |   |   |   |--- feature_6 >  19.50\n",
            "|   |   |   |   |   |   |   |   |   |--- class: 1\n",
            "|   |   |   |   |   |   |   |--- feature_6 >  20.50\n",
            "|   |   |   |   |   |   |   |   |--- feature_3 <= 1.50\n",
            "|   |   |   |   |   |   |   |   |   |--- feature_9 <= 3.50\n",
            "|   |   |   |   |   |   |   |   |   |   |--- class: 1\n",
            "|   |   |   |   |   |   |   |   |   |--- feature_9 >  3.50\n",
            "|   |   |   |   |   |   |   |   |   |   |--- class: 0\n",
            "|   |   |   |   |   |   |   |   |--- feature_3 >  1.50\n",
            "|   |   |   |   |   |   |   |   |   |--- feature_10 <= 59.50\n",
            "|   |   |   |   |   |   |   |   |   |   |--- feature_7 <= 1.50\n",
            "|   |   |   |   |   |   |   |   |   |   |   |--- truncated branch of depth 2\n",
            "|   |   |   |   |   |   |   |   |   |   |--- feature_7 >  1.50\n",
            "|   |   |   |   |   |   |   |   |   |   |   |--- truncated branch of depth 2\n",
            "|   |   |   |   |   |   |   |   |   |--- feature_10 >  59.50\n",
            "|   |   |   |   |   |   |   |   |   |   |--- feature_7 <= 2.50\n",
            "|   |   |   |   |   |   |   |   |   |   |   |--- truncated branch of depth 9\n",
            "|   |   |   |   |   |   |   |   |   |   |--- feature_7 >  2.50\n",
            "|   |   |   |   |   |   |   |   |   |   |   |--- truncated branch of depth 14\n",
            "|   |--- feature_2 >  0.50\n",
            "|   |   |--- feature_6 <= 0.50\n",
            "|   |   |   |--- feature_10 <= 13.50\n",
            "|   |   |   |   |--- feature_7 <= 5.00\n",
            "|   |   |   |   |   |--- class: 1\n",
            "|   |   |   |   |--- feature_7 >  5.00\n",
            "|   |   |   |   |   |--- class: 0\n",
            "|   |   |   |--- feature_10 >  13.50\n",
            "|   |   |   |   |--- feature_7 <= 0.50\n",
            "|   |   |   |   |   |--- feature_10 <= 53.00\n",
            "|   |   |   |   |   |   |--- class: 1\n",
            "|   |   |   |   |   |--- feature_10 >  53.00\n",
            "|   |   |   |   |   |   |--- feature_10 <= 112.50\n",
            "|   |   |   |   |   |   |   |--- class: 0\n",
            "|   |   |   |   |   |   |--- feature_10 >  112.50\n",
            "|   |   |   |   |   |   |   |--- class: 1\n",
            "|   |   |   |   |--- feature_7 >  0.50\n",
            "|   |   |   |   |   |--- feature_10 <= 37.50\n",
            "|   |   |   |   |   |   |--- class: 0\n",
            "|   |   |   |   |   |--- feature_10 >  37.50\n",
            "|   |   |   |   |   |   |--- feature_10 <= 95.50\n",
            "|   |   |   |   |   |   |   |--- feature_8 <= 3.00\n",
            "|   |   |   |   |   |   |   |   |--- class: 1\n",
            "|   |   |   |   |   |   |   |--- feature_8 >  3.00\n",
            "|   |   |   |   |   |   |   |   |--- feature_7 <= 4.50\n",
            "|   |   |   |   |   |   |   |   |   |--- class: 0\n",
            "|   |   |   |   |   |   |   |   |--- feature_7 >  4.50\n",
            "|   |   |   |   |   |   |   |   |   |--- feature_5 <= 4.50\n",
            "|   |   |   |   |   |   |   |   |   |   |--- class: 1\n",
            "|   |   |   |   |   |   |   |   |   |--- feature_5 >  4.50\n",
            "|   |   |   |   |   |   |   |   |   |   |--- class: 0\n",
            "|   |   |   |   |   |   |--- feature_10 >  95.50\n",
            "|   |   |   |   |   |   |   |--- class: 0\n",
            "|   |   |--- feature_6 >  0.50\n",
            "|   |   |   |--- feature_10 <= 13.50\n",
            "|   |   |   |   |--- feature_4 <= 1.50\n",
            "|   |   |   |   |   |--- feature_0 <= 20.50\n",
            "|   |   |   |   |   |   |--- class: 1\n",
            "|   |   |   |   |   |--- feature_0 >  20.50\n",
            "|   |   |   |   |   |   |--- feature_6 <= 14.50\n",
            "|   |   |   |   |   |   |   |--- feature_3 <= 0.50\n",
            "|   |   |   |   |   |   |   |   |--- feature_10 <= 10.50\n",
            "|   |   |   |   |   |   |   |   |   |--- feature_6 <= 9.50\n",
            "|   |   |   |   |   |   |   |   |   |   |--- feature_6 <= 3.00\n",
            "|   |   |   |   |   |   |   |   |   |   |   |--- truncated branch of depth 2\n",
            "|   |   |   |   |   |   |   |   |   |   |--- feature_6 >  3.00\n",
            "|   |   |   |   |   |   |   |   |   |   |   |--- class: 0\n",
            "|   |   |   |   |   |   |   |   |   |--- feature_6 >  9.50\n",
            "|   |   |   |   |   |   |   |   |   |   |--- feature_0 <= 84.50\n",
            "|   |   |   |   |   |   |   |   |   |   |   |--- class: 1\n",
            "|   |   |   |   |   |   |   |   |   |   |--- feature_0 >  84.50\n",
            "|   |   |   |   |   |   |   |   |   |   |   |--- class: 0\n",
            "|   |   |   |   |   |   |   |   |--- feature_10 >  10.50\n",
            "|   |   |   |   |   |   |   |   |   |--- class: 0\n",
            "|   |   |   |   |   |   |   |--- feature_3 >  0.50\n",
            "|   |   |   |   |   |   |   |   |--- feature_10 <= 11.50\n",
            "|   |   |   |   |   |   |   |   |   |--- feature_8 <= 4.50\n",
            "|   |   |   |   |   |   |   |   |   |   |--- feature_10 <= 4.50\n",
            "|   |   |   |   |   |   |   |   |   |   |   |--- class: 1\n",
            "|   |   |   |   |   |   |   |   |   |   |--- feature_10 >  4.50\n",
            "|   |   |   |   |   |   |   |   |   |   |   |--- truncated branch of depth 3\n",
            "|   |   |   |   |   |   |   |   |   |--- feature_8 >  4.50\n",
            "|   |   |   |   |   |   |   |   |   |   |--- class: 0\n",
            "|   |   |   |   |   |   |   |   |--- feature_10 >  11.50\n",
            "|   |   |   |   |   |   |   |   |   |--- feature_6 <= 7.50\n",
            "|   |   |   |   |   |   |   |   |   |   |--- class: 0\n",
            "|   |   |   |   |   |   |   |   |   |--- feature_6 >  7.50\n",
            "|   |   |   |   |   |   |   |   |   |   |--- feature_0 <= 74.00\n",
            "|   |   |   |   |   |   |   |   |   |   |   |--- class: 0\n",
            "|   |   |   |   |   |   |   |   |   |   |--- feature_0 >  74.00\n",
            "|   |   |   |   |   |   |   |   |   |   |   |--- class: 1\n",
            "|   |   |   |   |   |   |--- feature_6 >  14.50\n",
            "|   |   |   |   |   |   |   |--- feature_5 <= 3.50\n",
            "|   |   |   |   |   |   |   |   |--- feature_6 <= 20.50\n",
            "|   |   |   |   |   |   |   |   |   |--- feature_5 <= 1.50\n",
            "|   |   |   |   |   |   |   |   |   |   |--- class: 0\n",
            "|   |   |   |   |   |   |   |   |   |--- feature_5 >  1.50\n",
            "|   |   |   |   |   |   |   |   |   |   |--- class: 1\n",
            "|   |   |   |   |   |   |   |   |--- feature_6 >  20.50\n",
            "|   |   |   |   |   |   |   |   |   |--- class: 0\n",
            "|   |   |   |   |   |   |   |--- feature_5 >  3.50\n",
            "|   |   |   |   |   |   |   |   |--- feature_9 <= 4.50\n",
            "|   |   |   |   |   |   |   |   |   |--- feature_10 <= 3.50\n",
            "|   |   |   |   |   |   |   |   |   |   |--- feature_10 <= 2.50\n",
            "|   |   |   |   |   |   |   |   |   |   |   |--- class: 0\n",
            "|   |   |   |   |   |   |   |   |   |   |--- feature_10 >  2.50\n",
            "|   |   |   |   |   |   |   |   |   |   |   |--- class: 1\n",
            "|   |   |   |   |   |   |   |   |   |--- feature_10 >  3.50\n",
            "|   |   |   |   |   |   |   |   |   |   |--- feature_7 <= 1.50\n",
            "|   |   |   |   |   |   |   |   |   |   |   |--- truncated branch of depth 3\n",
            "|   |   |   |   |   |   |   |   |   |   |--- feature_7 >  1.50\n",
            "|   |   |   |   |   |   |   |   |   |   |   |--- class: 0\n",
            "|   |   |   |   |   |   |   |   |--- feature_9 >  4.50\n",
            "|   |   |   |   |   |   |   |   |   |--- feature_7 <= 4.50\n",
            "|   |   |   |   |   |   |   |   |   |   |--- class: 1\n",
            "|   |   |   |   |   |   |   |   |   |--- feature_7 >  4.50\n",
            "|   |   |   |   |   |   |   |   |   |   |--- class: 0\n",
            "|   |   |   |   |--- feature_4 >  1.50\n",
            "|   |   |   |   |   |--- feature_6 <= 17.50\n",
            "|   |   |   |   |   |   |--- feature_1 <= 0.50\n",
            "|   |   |   |   |   |   |   |--- class: 0\n",
            "|   |   |   |   |   |   |--- feature_1 >  0.50\n",
            "|   |   |   |   |   |   |   |--- feature_5 <= 3.50\n",
            "|   |   |   |   |   |   |   |   |--- class: 0\n",
            "|   |   |   |   |   |   |   |--- feature_5 >  3.50\n",
            "|   |   |   |   |   |   |   |   |--- class: 1\n",
            "|   |   |   |   |   |--- feature_6 >  17.50\n",
            "|   |   |   |   |   |   |--- class: 0\n",
            "|   |   |   |--- feature_10 >  13.50\n",
            "|   |   |   |   |--- feature_10 <= 323.00\n",
            "|   |   |   |   |   |--- feature_7 <= 4.50\n",
            "|   |   |   |   |   |   |--- feature_0 <= 35.50\n",
            "|   |   |   |   |   |   |   |--- feature_10 <= 163.00\n",
            "|   |   |   |   |   |   |   |   |--- feature_10 <= 23.50\n",
            "|   |   |   |   |   |   |   |   |   |--- feature_7 <= 1.50\n",
            "|   |   |   |   |   |   |   |   |   |   |--- class: 0\n",
            "|   |   |   |   |   |   |   |   |   |--- feature_7 >  1.50\n",
            "|   |   |   |   |   |   |   |   |   |   |--- class: 1\n",
            "|   |   |   |   |   |   |   |   |--- feature_10 >  23.50\n",
            "|   |   |   |   |   |   |   |   |   |--- feature_10 <= 47.50\n",
            "|   |   |   |   |   |   |   |   |   |   |--- class: 0\n",
            "|   |   |   |   |   |   |   |   |   |--- feature_10 >  47.50\n",
            "|   |   |   |   |   |   |   |   |   |   |--- feature_6 <= 3.50\n",
            "|   |   |   |   |   |   |   |   |   |   |   |--- truncated branch of depth 2\n",
            "|   |   |   |   |   |   |   |   |   |   |--- feature_6 >  3.50\n",
            "|   |   |   |   |   |   |   |   |   |   |   |--- truncated branch of depth 6\n",
            "|   |   |   |   |   |   |   |--- feature_10 >  163.00\n",
            "|   |   |   |   |   |   |   |   |--- class: 1\n",
            "|   |   |   |   |   |   |--- feature_0 >  35.50\n",
            "|   |   |   |   |   |   |   |--- feature_0 <= 82.50\n",
            "|   |   |   |   |   |   |   |   |--- feature_6 <= 13.50\n",
            "|   |   |   |   |   |   |   |   |   |--- feature_7 <= 2.50\n",
            "|   |   |   |   |   |   |   |   |   |   |--- feature_3 <= 0.50\n",
            "|   |   |   |   |   |   |   |   |   |   |   |--- truncated branch of depth 4\n",
            "|   |   |   |   |   |   |   |   |   |   |--- feature_3 >  0.50\n",
            "|   |   |   |   |   |   |   |   |   |   |   |--- class: 0\n",
            "|   |   |   |   |   |   |   |   |   |--- feature_7 >  2.50\n",
            "|   |   |   |   |   |   |   |   |   |   |--- feature_8 <= 4.50\n",
            "|   |   |   |   |   |   |   |   |   |   |   |--- class: 0\n",
            "|   |   |   |   |   |   |   |   |   |   |--- feature_8 >  4.50\n",
            "|   |   |   |   |   |   |   |   |   |   |   |--- truncated branch of depth 6\n",
            "|   |   |   |   |   |   |   |   |--- feature_6 >  13.50\n",
            "|   |   |   |   |   |   |   |   |   |--- feature_0 <= 47.50\n",
            "|   |   |   |   |   |   |   |   |   |   |--- feature_7 <= 2.00\n",
            "|   |   |   |   |   |   |   |   |   |   |   |--- class: 1\n",
            "|   |   |   |   |   |   |   |   |   |   |--- feature_7 >  2.00\n",
            "|   |   |   |   |   |   |   |   |   |   |   |--- class: 0\n",
            "|   |   |   |   |   |   |   |   |   |--- feature_0 >  47.50\n",
            "|   |   |   |   |   |   |   |   |   |   |--- feature_10 <= 15.50\n",
            "|   |   |   |   |   |   |   |   |   |   |   |--- truncated branch of depth 2\n",
            "|   |   |   |   |   |   |   |   |   |   |--- feature_10 >  15.50\n",
            "|   |   |   |   |   |   |   |   |   |   |   |--- truncated branch of depth 4\n",
            "|   |   |   |   |   |   |   |--- feature_0 >  82.50\n",
            "|   |   |   |   |   |   |   |   |--- feature_8 <= 4.50\n",
            "|   |   |   |   |   |   |   |   |   |--- feature_8 <= 2.50\n",
            "|   |   |   |   |   |   |   |   |   |   |--- feature_10 <= 111.50\n",
            "|   |   |   |   |   |   |   |   |   |   |   |--- truncated branch of depth 8\n",
            "|   |   |   |   |   |   |   |   |   |   |--- feature_10 >  111.50\n",
            "|   |   |   |   |   |   |   |   |   |   |   |--- truncated branch of depth 3\n",
            "|   |   |   |   |   |   |   |   |   |--- feature_8 >  2.50\n",
            "|   |   |   |   |   |   |   |   |   |   |--- feature_5 <= 1.50\n",
            "|   |   |   |   |   |   |   |   |   |   |   |--- class: 1\n",
            "|   |   |   |   |   |   |   |   |   |   |--- feature_5 >  1.50\n",
            "|   |   |   |   |   |   |   |   |   |   |   |--- truncated branch of depth 9\n",
            "|   |   |   |   |   |   |   |   |--- feature_8 >  4.50\n",
            "|   |   |   |   |   |   |   |   |   |--- feature_10 <= 188.00\n",
            "|   |   |   |   |   |   |   |   |   |   |--- feature_5 <= 3.50\n",
            "|   |   |   |   |   |   |   |   |   |   |   |--- truncated branch of depth 6\n",
            "|   |   |   |   |   |   |   |   |   |   |--- feature_5 >  3.50\n",
            "|   |   |   |   |   |   |   |   |   |   |   |--- truncated branch of depth 13\n",
            "|   |   |   |   |   |   |   |   |   |--- feature_10 >  188.00\n",
            "|   |   |   |   |   |   |   |   |   |   |--- feature_10 <= 303.00\n",
            "|   |   |   |   |   |   |   |   |   |   |   |--- truncated branch of depth 4\n",
            "|   |   |   |   |   |   |   |   |   |   |--- feature_10 >  303.00\n",
            "|   |   |   |   |   |   |   |   |   |   |   |--- class: 0\n",
            "|   |   |   |   |   |--- feature_7 >  4.50\n",
            "|   |   |   |   |   |   |--- feature_1 <= 1.50\n",
            "|   |   |   |   |   |   |   |--- feature_8 <= 3.50\n",
            "|   |   |   |   |   |   |   |   |--- feature_8 <= 2.50\n",
            "|   |   |   |   |   |   |   |   |   |--- feature_6 <= 13.50\n",
            "|   |   |   |   |   |   |   |   |   |   |--- feature_6 <= 4.00\n",
            "|   |   |   |   |   |   |   |   |   |   |   |--- class: 0\n",
            "|   |   |   |   |   |   |   |   |   |   |--- feature_6 >  4.00\n",
            "|   |   |   |   |   |   |   |   |   |   |   |--- truncated branch of depth 2\n",
            "|   |   |   |   |   |   |   |   |   |--- feature_6 >  13.50\n",
            "|   |   |   |   |   |   |   |   |   |   |--- class: 0\n",
            "|   |   |   |   |   |   |   |   |--- feature_8 >  2.50\n",
            "|   |   |   |   |   |   |   |   |   |--- class: 1\n",
            "|   |   |   |   |   |   |   |--- feature_8 >  3.50\n",
            "|   |   |   |   |   |   |   |   |--- feature_4 <= 1.50\n",
            "|   |   |   |   |   |   |   |   |   |--- feature_9 <= 1.50\n",
            "|   |   |   |   |   |   |   |   |   |   |--- feature_9 <= 0.50\n",
            "|   |   |   |   |   |   |   |   |   |   |   |--- class: 0\n",
            "|   |   |   |   |   |   |   |   |   |   |--- feature_9 >  0.50\n",
            "|   |   |   |   |   |   |   |   |   |   |   |--- truncated branch of depth 5\n",
            "|   |   |   |   |   |   |   |   |   |--- feature_9 >  1.50\n",
            "|   |   |   |   |   |   |   |   |   |   |--- class: 0\n",
            "|   |   |   |   |   |   |   |   |--- feature_4 >  1.50\n",
            "|   |   |   |   |   |   |   |   |   |--- feature_6 <= 4.00\n",
            "|   |   |   |   |   |   |   |   |   |   |--- class: 1\n",
            "|   |   |   |   |   |   |   |   |   |--- feature_6 >  4.00\n",
            "|   |   |   |   |   |   |   |   |   |   |--- feature_0 <= 87.00\n",
            "|   |   |   |   |   |   |   |   |   |   |   |--- class: 0\n",
            "|   |   |   |   |   |   |   |   |   |   |--- feature_0 >  87.00\n",
            "|   |   |   |   |   |   |   |   |   |   |   |--- truncated branch of depth 2\n",
            "|   |   |   |   |   |   |--- feature_1 >  1.50\n",
            "|   |   |   |   |   |   |   |--- feature_3 <= 0.50\n",
            "|   |   |   |   |   |   |   |   |--- class: 0\n",
            "|   |   |   |   |   |   |   |--- feature_3 >  0.50\n",
            "|   |   |   |   |   |   |   |   |--- class: 1\n",
            "|   |   |   |   |--- feature_10 >  323.00\n",
            "|   |   |   |   |   |--- feature_0 <= 84.50\n",
            "|   |   |   |   |   |   |--- feature_0 <= 44.00\n",
            "|   |   |   |   |   |   |   |--- class: 1\n",
            "|   |   |   |   |   |   |--- feature_0 >  44.00\n",
            "|   |   |   |   |   |   |   |--- class: 0\n",
            "|   |   |   |   |   |--- feature_0 >  84.50\n",
            "|   |   |   |   |   |   |--- class: 1\n",
            "\n"
          ]
        }
      ]
    }
  ]
}